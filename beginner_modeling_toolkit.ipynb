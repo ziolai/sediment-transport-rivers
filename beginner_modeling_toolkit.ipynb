{
 "cells": [
  {
   "cell_type": "markdown",
   "id": "3a74f2a5-6a1a-48f1-93aa-cfc08bf43f10",
   "metadata": {},
   "source": [
    "# Using ModelingToolkit"
   ]
  },
  {
   "cell_type": "code",
   "execution_count": null,
   "id": "7a2d398e-335a-4042-b4a2-0845011baafb",
   "metadata": {},
   "outputs": [],
   "source": [
    "using ModelingToolkit \n",
    "using MethodOfLines \n",
    "using OrdinaryDiffEq \n",
    "using DomainSets\n",
    "using FFTW \n",
    "using Plots"
   ]
  },
  {
   "cell_type": "markdown",
   "id": "a20f179d-f18e-4c09-b84e-e3389490dc8d",
   "metadata": {},
   "source": [
    "## Section 1: Introduction \n",
    "More later. "
   ]
  },
  {
   "cell_type": "markdown",
   "id": "7fbc41ef-54e7-45cf-8db5-e8ec46b8313a",
   "metadata": {},
   "source": [
    "## Section 2: 1D Heat Equation \n",
    "Solves the heat equation in 1D space ($x$) and time ($t$).  "
   ]
  },
  {
   "cell_type": "code",
   "execution_count": null,
   "id": "24290782-5b5f-4c24-920e-a8216f1a893d",
   "metadata": {},
   "outputs": [],
   "source": [
    "# Parameters, variables, and derivatives\n",
    "@parameters x t\n",
    "@variables u(..)\n",
    "Dxx = Differential(x)^2\n",
    "Dt = Differential(t)\n",
    "\n",
    "#PDE\n",
    "alpha = 1 # thermal diffusivity  \n",
    "eq  = [ Dt(u(x,t)) ~ alpha*Dxx(u(x,t)) ] \n",
    "\n",
    "mypi = 3.1415\n",
    "u0(x,t) = sin(mypi*x)*exp(-pi*c*t)\n",
    "\n",
    "# Initial and boundary conditions\n",
    "# Initial velocity is still missing \n",
    "bcs = [ u(0.,t) ~ 0.,# for all t > 0\n",
    "        u(1.,t) ~ 0.,\n",
    "        u(x,0) ~ sin(mypi*x)]\n",
    "\n",
    "# Space and time domains\n",
    "maxt = .5 \n",
    "domains = [x ∈ (0.0,1.0), \n",
    "           t ∈ (0.0,maxt)]\n",
    "\n",
    "@named pdesys = PDESystem(eq,bcs,domains,[x,t],[u(x,t)])\n",
    "\n",
    "#  Define discretization \n",
    "N = 32\n",
    "order = 2 \n",
    "discretization = MOLFiniteDifference([x=>N], t, approx_order=order)\n",
    "\n",
    "# Convert the PDE problem into an ODE problem\n",
    "println(\"Discretization:\")\n",
    "prob = discretize(pdesys,discretization)\n",
    "\n",
    "println(\"Solve:\")\n",
    "sol = solve(prob, TRBDF2(),saveat=maxt/10)\n",
    "\n",
    "# Plot results\n",
    "surface(sol[t], sol[x], sol[u(x,t)],xlabel=\"t\",ylabel=\"x\") "
   ]
  },
  {
   "cell_type": "markdown",
   "id": "421c2c11-72b7-47e3-aba1-e0c81558f494",
   "metadata": {},
   "source": [
    "## Section 3: 1D Wave Equation - Case (1/4): Linear Undamped Unforced \n",
    "Solves the wave equation in 1D space ($x$) and time ($t$) separated into two first order in time equations. More.     "
   ]
  },
  {
   "cell_type": "markdown",
   "id": "e222d00a-1585-4035-a8cd-bfed09b3fea3",
   "metadata": {},
   "source": [
    "### Section 1.3: Case (1/4): Time Integration "
   ]
  },
  {
   "cell_type": "code",
   "execution_count": null,
   "id": "e8a28eea-885b-4d67-801f-f93ff1ac13f9",
   "metadata": {},
   "outputs": [],
   "source": [
    "# Parameters, variables, and derivatives\n",
    "@parameters x t\n",
    "@variables u(..) v(..)\n",
    "Dxx = Differential(x)^2\n",
    "Dtt = Differential(t)^2\n",
    "Dt = Differential(t)\n",
    "Dx = Differential(x)\n",
    "\n",
    "#2D PDE\n",
    "c=1 # wave velocity \n",
    "eq  = [ Dt(u(x,t)) ~ v(x,t),\n",
    "        Dt(v(x,t)) ~ c^2*Dxx(u(x,t))] \n",
    "\n",
    "# Avoid issue with pi in ModelingToolkit\n",
    "# see e.g. https://discourse.julialang.org/t/discretization-of-semi-coupled-wave-and-diffusion-equations-fails-for-step-size-of-pi-25n-using-methodoflines-jl/106091 \n",
    "mypi = 3.1415\n",
    "\n",
    "# Initial and boundary conditions\n",
    "# Initial velocity is still missing \n",
    "bcs = [ u(0.,t) ~ 0.,         # left BC for position u\n",
    "        u(1.,t) ~ 0.,         # right BC for position u \n",
    "        v(0,t) ~ 0.,          # left BC for velocity v \n",
    "        v(1,t) ~ 0.,          # right BC for velocity v\n",
    "        u(x,0) ~ sin(mypi*x), # IC for position u \n",
    "        v(x,0) ~ 0.0]         # IC for velocity v \n",
    "\n",
    "# Space and time domains\n",
    "maxt = 10\n",
    "domains = [x ∈ (0.0,1.0), \n",
    "           t ∈ (0.0,maxt)]\n",
    "\n",
    "@named pdesys = PDESystem(eq,bcs,domains,[x,t],[u(x,t), v(x,t)])\n",
    "\n",
    "#  Define discretization \n",
    "N = 32\n",
    "order = 2 \n",
    "discretization = MOLFiniteDifference([x=>N], t, approx_order=order)\n",
    "\n",
    "# Convert the PDE problem into an ODE problem\n",
    "println(\"Discretization:\")\n",
    "prob = discretize(pdesys,discretization)\n",
    "\n",
    "println(\"Solve:\")\n",
    "sol = solve(prob, TRBDF2(), reltol = 1e-4, abstol = 1e-8)\n",
    "\n",
    "# Plot results\n",
    "p1 = surface(sol[t], sol[x], sol[u(x,t)],xlabel=\"t\",ylabel=\"x\",title=\"position\") \n",
    "p2 = surface(sol[t], sol[x], sol[v(x,t)],xlabel=\"t\",ylabel=\"x\",title=\"velocity\") \n",
    "plot(p1,p2,layout=(1,2))"
   ]
  },
  {
   "cell_type": "markdown",
   "id": "ed517106-0a2f-4b10-bbcb-0b37c3b765c1",
   "metadata": {},
   "source": [
    "### Section 2.3: Case (1/4): Plot Time Traces "
   ]
  },
  {
   "cell_type": "code",
   "execution_count": null,
   "id": "58c869ab-7612-4755-bc4e-ba9e67807e99",
   "metadata": {},
   "outputs": [],
   "source": [
    "xquart = div(N,4); xmid = div(N,2); x3quart = 3*xquart\n",
    "uu = sol[u(x,t)]; vv = sol[v(x,t)]; \n",
    "plot(sol[t],uu[xquart,:],xlabel=\"t\",label=\"x=.25\")\n",
    "plot!(sol[t],uu[xmid,:],xlabel=\"t\",label=\"x=.5\")\n",
    "p1 = plot!(sol[t],uu[3*xquart,:],xlabel=\"t\",label=\"x=.75\",title=\"position\")\n",
    "plot(sol[t],vv[xquart,:],xlabel=\"t\",label=\"x=.25\")\n",
    "plot!(sol[t],vv[xmid,:],xlabel=\"t\",label=\"x=.5\")\n",
    "p2 = plot!(sol[t],vv[3*xquart,:],xlabel=\"t\",label=\"x=.75\",title=\"velocity\")\n",
    "plot(p1,p2,layout=(1,2)) "
   ]
  },
  {
   "cell_type": "markdown",
   "id": "bafacc68-a1a9-4dac-92e5-5855346938fe",
   "metadata": {},
   "source": [
    "## Section 4: 1D Wave Equation -  Case (2/4): Linear Damped Unforced \n",
    "Damped version of above. "
   ]
  },
  {
   "cell_type": "markdown",
   "id": "6c92b212-4b1e-404c-b23a-4fd873679d6c",
   "metadata": {},
   "source": [
    "### Section 1.4: Case (2/4): Time Integration "
   ]
  },
  {
   "cell_type": "code",
   "execution_count": null,
   "id": "7baf09b2-f36f-4b22-b3aa-89d5c47d9895",
   "metadata": {},
   "outputs": [],
   "source": [
    "# Parameters, variables, and derivatives\n",
    "@parameters x t\n",
    "@variables u(..) v(..)\n",
    "Dxx = Differential(x)^2\n",
    "Dtt = Differential(t)^2\n",
    "Dt = Differential(t)\n",
    "Dx = Differential(x)\n",
    "\n",
    "#2D PDE\n",
    "c=1 # wave velocity \n",
    "ga=.5 # damping coefficient  \n",
    "eq  = [ Dt(u(x,t)) ~ v(x,t),\n",
    "        Dt(v(x,t)) ~ c^2*Dxx(u(x,t)) - ga*v(x,t)] \n",
    "\n",
    "# Avoid issue with pi in ModelingToolkit\n",
    "mypi = 3.1415\n",
    "\n",
    "# Initial and boundary conditions\n",
    "# Initial velocity is still missing \n",
    "bcs = [ u(0.,t) ~ 0.,         # left BC for position u\n",
    "        u(1.,t) ~ 0.,         # right BC for position u \n",
    "        v(0,t) ~ 0.,          # left BC for velocity v \n",
    "        v(1,t) ~ 0.,          # right BC for velocity v\n",
    "        u(x,0) ~ sin(mypi*x), # IC for position u \n",
    "        v(x,0) ~ 0.0]         # IC for velocity v \n",
    "\n",
    "# Space and time domains\n",
    "maxt = 10\n",
    "domains = [x ∈ (0.0,1.0), \n",
    "           t ∈ (0.0,maxt)]\n",
    "\n",
    "@named pdesys = PDESystem(eq,bcs,domains,[x,t],[u(x,t), v(x,t)])\n",
    "\n",
    "#  Define discretization \n",
    "N = 32\n",
    "order = 2 \n",
    "discretization = MOLFiniteDifference([x=>N], t, approx_order=order)\n",
    "\n",
    "# Convert the PDE problem into an ODE problem\n",
    "println(\"Discretization:\")\n",
    "prob = discretize(pdesys,discretization)\n",
    "\n",
    "println(\"Solve:\")\n",
    "sol = solve(prob, TRBDF2(), reltol = 1e-4, abstol = 1e-8)\n",
    "\n",
    "# Plot results\n",
    "p1 = surface(sol[t], sol[x], sol[u(x,t)],xlabel=\"t\",ylabel=\"x\",title=\"position\") \n",
    "p2 = surface(sol[t], sol[x], sol[v(x,t)],xlabel=\"t\",ylabel=\"x\",title=\"velocity\") \n",
    "plot(p1,p2,layout=(1,2))"
   ]
  },
  {
   "cell_type": "markdown",
   "id": "72afbf97-d663-454a-aa0d-a4dc3e8c3133",
   "metadata": {},
   "source": [
    "### Section 2.4: Case (2/4): Plot Time Traces "
   ]
  },
  {
   "cell_type": "code",
   "execution_count": null,
   "id": "617fb69d-9991-4547-b743-16af501586d3",
   "metadata": {},
   "outputs": [],
   "source": [
    "# plot traces \n",
    "xquart = div(N,4); xmid = div(N,2); x3quart = 3*xquart\n",
    "uu = sol[u(x,t)]; vv = sol[v(x,t)]; \n",
    "plot(sol[t],uu[xquart,:],xlabel=\"t\",label=\"x=.25\")\n",
    "plot!(sol[t],uu[xmid,:],xlabel=\"t\",label=\"x=.5\")\n",
    "p1 = plot!(sol[t],uu[3*xquart,:],xlabel=\"t\",label=\"x=.75\",title=\"position\")\n",
    "plot(sol[t],vv[xquart,:],xlabel=\"t\",label=\"x=.25\")\n",
    "plot!(sol[t],vv[xmid,:],xlabel=\"t\",label=\"x=.5\")\n",
    "p2 = plot!(sol[t],vv[3*xquart,:],xlabel=\"t\",label=\"x=.75\",title=\"velocity\")\n",
    "plot(p1,p2,layout=(1,2)) "
   ]
  },
  {
   "cell_type": "markdown",
   "id": "7438ec08-4c30-4d4d-b6b0-82e358f504f8",
   "metadata": {},
   "source": [
    "## Section 5: 1D Wave Equation - Case (3/4): Linear Damped Forced \n",
    "Forced version of above. \n",
    "Harmonic balance method is exact after sufficientl long time. \n",
    "Establish link with Helmholtz equation equation  through the wave number. `"
   ]
  },
  {
   "cell_type": "markdown",
   "id": "0d18dea1-4d75-43fe-a1ae-e777f430cc1b",
   "metadata": {},
   "source": [
    "### Section 1.5: Case (3/4): Time Integration "
   ]
  },
  {
   "cell_type": "code",
   "execution_count": null,
   "id": "3d3c07ca-a101-494f-97e1-feb6fe1201c6",
   "metadata": {},
   "outputs": [],
   "source": [
    "# Parameters, variables, and derivatives\n",
    "@parameters x t\n",
    "@variables u(..) v(..)\n",
    "Dxx = Differential(x)^2\n",
    "Dtt = Differential(t)^2\n",
    "Dt = Differential(t)\n",
    "Dx = Differential(x)\n",
    "\n",
    "# Avoid issue with pi in ModelingToolkit\n",
    "mypi = 3.1415\n",
    "\n",
    "#2D PDE\n",
    "c=1      # wave velocity \n",
    "ga=5    # damping coefficient \n",
    "omd=5    # angular frequency of driving force - to write: write this as 2*pi*freqd \n",
    "F0=1000     # amplitude of angular force  \n",
    "eq  = [ Dt(u(x,t)) ~ v(x,t),\n",
    "        Dt(v(x,t)) ~ c^2*Dxx(u(x,t)) - ga*v(x,t) + F0*sin(3*mypi*x)*sin(omd*t)] \n",
    "\n",
    "# Initial and boundary conditions\n",
    "# Initial velocity is still missing \n",
    "bcs = [ u(0.,t) ~ 0.,         # left BC for position u\n",
    "        u(1.,t) ~ 0.,         # right BC for position u \n",
    "        v(0,t) ~ 0.,          # left BC for velocity v \n",
    "        v(1,t) ~ 0.,          # right BC for velocity v\n",
    "        u(x,0) ~ sin(mypi*x), # IC for position u \n",
    "        v(x,0) ~ 0.0]         # IC for velocity v \n",
    "\n",
    "# Space and time domains\n",
    "maxt = 40\n",
    "domains = [x ∈ (0.0,1.0), \n",
    "           t ∈ (0.0,maxt)]\n",
    "\n",
    "@named pdesys = PDESystem(eq,bcs,domains,[x,t],[u(x,t), v(x,t)])\n",
    "\n",
    "#  Define discretization \n",
    "N = 100 # 32\n",
    "order = 2 \n",
    "discretization = MOLFiniteDifference([x=>N], t, approx_order=order)\n",
    "\n",
    "# Convert the PDE problem into an ODE problem\n",
    "println(\"Discretization:\")\n",
    "prob = discretize(pdesys,discretization)\n",
    "\n",
    "println(\"Solve:\")\n",
    "sol = solve(prob, TRBDF2(), reltol = 1e-4, abstol = 1e-8)\n",
    "\n",
    "# Plot results\n",
    "p1 = surface(sol[t], sol[x], sol[u(x,t)],xlabel=\"t\",ylabel=\"x\",title=\"position\") \n",
    "p2 = surface(sol[t], sol[x], sol[v(x,t)],xlabel=\"t\",ylabel=\"x\",title=\"velocity\") \n",
    "plot(p1,p2,layout=(1,2))"
   ]
  },
  {
   "cell_type": "markdown",
   "id": "f104296c-1c73-4f02-8ad9-5c03844e3a78",
   "metadata": {},
   "source": [
    "### Section 2.5: Case (3/4): Plot Time Traces "
   ]
  },
  {
   "cell_type": "code",
   "execution_count": null,
   "id": "d1283e11-fc7f-47c2-a865-f7efbe25e81a",
   "metadata": {},
   "outputs": [],
   "source": [
    "# plot traces \n",
    "xquart = div(N,4); xmid = div(N,2); x3quart = 3*xquart\n",
    "uu = sol[u(x,t)]; vv = sol[v(x,t)]; \n",
    "plot(sol[t],uu[xquart,:],xlabel=\"t\",label=\"x=.25\")\n",
    "plot!(sol[t],uu[xmid,:],xlabel=\"t\",label=\"x=.5\")\n",
    "p1 = plot!(sol[t],uu[x3quart,:],xlabel=\"t\",label=\"x=.75\",title=\"position\")\n",
    "plot(sol[t],vv[xquart,:],xlabel=\"t\",label=\"x=.25\")\n",
    "plot!(sol[t],vv[xmid,:],xlabel=\"t\",label=\"x=.5\")\n",
    "p2 = plot!(sol[t],vv[3*xquart,:],xlabel=\"t\",label=\"x=.75\",title=\"velocity\")\n",
    "plot(p1,p2,layout=(1,2)) "
   ]
  },
  {
   "cell_type": "markdown",
   "id": "2e2bb32c-ebd8-4f7c-a8dc-efae51a5a517",
   "metadata": {},
   "source": [
    "### Section 3.5: Case (3/4): Time Step Information  "
   ]
  },
  {
   "cell_type": "code",
   "execution_count": null,
   "id": "0cddad4b-3c07-4aab-8141-ce05a6d7d312",
   "metadata": {},
   "outputs": [],
   "source": [
    "p1 = plot(sol[t],xlabel=\"time steps\",ylabel=\"t\",label=\"t\") \n",
    "p2 = bar(sol[t][2:end] - sol[t][1:end-1],xlabel=\"time steps\",ylabel=\"dt\",label=\"dt\")\n",
    "plot(p1,p2,layout=(1,2))"
   ]
  },
  {
   "cell_type": "code",
   "execution_count": null,
   "id": "1c455396-6d1e-4bb8-a6f3-f544a1551d83",
   "metadata": {},
   "outputs": [],
   "source": [
    "ttrunc=300 \n",
    "uutrunc = uu[:,ttrunc:end]\n",
    "contour(uutrunc)"
   ]
  },
  {
   "cell_type": "markdown",
   "id": "a11cbf9e-153c-4d95-8013-7f6d82fb9f60",
   "metadata": {},
   "source": [
    "### Section 4.5: Case (3/4): Plot of Steady State  "
   ]
  },
  {
   "cell_type": "markdown",
   "id": "91c74643-572a-4d89-9bc0-0eb416f94bb4",
   "metadata": {},
   "source": [
    "### Section 5.5: Case (3/4): FFT of Steady State"
   ]
  },
  {
   "cell_type": "code",
   "execution_count": null,
   "id": "8e728f41-abc8-4843-8ede-ebbe5a85f03e",
   "metadata": {},
   "outputs": [],
   "source": [
    "# definite time samples \n",
    "xquart = div(N,4); xmid = div(N,2); x3quart = 3*xquart\n",
    "up1 = uutrunc[xquart,:]\n",
    "up2 = uutrunc[xmid,:]\n",
    "up3 = uutrunc[x3quart,:]\n",
    "\n",
    "# perform FFT of sampled position data \n",
    "ufp1 = fft(up1)\n",
    "ufp2 = fft(up2)\n",
    "ufp3 = fft(up3)\n",
    "\n",
    "#..set frequency axis \n",
    "dt = 0.1\n",
    "Nt = length(up1) \n",
    "fmax = 1/(2.0*dt)\n",
    "fstep = 2*fmax/Nt\n",
    "fvec = Vector(0:fstep:fmax)\n",
    "\n",
    "#..plot absolute value of FFT samples  \n",
    "p1 = plot(fvec, 2.0/Nt * abs.(ufp1[1:length(fvec)]),label=\"x=.25 norm\")\n",
    "p2 = plot(fvec, angle.(ufp1[1:length(fvec)]),label=\"x=.25 phase\")\n",
    "p3 = plot(fvec, 2.0/Nt * abs.(ufp2[1:length(fvec)]),label=\"x=.5 norm\")\n",
    "p4 = plot(fvec, angle.(ufp2[1:length(fvec)]),label=\"x=.5 phase\")\n",
    "p5 = plot(fvec, 2.0/Nt * abs.(ufp3[1:length(fvec)]),label=\"x=.75 norm\")\n",
    "p6 = plot(fvec, angle.(ufp3[1:length(fvec)]),label=\"x=.75 phase\")\n",
    "plot(p1, p2, p3, p4, p5, p6, layout = (3,2))"
   ]
  },
  {
   "cell_type": "markdown",
   "id": "7bd46a96-f130-45b8-ae76-a9035964d58a",
   "metadata": {},
   "source": [
    "## Section 6: 1D Wave Equation -  Case (4/4): Non-linear \n",
    "Forced version of above. "
   ]
  },
  {
   "cell_type": "markdown",
   "id": "c582058d-fab1-4ebf-8254-ea73b7f4cb61",
   "metadata": {},
   "source": [
    "### Section 1.6: Case (4/4): Time Integration "
   ]
  },
  {
   "cell_type": "code",
   "execution_count": null,
   "id": "7b11fb42-ab3f-4cfd-9f51-6e37d43bf48b",
   "metadata": {},
   "outputs": [],
   "source": [
    "# Parameters, variables, and derivatives\n",
    "@parameters x t\n",
    "@variables u(..) v(..)\n",
    "Dxx = Differential(x)^2\n",
    "Dtt = Differential(t)^2\n",
    "Dt = Differential(t)\n",
    "Dx = Differential(x)\n",
    "\n",
    "#2D PDE\n",
    "c=1     # wave velocity \n",
    "ga=5    # damping coefficient \n",
    "ga3=500 # non-linear damping coefficient \n",
    "omd=5   # angular frequency of driving force \n",
    "F0=1000   # amplitude of angular force  \n",
    "eq  = [ Dt(u(x,t)) ~ v(x,t),\n",
    "        Dt(v(x,t)) ~ c^2*Dxx(u(x,t)) - ga*v(x,t) - ga3*(v(x,t))^3 + F0*sin(3*mypi*x)*sin(omd*t)] \n",
    "\n",
    "# Avoid issue with pi in ModelingToolkit\n",
    "mypi = 3.1415\n",
    "\n",
    "# Initial and boundary conditions\n",
    "# Initial velocity is still missing \n",
    "bcs = [ u(0.,t) ~ 0.,         # left BC for position u\n",
    "        u(1.,t) ~ 0.,         # right BC for position u \n",
    "        v(0,t) ~ 0.,          # left BC for velocity v \n",
    "        v(1,t) ~ 0.,          # right BC for velocity v\n",
    "        u(x,0) ~ sin(mypi*x), # IC for position u \n",
    "        v(x,0) ~ 0.0]         # IC for velocity v \n",
    "\n",
    "# Space and time domains\n",
    "maxt = 1000\n",
    "domains = [x ∈ (0.0,1.0), \n",
    "           t ∈ (0.0,maxt)]\n",
    "\n",
    "@named pdesys = PDESystem(eq,bcs,domains,[x,t],[u(x,t), v(x,t)])\n",
    "\n",
    "#  Define discretization \n",
    "N = 32\n",
    "order = 2 \n",
    "discretization = MOLFiniteDifference([x=>N], t, approx_order=order)\n",
    "\n",
    "# Convert the PDE problem into an ODE problem\n",
    "println(\"Discretization:\")\n",
    "prob = discretize(pdesys,discretization)\n",
    "\n",
    "println(\"Solve:\")\n",
    "sol = solve(prob, TRBDF2(), reltol = 1e-4, abstol = 1e-8)\n",
    "\n",
    "# Plot results\n",
    "p1 = surface(sol[t], sol[x], sol[u(x,t)],xlabel=\"t\",ylabel=\"x\",title=\"position\") \n",
    "p2 = surface(sol[t], sol[x], sol[v(x,t)],xlabel=\"t\",ylabel=\"x\",title=\"velocity\") \n",
    "plot(p1,p2,layout=(1,2))"
   ]
  },
  {
   "cell_type": "markdown",
   "id": "adecb9b0-4f62-4eab-9bd2-b3b56b1b2ec5",
   "metadata": {},
   "source": [
    "### Section 2.6: Case (4/4): Plot Time Traces "
   ]
  },
  {
   "cell_type": "code",
   "execution_count": null,
   "id": "cf2279f4-763a-438e-bce6-ccb7be7ed50a",
   "metadata": {},
   "outputs": [],
   "source": [
    "# plot traces \n",
    "xquart = div(N,4); xmid = div(N,2); x3quart = 3*xquart\n",
    "uu = sol[u(x,t)]; vv = sol[v(x,t)]; \n",
    "plot(sol[t],uu[xquart,:],xlabel=\"t\",label=\"x=.25\")\n",
    "plot!(sol[t],uu[xmid,:],xlabel=\"t\",label=\"x=.5\")\n",
    "p1 = plot!(sol[t],uu[3*xquart,:],xlabel=\"t\",label=\"x=.75\",title=\"position\")\n",
    "plot(sol[t],vv[xquart,:],xlabel=\"t\",label=\"x=.25\")\n",
    "plot!(sol[t],vv[xmid,:],xlabel=\"t\",label=\"x=.5\")\n",
    "p2 = plot!(sol[t],vv[3*xquart,:],xlabel=\"t\",label=\"x=.75\",title=\"velocity\")\n",
    "plot(p1,p2,layout=(1,2)) "
   ]
  },
  {
   "cell_type": "markdown",
   "id": "16884c23-3610-4f9d-bbbc-60a33d105c9b",
   "metadata": {},
   "source": [
    "### Section 3.6: Case (4/4): Time Step Information"
   ]
  },
  {
   "cell_type": "code",
   "execution_count": null,
   "id": "363f637b-9307-488e-a720-51cfef689baf",
   "metadata": {},
   "outputs": [],
   "source": [
    "p1 = plot(sol[t],xlabel=\"time steps\",ylabel=\"t\",label=\"t\") \n",
    "p2 = bar(sol[t][2:end] - sol[t][1:end-1],xlabel=\"time steps\",ylabel=\"dt\",label=\"dt\")\n",
    "plot(p1,p2,layout=(1,2))"
   ]
  },
  {
   "cell_type": "markdown",
   "id": "576c2d62-6d5d-4104-80bb-02913362724b",
   "metadata": {},
   "source": [
    "### Section 4.6: Case (4/4): Steady State Solution "
   ]
  },
  {
   "cell_type": "code",
   "execution_count": null,
   "id": "dd43d7fc-c700-4221-be21-ab61dc42d854",
   "metadata": {},
   "outputs": [],
   "source": [
    "ttrunc=1000 \n",
    "uutrunc = uu[:,ttrunc:end]\n",
    "contour(uutrunc)"
   ]
  },
  {
   "cell_type": "code",
   "execution_count": null,
   "id": "593905e2-b15c-415e-8c58-351dd828d2cf",
   "metadata": {},
   "outputs": [],
   "source": []
  },
  {
   "cell_type": "markdown",
   "id": "87538cf5-820b-4e6d-a3f2-c61f549f50ee",
   "metadata": {},
   "source": [
    "### Section 5.6: Case (4/4): FFT of Steady State Solution"
   ]
  },
  {
   "cell_type": "code",
   "execution_count": null,
   "id": "515ef21a-f4e5-4b29-b017-48482edafe93",
   "metadata": {},
   "outputs": [],
   "source": [
    "# definite time samples \n",
    "tstepstart=50 \n",
    "up1 = uu[xquart,tstepstart:end]\n",
    "up2 = uu[xmid,tstepstart:end]\n",
    "up3 = uu[x3quart,tstepstart:end]\n",
    "\n",
    "# perform FFT of sampled position data \n",
    "ufp1 = fft(up1)\n",
    "ufp2 = fft(up2)\n",
    "ufp3 = fft(up3)\n",
    "\n",
    "#..set frequency axis \n",
    "dt = 0.1\n",
    "Nt = length(up1)-tstepstart \n",
    "fmax = 1/(2.0*dt)\n",
    "fstep = 2*fmax/Nt\n",
    "fvec = Vector(0:fstep:fmax)\n",
    "\n",
    "#..plot absolute value of FFT samples  \n",
    "p1 = plot(fvec, 2.0/Nt * abs.(ufp1[1:length(fvec)]),label=\"x=.25 norm\")\n",
    "p2 = plot(fvec, angle.(ufp1[1:length(fvec)]),label=\"x=.25 phase\")\n",
    "p3 = plot(fvec, 2.0/Nt * abs.(ufp2[1:length(fvec)]),label=\"x=.5 norm\")\n",
    "p4 = plot(fvec, angle.(ufp2[1:length(fvec)]),label=\"x=.5 phase\")\n",
    "p5 = plot(fvec, 2.0/Nt * abs.(ufp3[1:length(fvec)]),label=\"x=.75 norm\")\n",
    "p6 = plot(fvec, angle.(ufp3[1:length(fvec)]),label=\"x=.75 phase\")\n",
    "plot(p1, p2, p3, p4, p5, p6, layout = (3,2))"
   ]
  },
  {
   "cell_type": "code",
   "execution_count": null,
   "id": "1843e622-5d91-4de7-bd89-81ce348c98b0",
   "metadata": {},
   "outputs": [],
   "source": [
    "using NonlinearSolve\n",
    "\n",
    "@parameters x y\n",
    "@variables u(..)\n",
    "Dxx = Differential(x)^2\n",
    "Dyy = Differential(y)^2\n",
    "\n",
    "eq = Dxx(u(x, y)) + Dyy(u(x, y)) ~ 0\n",
    "\n",
    "bcs = [u(0, y) ~ x * y,\n",
    "       u(1, y) ~ x * y,\n",
    "       u(x, 0) ~ x * y,\n",
    "       u(x, 1) ~ x * y]\n",
    "\n",
    "\n",
    "# Space and time domains\n",
    "domains = [x ∈ Interval(0.0, 1.0),\n",
    "           y ∈ Interval(0.0, 1.0)]\n",
    "\n",
    "@named pdesys = PDESystem([eq], bcs, domains, [x, y], [u(x, y)])\n",
    "\n",
    "dx = 0.1\n",
    "dy = 0.1\n",
    "\n",
    "# Note that we pass in `nothing` for the time variable `t` here since we\n",
    "# are creating a stationary problem without a dependence on time, only space.\n",
    "discretization = MOLFiniteDifference([x => dx, y => dy], nothing, approx_order=2)\n",
    "\n",
    "prob = discretize(pdesys, discretization)\n",
    "sol = NonlinearSolve.solve(prob, NewtonRaphson())\n",
    "\n",
    "u_sol = sol[u(x, y)]\n",
    "\n",
    "using Plots\n",
    "\n",
    "heatmap(sol[x], sol[y], u_sol, xlabel=\"x values\", ylabel=\"y values\",\n",
    "        title=\"Steady State Heat Equation\")"
   ]
  },
  {
   "cell_type": "code",
   "execution_count": null,
   "id": "82159ce8-9b36-43c1-8533-5ad95dce1162",
   "metadata": {},
   "outputs": [],
   "source": []
  }
 ],
 "metadata": {
  "kernelspec": {
   "display_name": "Julia 1.11.7",
   "language": "julia",
   "name": "julia-1.11"
  },
  "language_info": {
   "file_extension": ".jl",
   "mimetype": "application/julia",
   "name": "julia",
   "version": "1.11.7"
  }
 },
 "nbformat": 4,
 "nbformat_minor": 5
}
