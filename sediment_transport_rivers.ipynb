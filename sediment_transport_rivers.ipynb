{
 "cells": [
  {
   "cell_type": "markdown",
   "id": "cd11910b",
   "metadata": {},
   "source": [
    "# The Analytics and Numerics of Sediment Transport in Rivers \n",
    "\n",
    "## Domenico Lahaye and Henk Schuttelaars "
   ]
  },
  {
   "cell_type": "markdown",
   "id": "e87fdef5",
   "metadata": {},
   "source": [
    "## Models for Sediment Transport in Rivers\n",
    "\n",
    "### Pointers to literature on concepts \n",
    "- Shallow Water Equations [wiki](https://en.wikipedia.org/wiki/Shallow_water_equations)\n",
    "- Sediment Transport [wiki](https://en.wikipedia.org/wiki/Sediment_transport)\n",
    "- Bifurcation analysis [wiki](https://en.wikipedia.org/wiki/Bifurcation_theory) \n",
    "\n",
    "### Computational Domain\n",
    "\n",
    "Rectangular channel with top and bottom wall, left inflow, right outflow. Inflow and outflow modeled by periodic boundary conditions. "
   ]
  },
  {
   "cell_type": "markdown",
   "id": "83cb8c4c",
   "metadata": {},
   "source": [
    "## Julia Programming Language \n",
    "\n",
    "- Elementary introduction: [Thinking Julia](https://benlauwens.github.io/ThinkJulia.jl/latest/book.html);\n",
    "- Aalto Short Course: [julia-introduction](https://github.com/AaltoRSE/julia-introduction); \n",
    "- Video Collection by Chris Rackauckas: [link](https://www.youtube.com/playlist?list=PLCAl7tjCwWyGjdzOOnlbGnVNZk0kB8VSa) \n",
    "- Pointer to lots of goodies: [Nouvelles Julia](https://pnavaro.github.io/NouvellesJulia/pages/2022_03.html); "
   ]
  },
  {
   "cell_type": "markdown",
   "id": "8b2369e8",
   "metadata": {},
   "source": [
    "## Existing Components in Julia \n",
    "\n",
    "### Shallow Water Equation (SWE) Solvers \n",
    "\n",
    "- Dedicated shallow water solver: [ShallowWaters.jl](https://github.com/milankl/ShallowWaters.jl) (can sediment transport (equation for C in Chapter 5 of [1]) be added as additional transport equation?)  \n",
    "- As part of [Trixi](https://github.com/trixi-framework/Trixi.jl): [Shallow water eqn example in Trixi](https://github.com/trixi-framework/Trixi.jl/blob/main/examples/structured_2d_dgsem/elixir_shallowwater_source_terms.jl) (can sediment transport (equation for C in Chapter 5 of [1]) be added as additional transport equation?) \n",
    "\n",
    "### Bifurcation Analysis \n",
    "\n",
    "To be applied to SWE + sediment after discretization in space. Parameter of interest is Coriolis force (magnitude, direction). \n",
    "\n",
    "- Dedicated bifurcation analysis tool: [BifurcationKit.jl](https://github.com/bifurcationkit/BifurcationKit.jl)\n",
    "- As part of [DifferentialEquations](https://diffeq.sciml.ai/stable/) : [Bifurcation Analysis](https://diffeq.sciml.ai/stable/analysis/bifurcation/) "
   ]
  },
  {
   "cell_type": "markdown",
   "id": "3a84df5a",
   "metadata": {},
   "source": [
    "## References \n",
    "\n",
    "1. PhD Thesis of Tjebbe Hepkema: Chapter 5 in particular: [link](https://mega.nz/file/nMF2DaDA#W-nuZ_LKQkcN8x-dZiXY4VD1gNRiTzf46RH0RQCEP9E)"
   ]
  },
  {
   "cell_type": "code",
   "execution_count": null,
   "id": "804d7f50",
   "metadata": {},
   "outputs": [],
   "source": []
  },
  {
   "cell_type": "code",
   "execution_count": null,
   "id": "2e3b70e8",
   "metadata": {},
   "outputs": [],
   "source": []
  }
 ],
 "metadata": {
  "kernelspec": {
   "display_name": "Julia 1.6.2",
   "language": "julia",
   "name": "julia-1.6"
  },
  "language_info": {
   "file_extension": ".jl",
   "mimetype": "application/julia",
   "name": "julia",
   "version": "1.6.2"
  }
 },
 "nbformat": 4,
 "nbformat_minor": 5
}
