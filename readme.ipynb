{
 "cells": [
  {
   "cell_type": "markdown",
   "id": "cd11910b",
   "metadata": {},
   "source": [
    "# Riding Shallow Waters \n",
    "\n",
    "<div>\n",
    "<img src=\"./riding-shallow-waters.png\" width=600 /> \n",
    "</div>\n",
    "\n",
    "\n",
    "## with Domenico Lahaye and Henk Schuttelaars "
   ]
  },
  {
   "cell_type": "markdown",
   "id": "c49da359",
   "metadata": {},
   "source": [
    "## Section 1: Introduction \n",
    "\n",
    "This project aims at contributing to the computational modeling of [tidal flows](https://en.wikipedia.org/wiki/Tide#Current) and [sediment transport](https://en.wikipedia.org/wiki/Sediment_transport) in rivers. The flow of water in rivers can be described by the [shallow water equations](https://en.wikipedia.org/wiki/Shallow_water_equations) (linear and non-linear variant, derivation, solving, turbulence). When exicited periodically (e.g. by tidal motion at the inlet of the channel), the non-linear nature of the equations will deform (modulate) the amplitude and frequency of the driving system. After sufficiently long time, the signal will become periodic again. Both time-integration (after spatial discretization or method of lines) and harmonic balance methods (either after spatial or temporal discretization) will be explored. See Section Analyis in [tidal flows](https://en.wikipedia.org/wiki/Tide#Current) for a motivation of harmonic balance method in the context of this project. \n",
    "\n",
    "The <b>goals</b> of the project include \n",
    "1. to solve the shallow water equations using a blend of analytical and numerical methods;   \n",
    "2. to compute the amplitude and temporal frequency content of the computed axial and transversal velocity components and the water height;\n",
    "3. to discover patterns in the sediment formation and study the stability of these patterns (via bifurcation analysis).\n",
    "\n",
    "## Section 2: Project Levels \n",
    "\n",
    "The project is divided in various levels that are outlined below.\n",
    "\n",
    "### Beginner Level: Mass-Spring-Damper Systems \n",
    "\n",
    "Here we lump the body of water to a point-mass. We assume this body to be subject to periodic forcing (alternating low and high tide) and friction (due to e.g. contact with river bed). The effect of non-linear springs and non-linear dampers on the motion of the mass subject to periodic forcing will be explored. The goal of this level to introduce key concepts, analysis tools and software techniques in the project.\n",
    "\n",
    "The primary notebook for this level is [notebook on mass-spring-damper systems](./mass-spring-damper-systems.ipynb)\n",
    "\n",
    "Supporting notebooks for this level include\n",
    "1. notebook on [the harmonic balance method](./harmonic_balance_method.ipynb);\n",
    "2. notebook on [Time-Integration using DifferentialEquations.jl](https://github.com/ziolai/software/blob/master/intro_ode.ipynb)\n",
    "3. notebook on [analytical and symbolic computations](./analytical_symbolic_computations.ipynb);  \n",
    "\n",
    "### Intermediate Level: Non-Linear Scalar Wave Equation \n",
    "\n",
    "Here we describe water wave as transversal or longitudinal wave propagation in spring or membrane excited by periodic forcing. The physics of the change of water height is neglected. The effect of the non-linearity on the temporal frequency content of the solution will again be explored. \n",
    "\n",
    "The primary notebook for this level is [notebook on scalar wave equations](./scalar-wave-equation.ipynb)\n",
    "\n",
    "Supporting notebooks\n",
    "1. seperation of variables to solve linear wave equation analytically taking various boundary conditions into account; \n",
    "2. method of lines to linear wave equation numerically by first discretizing in space and subsequently use time integration; \n",
    "\n",
    "\n",
    "### Expert Level: Tidal Flow in Rivers and the Shallow Water Equations \n",
    "\n",
    "Shallow water equations describe the propagation of water waves in rivers. Both linear and non-linear variants of the model. They are derived from the Navier-Stokes equations by averaging in the depth direction. \n",
    "\n",
    "The primary notebook for this level is [notebook on shallow water equations](./shallow-water-equations.ipynb)\n",
    "\n",
    "### Expert+ Level: Pattern Formation in Sediment Transport in Rivers \n",
    "\n",
    "Add coupling of the shallow water equation with additional transport (convection-diffusion) equation for concentration of sediment in water. Describe two-way coupling between water flow and sediment transport. Water flow transports the sediment. The sediment add mass and viscosity to the water and slows down the water.    \n",
    "\n",
    "Add bifurcation analysis to study points of equilibrium of the dynamical system (roots of coupled system of algebraic equations) and their stability (spectrum of the Jacobian at the point of equilibrium). \n",
    "\n",
    "<b>To add:</b> Add demo using scalar wave equation with non-linear damping (with animation of both the excitation and the solution with both non-linear damping or non-linear stiffness) would be good to have here)."
   ]
  },
  {
   "cell_type": "markdown",
   "id": "cd658416",
   "metadata": {},
   "source": [
    "## Section 3: Introductory material on the Julia Programming Language\n",
    "\n",
    "- Elementary introduction: [Thinking Julia](https://benlauwens.github.io/ThinkJulia.jl/latest/book.html);\n",
    "- Aalto Short Course: [julia-introduction](https://github.com/AaltoRSE/julia-introduction); \n",
    "- Video Collection by Chris Rackauckas: [link](https://www.youtube.com/playlist?list=PLCAl7tjCwWyGjdzOOnlbGnVNZk0kB8VSa) \n",
    "- Pointer to lots of goodies: [Nouvelles Julia](https://pnavaro.github.io/NouvellesJulia/pages/2022_03.html);\n",
    "\n",
    "### Bifurcation Analysis Tools in Julia (Expert+ Level)\n",
    "\n",
    "Sediment transport in rivers has been documented to give raise to the formation of patterns in the sediment on the river bottom. These patterns are the equivalent to points of equilibrium of dynamical systems. Questions that arise in this context are: \n",
    "1. can the formation of patterns be computed efficiently?\n",
    "2. can the stability of patterns (eigenvalues of local linear approximation) be analyzed efficiently? \n",
    "3. how does the type of stability (again eigenvalues of local linear approximation) change when parameters in the model (model for bed friction, magnitude and direction of the Coriolis force) change. \n",
    "\n",
    "This type of analysis is referred to as a bifurcation analysis. Dedicated tools for bifurcation analysis in Julia include: \n",
    "- Dedicated bifurcation analysis tool: [BifurcationKit.jl](https://github.com/bifurcationkit/BifurcationKit.jl)\n",
    "- As part of [DifferentialEquations](https://diffeq.sciml.ai/stable/) : [Bifurcation Analysis](https://diffeq.sciml.ai/stable/analysis/bifurcation/) "
   ]
  },
  {
   "cell_type": "markdown",
   "id": "8117f556",
   "metadata": {},
   "source": [
    "## References \n",
    "\n",
    "1. Master thesis of Marco Roozendaal: [link](https://repository.tudelft.nl/islandora/object/uuid%3Aedc2ffd6-00fd-4cd6-883b-13b14528cb72?collection=education) \n",
    "2. PhD Thesis of Tjebbe Hepkema: Chapter 5 in particular: [link](https://mega.nz/file/nMF2DaDA#W-nuZ_LKQkcN8x-dZiXY4VD1gNRiTzf46RH0RQCEP9E). Includes linear stability analysis. \n",
    "3. Description of code by Tjebbe Hepkema: [link](https://mega.nz/file/vJMmjZpA#8DapHLz7mGZsncUJTT2i3J4yukdMyz0oqmiUjXrsVbY)\n",
    "4. PhD Thesis of Mirian Ter Brake: [link](https://repository.tudelft.nl/islandora/object/uuid:5cfcad13-0140-4ecc-a61b-217191b7611f?collection=research)\n",
    "5. 2022 minor students report: [link](https://mega.nz/file/zMVySRYS#Pojfaiy0OrE1bncgTiRftYnuLzmDgiZM4t_xEneQSGQ)\n",
    "6. 2022 minor students github repository: [link](https://github.com/victoriayuechen/Nonlinear-tidal-bars)\n",
    "7. Chapter 7 on forced oscillations of the book Nonlinear Ordinary Differential Equation by Jordan and Smith discusses forced oscillations: see [link](https://www.google.nl/books/edition/Nonlinear_Ordinary_Differential_Equation/ewtREAAAQBAJ?hl=en&gbpv=1&dq=Jordan+smith+nonlinear+ordinary+differential+equations&printsec=frontcover)\n",
    "8. paper by Elliot e.a. Nonlinear damping and quasi-linear modeling provides reference solutions for the harmonic balence method;"
   ]
  },
  {
   "cell_type": "code",
   "execution_count": null,
   "id": "2e30512c",
   "metadata": {},
   "outputs": [],
   "source": []
  }
 ],
 "metadata": {
  "kernelspec": {
   "display_name": "Julia 1.8.1",
   "language": "julia",
   "name": "julia-1.8"
  },
  "language_info": {
   "file_extension": ".jl",
   "mimetype": "application/julia",
   "name": "julia",
   "version": "1.8.1"
  }
 },
 "nbformat": 4,
 "nbformat_minor": 5
}
