{
 "cells": [
  {
   "cell_type": "markdown",
   "id": "fbde5f3a",
   "metadata": {},
   "source": [
    "# HomotopyContinuation \n",
    "\n",
    "We wish to replicate the [Duffing equation demo](https://discourse.julialang.org/t/bifurcationkit-duffing-equation-time-harmonic-single-harmonic/123937) using homotopycontinuation. \n",
    "\n",
    "See [homotopycontinuation](https://www.juliahomotopycontinuation.org/) for documentation. "
   ]
  },
  {
   "cell_type": "code",
   "execution_count": 4,
   "id": "57d4dca8",
   "metadata": {},
   "outputs": [],
   "source": [
    "using HomotopyContinuation"
   ]
  },
  {
   "cell_type": "markdown",
   "id": "cc5f9311",
   "metadata": {},
   "source": [
    "## Section 1: Introduction\n",
    "\n",
    "More later."
   ]
  },
  {
   "cell_type": "markdown",
   "id": "b2f68d26",
   "metadata": {},
   "source": [
    "## Section 2: Tutorial Example"
   ]
  },
  {
   "cell_type": "code",
   "execution_count": 25,
   "id": "5f7acc14",
   "metadata": {},
   "outputs": [
    {
     "data": {
      "text/plain": [
       "System of length 3\n",
       " 3 variables: x, y, z\n",
       " 3 parameters: p₁, p₂, p₃\n",
       "\n",
       " 3 - p₁ + x + 2*y + 2*y^2\n",
       " 4 - z*p₂ + z*(-2 + x + 5*y)\n",
       " 5 - z*p₃ + z*(2 + x + 4*y)"
      ]
     },
     "execution_count": 25,
     "metadata": {},
     "output_type": "execute_result"
    }
   ],
   "source": [
    "@var x y z p[1:3]\n",
    "\n",
    "F = System(\n",
    "    [\n",
    "        x + 3 + 2y + 2y^2 - p[1],\n",
    "        (x - 2 + 5y) * z + 4 - p[2] * z,\n",
    "        (x + 2 + 4y) * z + 5 - p[3] * z,\n",
    "    ];\n",
    "    parameters = p\n",
    ")"
   ]
  },
  {
   "cell_type": "code",
   "execution_count": 26,
   "id": "9cbb4fbe",
   "metadata": {},
   "outputs": [
    {
     "data": {
      "text/plain": [
       "Result with 2 solutions\n",
       "=======================\n",
       "• 2 paths tracked\n",
       "• 2 non-singular solutions (0 real)\n",
       "• random_seed: 0x72967c20\n",
       "• start_system: :polyhedral\n"
      ]
     },
     "execution_count": 26,
     "metadata": {},
     "output_type": "execute_result"
    }
   ],
   "source": [
    "# Generate generic parameters by sampling complex numbers from the normal distribution\n",
    "p₀ = randn(ComplexF64, 3)\n",
    "# Compute all solutions for F_p₀\n",
    "result_p₀ = solve(F, target_parameters = p₀)"
   ]
  },
  {
   "cell_type": "markdown",
   "id": "65f5fd21",
   "metadata": {},
   "source": [
    "## Section 3: Linear Harmonic Oscillator "
   ]
  },
  {
   "cell_type": "code",
   "execution_count": 9,
   "id": "dcc1e3d1",
   "metadata": {},
   "outputs": [
    {
     "data": {
      "text/plain": [
       "duffing_hb_singlemode (generic function with 1 method)"
      ]
     },
     "execution_count": 9,
     "metadata": {},
     "output_type": "execute_result"
    }
   ],
   "source": [
    "function  duffing_hb_singlemode(x,p)\n",
    "    A, B = x \n",
    "    omd = p \n",
    "    m=1; freq = .5; om0=2*π*freq; ga=0.1; stiffnlin=10.; F0 = 1.; \n",
    "    mismathvec = zeros(eltype(x),2)\n",
    "    mismathvec[1] = m*(om0^2-omd^2)*A + ga*omd*B + stiffnlin*.75*(A^3 + A*B^2) \n",
    "    mismathvec[2] = -ga*omd*A + m*(om0^2-omd^2)*B + stiffnlin*.75*(B^3 + A^2*B) - F0 \n",
    "    return mismathvec \n",
    "end "
   ]
  },
  {
   "cell_type": "code",
   "execution_count": 38,
   "id": "bb59d70f",
   "metadata": {},
   "outputs": [
    {
     "data": {
      "text/plain": [
       "System of length 2\n",
       " 2 variables: A, B\n",
       " 1 parameters: p\n",
       "\n",
       " A*(9.86960440108936 - p^2) + 0.1*B*p\n",
       " -1.0 - 0.1*A*p + B*(9.86960440108936 - p^2)"
      ]
     },
     "execution_count": 38,
     "metadata": {},
     "output_type": "execute_result"
    }
   ],
   "source": [
    "# define sytem \n",
    "@var A B p\n",
    "\n",
    "m=1; freq = .5; om0=2*π*freq; ga=0.1; F0 = 1.;\n",
    "\n",
    "F = System(\n",
    "    [\n",
    "        m*(om0^2-p[1]^2)*A + ga*p[1]*B,\n",
    "        -ga*p[1]*A + m*(om0^2-p[1]^2)*B - F0,\n",
    "    ];\n",
    "    parameters = [p]\n",
    ")"
   ]
  },
  {
   "cell_type": "code",
   "execution_count": 39,
   "id": "81a8cd42",
   "metadata": {},
   "outputs": [
    {
     "data": {
      "text/plain": [
       "Result with 1 solution\n",
       "======================\n",
       "• 1 path tracked\n",
       "• 1 non-singular solution (1 real)\n",
       "• random_seed: 0x67861a86\n",
       "• start_system: :polyhedral\n"
      ]
     },
     "execution_count": 39,
     "metadata": {},
     "output_type": "execute_result"
    }
   ],
   "source": [
    "# solve system \n",
    "p = [0.1] \n",
    "# Compute all solutions for F_p\n",
    "result_p = solve(F, target_parameters = p)"
   ]
  },
  {
   "cell_type": "code",
   "execution_count": 40,
   "id": "b68b49d3",
   "metadata": {},
   "outputs": [
    {
     "ename": "LoadError",
     "evalue": "AssertionError: length(p) == length(q) == nparameters(F)",
     "output_type": "error",
     "traceback": [
      "AssertionError: length(p) == length(q) == nparameters(F)",
      "",
      "Stacktrace:",
      " [1] ParameterHomotopy(F::MixedSystem{Float64, (0x6d1e4d61403745a6, 1)}, p::Vector{Float64}, q::Vector{Float64})",
      "   @ HomotopyContinuation ~/.julia/packages/HomotopyContinuation/I1faM/src/homotopies/parameter_homotopy.jl:36",
      " [2] parameter_homotopy(F::System; generic_parameters::Vector{ComplexF64}, p₁::Vector{ComplexF64}, start_parameters::Vector{Float64}, p₀::Vector{ComplexF64}, target_parameters::Vector{Float64}, tracker_options::TrackerOptions, endgame_options::EndgameOptions, compile::Symbol, kwargs::Base.Pairs{Symbol, Union{}, Tuple{}, NamedTuple{(), Tuple{}}})",
      "   @ HomotopyContinuation ~/.julia/packages/HomotopyContinuation/I1faM/src/solve.jl:239",
      " [3] parameter_homotopy_tracker(F::System; tracker_options::TrackerOptions, endgame_options::EndgameOptions, kwargs::Base.Pairs{Symbol, Any, Tuple{Symbol, Symbol, Symbol}, NamedTuple{(:start_parameters, :target_parameters, :compile), Tuple{Vector{Float64}, Vector{Float64}, Symbol}}})",
      "   @ HomotopyContinuation ~/.julia/packages/HomotopyContinuation/I1faM/src/solve.jl:215",
      " [4] solver_startsolutions(F::System, starts::Vector{Vector{ComplexF64}}; seed::UInt32, start_system::Symbol, generic_parameters::Nothing, p₁::Nothing, start_parameters::Vector{Float64}, p₀::Nothing, target_parameters::Vector{Float64}, compile::Symbol, start_subspace::Nothing, target_subspace::Nothing, intrinsic::Nothing, kwargs::Base.Pairs{Symbol, Union{}, Tuple{}, NamedTuple{(), Tuple{}}})",
      "   @ HomotopyContinuation ~/.julia/packages/HomotopyContinuation/I1faM/src/solve.jl:151",
      " [5] solve(::System, ::Vararg{Any}; show_progress::Bool, threading::Bool, catch_interrupt::Bool, target_parameters::Vector{Float64}, stop_early_cb::Function, transform_result::Nothing, transform_parameters::typeof(identity), flatten::Nothing, target_subspaces::Nothing, kwargs::Base.Pairs{Symbol, Vector{Float64}, Tuple{Symbol}, NamedTuple{(:start_parameters,), Tuple{Vector{Float64}}}})",
      "   @ HomotopyContinuation ~/.julia/packages/HomotopyContinuation/I1faM/src/solve.jl:465",
      " [6] top-level scope",
      "   @ In[40]:5"
     ]
    }
   ],
   "source": [
    "# generate some random data to simulate the parameters\n",
    "data = Vector(0:1.:10.)\n",
    "\n",
    "# track p₀ towards the entries of data\n",
    "data_points = solve(\n",
    "    F,\n",
    "    solutions(result_p);\n",
    "    start_parameters =  p,\n",
    "    target_parameters = data\n",
    ")"
   ]
  },
  {
   "cell_type": "code",
   "execution_count": 41,
   "id": "13dba653",
   "metadata": {},
   "outputs": [
    {
     "data": {
      "text/plain": [
       "11-element Vector{Float64}:\n",
       "  0.0\n",
       "  1.0\n",
       "  2.0\n",
       "  3.0\n",
       "  4.0\n",
       "  5.0\n",
       "  6.0\n",
       "  7.0\n",
       "  8.0\n",
       "  9.0\n",
       " 10.0"
      ]
     },
     "execution_count": 41,
     "metadata": {},
     "output_type": "execute_result"
    }
   ],
   "source": [
    "data"
   ]
  },
  {
   "cell_type": "markdown",
   "id": "b57c6c61",
   "metadata": {},
   "source": [
    "## Section 4: Non-Linear Harmonic Oscillator - Duffing - Single Harmonic  "
   ]
  },
  {
   "cell_type": "code",
   "execution_count": 9,
   "id": "77c7a3b6",
   "metadata": {},
   "outputs": [
    {
     "data": {
      "text/plain": [
       "duffing_hb_singlemode (generic function with 1 method)"
      ]
     },
     "execution_count": 9,
     "metadata": {},
     "output_type": "execute_result"
    }
   ],
   "source": [
    "function  duffing_hb_singlemode(x,p)\n",
    "    A, B = x \n",
    "    omd = p \n",
    "    m=1; freq = .5; om0=2*π*freq; ga=0.1; stiffnlin=10.; F0 = 1.; \n",
    "    mismathvec = zeros(eltype(x),2)\n",
    "    mismathvec[1] = m*(om0^2-omd^2)*A + ga*omd*B + stiffnlin*.75*(A^3 + A*B^2) \n",
    "    mismathvec[2] = -ga*omd*A + m*(om0^2-omd^2)*B + stiffnlin*.75*(B^3 + A^2*B) - F0 \n",
    "    return mismathvec \n",
    "end "
   ]
  },
  {
   "cell_type": "code",
   "execution_count": 42,
   "id": "4e9dc63a",
   "metadata": {},
   "outputs": [
    {
     "data": {
      "text/plain": [
       "System of length 2\n",
       " 2 variables: A, B\n",
       " 1 parameters: p\n",
       "\n",
       " A*(9.86960440108936 - p^2) + 0.1*B*p + 7.5*(A*B^2 + A^3)\n",
       " -1.0 - 0.1*A*p + B*(9.86960440108936 - p^2) + 7.5*(A^2*B + B^3)"
      ]
     },
     "execution_count": 42,
     "metadata": {},
     "output_type": "execute_result"
    }
   ],
   "source": [
    "# define sytem \n",
    "@var A B p\n",
    "\n",
    "m=1; freq = .5; om0=2*π*freq; ga=0.1; stiffnlin=10.; F0 = 1.;\n",
    "\n",
    "F = System(\n",
    "    [\n",
    "        m*(om0^2-p[1]^2)*A + ga*p[1]*B + stiffnlin*.75*(A^3 + A*B^2),\n",
    "        -ga*p[1]*A + m*(om0^2-p[1]^2)*B + + stiffnlin*.75*(B^3 + A^2*B) - F0,\n",
    "    ];\n",
    "    parameters = [p]\n",
    ")"
   ]
  },
  {
   "cell_type": "code",
   "execution_count": 43,
   "id": "a72249f7",
   "metadata": {},
   "outputs": [
    {
     "name": "stdout",
     "output_type": "stream",
     "text": [
      "\r",
      "\u001b[32mTracking 9 paths... 100%|███████████████████████████████| Time: 0:00:01\u001b[39m\r\n",
      "\u001b[34m  # paths tracked:                  9\u001b[39m\r\n",
      "\u001b[34m  # non-singular solutions (real):  3 (1)\u001b[39m\r\n",
      "\u001b[34m  # singular endpoints (real):      0 (0)\u001b[39m\r\n",
      "\u001b[34m  # total solutions (real):         3 (1)\u001b[39m\n"
     ]
    },
    {
     "data": {
      "text/plain": [
       "Result with 3 solutions\n",
       "=======================\n",
       "• 9 paths tracked\n",
       "• 3 non-singular solutions (1 real)\n",
       "• random_seed: 0x52f6a4fc\n",
       "• start_system: :polyhedral\n"
      ]
     },
     "execution_count": 43,
     "metadata": {},
     "output_type": "execute_result"
    }
   ],
   "source": [
    "# solve system \n",
    "p = [0.1] \n",
    "# Compute all solutions for F_p\n",
    "result_p = solve(F, target_parameters = p)"
   ]
  },
  {
   "cell_type": "code",
   "execution_count": null,
   "id": "20ccba7e",
   "metadata": {},
   "outputs": [],
   "source": []
  }
 ],
 "metadata": {
  "kernelspec": {
   "display_name": "Julia 1.8.1",
   "language": "julia",
   "name": "julia-1.8"
  },
  "language_info": {
   "file_extension": ".jl",
   "mimetype": "application/julia",
   "name": "julia",
   "version": "1.8.1"
  }
 },
 "nbformat": 4,
 "nbformat_minor": 5
}
