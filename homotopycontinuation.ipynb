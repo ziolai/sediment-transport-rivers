{
 "cells": [
  {
   "cell_type": "markdown",
   "id": "fbde5f3a",
   "metadata": {},
   "source": [
    "# HomotopyContinuation \n",
    "\n",
    "We wish to replicate the [Duffing equation demo](https://discourse.julialang.org/t/bifurcationkit-duffing-equation-time-harmonic-single-harmonic/123937) using homotopycontinuation. \n",
    "\n",
    "See [homotopycontinuation](https://www.juliahomotopycontinuation.org/) for documentation. "
   ]
  },
  {
   "cell_type": "code",
   "execution_count": 20,
   "id": "57d4dca8",
   "metadata": {},
   "outputs": [],
   "source": [
    "using HomotopyContinuation\n",
    "\n",
    "using Plots "
   ]
  },
  {
   "cell_type": "markdown",
   "id": "cc5f9311",
   "metadata": {},
   "source": [
    "## Section 1: Introduction\n",
    "\n",
    "More later."
   ]
  },
  {
   "cell_type": "markdown",
   "id": "b2f68d26",
   "metadata": {},
   "source": [
    "## Section 2: Tutorial Example\n",
    "\n",
    "We reproduce the example at [guides/many-systems](https://www.juliahomotopycontinuation.org/guides/many-systems/). "
   ]
  },
  {
   "cell_type": "markdown",
   "id": "56de8b0b",
   "metadata": {},
   "source": [
    "### Section 2.1: Single Parameter Solve "
   ]
  },
  {
   "cell_type": "code",
   "execution_count": 4,
   "id": "5f7acc14",
   "metadata": {},
   "outputs": [
    {
     "data": {
      "text/plain": [
       "System of length 3\n",
       " 3 variables: x, y, z\n",
       " 3 parameters: p₁, p₂, p₃\n",
       "\n",
       " 3 - p₁ + x + 2*y + 2*y^2\n",
       " 4 - z*p₂ + z*(-2 + x + 5*y)\n",
       " 5 - z*p₃ + z*(2 + x + 4*y)"
      ]
     },
     "execution_count": 4,
     "metadata": {},
     "output_type": "execute_result"
    }
   ],
   "source": [
    "@var x y z p[1:3]\n",
    "\n",
    "F = System(\n",
    "    [\n",
    "        x + 3 + 2y + 2y^2 - p[1],\n",
    "        (x - 2 + 5y) * z + 4 - p[2] * z,\n",
    "        (x + 2 + 4y) * z + 5 - p[3] * z,\n",
    "    ];\n",
    "    parameters = p\n",
    ")"
   ]
  },
  {
   "cell_type": "code",
   "execution_count": 5,
   "id": "9cbb4fbe",
   "metadata": {},
   "outputs": [
    {
     "data": {
      "text/plain": [
       "Result with 2 solutions\n",
       "=======================\n",
       "• 2 paths tracked\n",
       "• 2 non-singular solutions (0 real)\n",
       "• random_seed: 0xc199d986\n",
       "• start_system: :polyhedral\n"
      ]
     },
     "execution_count": 5,
     "metadata": {},
     "output_type": "execute_result"
    }
   ],
   "source": [
    "# Generate generic parameters by sampling complex numbers from the normal distribution\n",
    "p₀ = randn(ComplexF64, 3)\n",
    "# Compute all solutions for F_p₀\n",
    "result_p₀ = solve(F, target_parameters = p₀)"
   ]
  },
  {
   "cell_type": "code",
   "execution_count": 62,
   "id": "92753cb6",
   "metadata": {},
   "outputs": [
    {
     "data": {
      "text/plain": [
       "Result"
      ]
     },
     "execution_count": 62,
     "metadata": {},
     "output_type": "execute_result"
    }
   ],
   "source": [
    "typeof(result_p₀)"
   ]
  },
  {
   "cell_type": "markdown",
   "id": "a7cb9f3f",
   "metadata": {},
   "source": [
    "### Section 2.2: Repeated Parameter Values "
   ]
  },
  {
   "cell_type": "code",
   "execution_count": 6,
   "id": "3d005499",
   "metadata": {},
   "outputs": [
    {
     "data": {
      "text/plain": [
       "10000-element Vector{Tuple{Result, Vector{Float64}}}:\n",
       " (Result with 2 solutions\n",
       "=======================\n",
       "• 2 paths tracked\n",
       "• 2 non-singular solutions (0 real)\n",
       "• random_seed: 0xb4ede105\n",
       ", [-0.7540106520965347, 0.8452056735243576, -2.299342643804846])\n",
       " (Result with 2 solutions\n",
       "=======================\n",
       "• 2 paths tracked\n",
       "• 2 non-singular solutions (0 real)\n",
       "• random_seed: 0xb4ede105\n",
       ", [0.1903132880054627, -1.2449042295235746, 1.0295128356543122])\n",
       " (Result with 2 solutions\n",
       "=======================\n",
       "• 2 paths tracked\n",
       "• 2 non-singular solutions (0 real)\n",
       "• random_seed: 0xb4ede105\n",
       ", [0.4324953699608858, 0.06186768681791865, -0.8197592825930693])\n",
       " (Result with 2 solutions\n",
       "=======================\n",
       "• 2 paths tracked\n",
       "• 2 non-singular solutions (0 real)\n",
       "• random_seed: 0xb4ede105\n",
       ", [-0.09699238383299766, 0.25654872230303594, 0.568256692611777])\n",
       " (Result with 2 solutions\n",
       "=======================\n",
       "• 2 paths tracked\n",
       "• 2 non-singular solutions (0 real)\n",
       "• random_seed: 0xb4ede105\n",
       ", [-0.009001827721125094, 0.8160999735234854, 1.1085668413558807])\n",
       " (Result with 2 solutions\n",
       "=======================\n",
       "• 2 paths tracked\n",
       "• 2 non-singular solutions (0 real)\n",
       "• random_seed: 0xb4ede105\n",
       ", [-0.23663130246866385, 0.6417827271418562, -0.43088777401328227])\n",
       " (Result with 2 solutions\n",
       "=======================\n",
       "• 2 paths tracked\n",
       "• 2 non-singular solutions (0 real)\n",
       "• random_seed: 0xb4ede105\n",
       ", [-0.3384068754719335, 0.5864413694100769, 0.1653812136777621])\n",
       " (Result with 2 solutions\n",
       "=======================\n",
       "• 2 paths tracked\n",
       "• 2 non-singular solutions (0 real)\n",
       "• random_seed: 0xb4ede105\n",
       ", [-0.6623423139713223, 0.9141727158975212, 0.856953895442478])\n",
       " (Result with 2 solutions\n",
       "=======================\n",
       "• 2 paths tracked\n",
       "• 2 non-singular solutions (0 real)\n",
       "• random_seed: 0xb4ede105\n",
       ", [0.3853540744321907, -0.47755480957856683, -0.5822029146638631])\n",
       " (Result with 2 solutions\n",
       "=======================\n",
       "• 2 paths tracked\n",
       "• 2 non-singular solutions (0 real)\n",
       "• random_seed: 0xb4ede105\n",
       ", [0.8498093858805809, -0.4343605908958533, -0.08398585887540228])\n",
       " (Result with 2 solutions\n",
       "=======================\n",
       "• 2 paths tracked\n",
       "• 2 non-singular solutions (0 real)\n",
       "• random_seed: 0xb4ede105\n",
       ", [-0.10627980605892885, 0.5632014694910555, -1.4831099711615805])\n",
       " (Result with 2 solutions\n",
       "=======================\n",
       "• 2 paths tracked\n",
       "• 2 non-singular solutions (0 real)\n",
       "• random_seed: 0xb4ede105\n",
       ", [1.7893861831546731, -0.8271300739633453, 0.4639382163447823])\n",
       " (Result with 2 solutions\n",
       "=======================\n",
       "• 2 paths tracked\n",
       "• 2 non-singular solutions (0 real)\n",
       "• random_seed: 0xb4ede105\n",
       ", [-0.9246081210664145, 0.7639792675061251, 0.73876111239717])\n",
       " ⋮\n",
       " (Result with 2 solutions\n",
       "=======================\n",
       "• 2 paths tracked\n",
       "• 2 non-singular solutions (0 real)\n",
       "• random_seed: 0xb4ede105\n",
       ", [-0.7274140976594261, -0.48878590614491496, 1.8663543190975194])\n",
       " (Result with 2 solutions\n",
       "=======================\n",
       "• 2 paths tracked\n",
       "• 2 non-singular solutions (0 real)\n",
       "• random_seed: 0xb4ede105\n",
       ", [0.8769792104068467, 1.4472192428366797, 1.5568308570603078])\n",
       " (Result with 2 solutions\n",
       "=======================\n",
       "• 2 paths tracked\n",
       "• 2 non-singular solutions (0 real)\n",
       "• random_seed: 0xb4ede105\n",
       ", [-0.042534993939108076, -0.3357056970102997, -2.303109644640469])\n",
       " (Result with 2 solutions\n",
       "=======================\n",
       "• 2 paths tracked\n",
       "• 2 non-singular solutions (0 real)\n",
       "• random_seed: 0xb4ede105\n",
       ", [-0.016770754099513684, 0.591091095738123, -0.7529843687614471])\n",
       " (Result with 2 solutions\n",
       "=======================\n",
       "• 2 paths tracked\n",
       "• 2 non-singular solutions (0 real)\n",
       "• random_seed: 0xb4ede105\n",
       ", [-1.1520732853599414, 0.33503032931862786, 0.9014678373983438])\n",
       " (Result with 2 solutions\n",
       "=======================\n",
       "• 2 paths tracked\n",
       "• 2 non-singular solutions (0 real)\n",
       "• random_seed: 0xb4ede105\n",
       ", [0.7903293092330091, -0.6580759695371444, -1.3733949891416615])\n",
       " (Result with 2 solutions\n",
       "=======================\n",
       "• 2 paths tracked\n",
       "• 2 non-singular solutions (0 real)\n",
       "• random_seed: 0xb4ede105\n",
       ", [0.4287870979667737, 0.2504756421269117, 0.09928834667919742])\n",
       " (Result with 2 solutions\n",
       "=======================\n",
       "• 2 paths tracked\n",
       "• 2 non-singular solutions (0 real)\n",
       "• random_seed: 0xb4ede105\n",
       ", [-0.1714169883423647, -0.2498394368920942, -1.39610545901601])\n",
       " (Result with 2 solutions\n",
       "=======================\n",
       "• 2 paths tracked\n",
       "• 2 non-singular solutions (0 real)\n",
       "• random_seed: 0xb4ede105\n",
       ", [-0.16671254789731368, 1.142839007344682, 0.8114800057204217])\n",
       " (Result with 2 solutions\n",
       "=======================\n",
       "• 2 paths tracked\n",
       "• 2 non-singular solutions (0 real)\n",
       "• random_seed: 0xb4ede105\n",
       ", [-0.5441303575046412, 0.45241560991236934, -0.8847034878515191])\n",
       " (Result with 2 solutions\n",
       "=======================\n",
       "• 2 paths tracked\n",
       "• 2 non-singular solutions (0 real)\n",
       "• random_seed: 0xb4ede105\n",
       ", [-1.0442659275205988, 1.0358848201933761, 1.7375274524016575])\n",
       " (Result with 2 solutions\n",
       "=======================\n",
       "• 2 paths tracked\n",
       "• 2 non-singular solutions (0 real)\n",
       "• random_seed: 0xb4ede105\n",
       ", [-0.7282377361680595, 2.7108092590422554, 0.3416797335676156])"
      ]
     },
     "execution_count": 6,
     "metadata": {},
     "output_type": "execute_result"
    }
   ],
   "source": [
    "# generate some random data to simulate the parameters\n",
    "data = [randn(3) for _ in 1:10_000]\n",
    "\n",
    "# track p₀ towards the entries of data\n",
    "data_points = solve(\n",
    "    F,\n",
    "    solutions(result_p₀);\n",
    "    start_parameters =  p₀,\n",
    "    target_parameters = data\n",
    ")"
   ]
  },
  {
   "cell_type": "markdown",
   "id": "65f5fd21",
   "metadata": {},
   "source": [
    "## Section 3: Linear Harmonic Oscillator "
   ]
  },
  {
   "cell_type": "code",
   "execution_count": 9,
   "id": "dcc1e3d1",
   "metadata": {},
   "outputs": [
    {
     "data": {
      "text/plain": [
       "duffing_hb_singlemode (generic function with 1 method)"
      ]
     },
     "execution_count": 9,
     "metadata": {},
     "output_type": "execute_result"
    }
   ],
   "source": [
    "function  duffing_hb_singlemode(x,p)\n",
    "    A, B = x \n",
    "    omd = p \n",
    "    m=1; freq = .5; om0=2*π*freq; ga=0.1; stiffnlin=10.; F0 = 1.; \n",
    "    mismathvec = zeros(eltype(x),2)\n",
    "    mismathvec[1] = m*(om0^2-omd^2)*A + ga*omd*B + stiffnlin*.75*(A^3 + A*B^2) \n",
    "    mismathvec[2] = -ga*omd*A + m*(om0^2-omd^2)*B + stiffnlin*.75*(B^3 + A^2*B) - F0 \n",
    "    return mismathvec \n",
    "end "
   ]
  },
  {
   "cell_type": "code",
   "execution_count": 7,
   "id": "bb59d70f",
   "metadata": {},
   "outputs": [
    {
     "data": {
      "text/plain": [
       "System of length 2\n",
       " 2 variables: A, B\n",
       " 1 parameters: p\n",
       "\n",
       " A*(9.86960440108936 - p^2) + 0.1*B*p\n",
       " -1.0 - 0.1*A*p + B*(9.86960440108936 - p^2)"
      ]
     },
     "execution_count": 7,
     "metadata": {},
     "output_type": "execute_result"
    }
   ],
   "source": [
    "# define sytem - version 1\n",
    "# p declared as a scalar  \n",
    "@var A B p\n",
    "\n",
    "m=1; freq = .5; om0=2*π*freq; ga=0.1; F0 = 1.;\n",
    "\n",
    "F = System(\n",
    "    [\n",
    "        m*(om0^2-p[1]^2)*A + ga*p[1]*B,\n",
    "        -ga*p[1]*A + m*(om0^2-p[1]^2)*B - F0,\n",
    "    ];\n",
    "    parameters = [p]\n",
    ")"
   ]
  },
  {
   "cell_type": "code",
   "execution_count": 69,
   "id": "8428013d",
   "metadata": {},
   "outputs": [
    {
     "data": {
      "text/plain": [
       "System of length 2\n",
       " 2 variables: A, B\n",
       " 2 parameters: p₁, p₂\n",
       "\n",
       " A*(9.86960440108936 - p₁^2) + 0.1*B*p₁\n",
       " -1.0 - 0.1*A*p₁ + B*(9.86960440108936 - p₁^2)"
      ]
     },
     "execution_count": 69,
     "metadata": {},
     "output_type": "execute_result"
    }
   ],
   "source": [
    "# define sytem - version 2 \n",
    "# p declared as a vector - second component not used \n",
    "@var A B p[1:2]\n",
    "\n",
    "m=1; freq = .5; om0=2*π*freq; ga=0.1; F0 = 1.;\n",
    "\n",
    "F = System(\n",
    "    [\n",
    "        m*(om0^2-p[1]^2)*A + ga*p[1]*B,\n",
    "        -ga*p[1]*A + m*(om0^2-p[1]^2)*B - F0,\n",
    "    ];\n",
    "    parameters = p\n",
    ")"
   ]
  },
  {
   "cell_type": "code",
   "execution_count": 77,
   "id": "81a8cd42",
   "metadata": {},
   "outputs": [
    {
     "data": {
      "text/plain": [
       "Result with 1 solution\n",
       "======================\n",
       "• 1 path tracked\n",
       "• 1 non-singular solution (1 real)\n",
       "• random_seed: 0xf7bc3056\n",
       "• start_system: :polyhedral\n"
      ]
     },
     "execution_count": 77,
     "metadata": {},
     "output_type": "execute_result"
    }
   ],
   "source": [
    "# solve system \n",
    "freq = .55; omd=2*π*freq; \n",
    "p = [omd, 0.] \n",
    "# Compute all solutions for F_p\n",
    "results_p = solve(F, target_parameters = p)"
   ]
  },
  {
   "cell_type": "code",
   "execution_count": 78,
   "id": "f2983ea5",
   "metadata": {},
   "outputs": [
    {
     "data": {
      "text/plain": [
       "1-element Vector{Vector{Float64}}:\n",
       " [-0.0782700846804151, -0.46943156214406473]"
      ]
     },
     "execution_count": 78,
     "metadata": {},
     "output_type": "execute_result"
    }
   ],
   "source": [
    "real_solutions(results_p)"
   ]
  },
  {
   "cell_type": "code",
   "execution_count": 74,
   "id": "b68b49d3",
   "metadata": {},
   "outputs": [
    {
     "data": {
      "text/plain": [
       "11-element Vector{Tuple{Result, Vector{Float64}}}:\n",
       " (Result with 1 solution\n",
       "======================\n",
       "• 1 path tracked\n",
       "• 1 non-singular solution (1 real)\n",
       "• random_seed: 0x9dfe25f1\n",
       ", [0.0, 0.0])\n",
       " (Result with 1 solution\n",
       "======================\n",
       "• 1 path tracked\n",
       "• 1 non-singular solution (1 real)\n",
       "• random_seed: 0x9dfe25f1\n",
       ", [1.0, 0.0])\n",
       " (Result with 1 solution\n",
       "======================\n",
       "• 1 path tracked\n",
       "• 1 non-singular solution (1 real)\n",
       "• random_seed: 0x9dfe25f1\n",
       ", [2.0, 0.0])\n",
       " (Result with 1 solution\n",
       "======================\n",
       "• 1 path tracked\n",
       "• 1 non-singular solution (1 real)\n",
       "• random_seed: 0x9dfe25f1\n",
       ", [3.0, 0.0])\n",
       " (Result with 1 solution\n",
       "======================\n",
       "• 1 path tracked\n",
       "• 1 non-singular solution (1 real)\n",
       "• random_seed: 0x9dfe25f1\n",
       ", [4.0, 0.0])\n",
       " (Result with 1 solution\n",
       "======================\n",
       "• 1 path tracked\n",
       "• 1 non-singular solution (1 real)\n",
       "• random_seed: 0x9dfe25f1\n",
       ", [5.0, 0.0])\n",
       " (Result with 1 solution\n",
       "======================\n",
       "• 1 path tracked\n",
       "• 1 non-singular solution (1 real)\n",
       "• random_seed: 0x9dfe25f1\n",
       ", [6.0, 0.0])\n",
       " (Result with 1 solution\n",
       "======================\n",
       "• 1 path tracked\n",
       "• 1 non-singular solution (1 real)\n",
       "• random_seed: 0x9dfe25f1\n",
       ", [7.0, 0.0])\n",
       " (Result with 1 solution\n",
       "======================\n",
       "• 1 path tracked\n",
       "• 1 non-singular solution (1 real)\n",
       "• random_seed: 0x9dfe25f1\n",
       ", [8.0, 0.0])\n",
       " (Result with 1 solution\n",
       "======================\n",
       "• 1 path tracked\n",
       "• 1 non-singular solution (1 real)\n",
       "• random_seed: 0x9dfe25f1\n",
       ", [9.0, 0.0])\n",
       " (Result with 1 solution\n",
       "======================\n",
       "• 1 path tracked\n",
       "• 1 non-singular solution (1 real)\n",
       "• random_seed: 0x9dfe25f1\n",
       ", [10.0, 0.0])"
      ]
     },
     "execution_count": 74,
     "metadata": {},
     "output_type": "execute_result"
    }
   ],
   "source": [
    "# generate some random data to simulate the parameters\n",
    "data = [[d,0.] for d in Vector(0:1.:10.)] \n",
    "\n",
    "# track p towards the entries of data\n",
    "data_points = solve(\n",
    "    F,\n",
    "    solutions(result_p);\n",
    "    start_parameters =  p,\n",
    "    target_parameters = data\n",
    ")"
   ]
  },
  {
   "cell_type": "code",
   "execution_count": 42,
   "id": "c9c95a83",
   "metadata": {},
   "outputs": [
    {
     "ename": "LoadError",
     "evalue": "MethodError: no method matching real_solutions(::Tuple{Result, Vector{Float64}})\n\u001b[0mClosest candidates are:\n\u001b[0m  real_solutions(\u001b[91m::Union{Result, AbstractVector{<:PathResult}}\u001b[39m; tol, kwargs...) at ~/.julia/packages/HomotopyContinuation/I1faM/src/result.jl:308",
     "output_type": "error",
     "traceback": [
      "MethodError: no method matching real_solutions(::Tuple{Result, Vector{Float64}})\n\u001b[0mClosest candidates are:\n\u001b[0m  real_solutions(\u001b[91m::Union{Result, AbstractVector{<:PathResult}}\u001b[39m; tol, kwargs...) at ~/.julia/packages/HomotopyContinuation/I1faM/src/result.jl:308",
      "",
      "Stacktrace:",
      " [1] top-level scope",
      "   @ In[42]:1"
     ]
    }
   ],
   "source": [
    "real_solutions(data_points[1])"
   ]
  },
  {
   "cell_type": "code",
   "execution_count": 24,
   "id": "7a659fa8",
   "metadata": {},
   "outputs": [
    {
     "data": {
      "text/plain": [
       "Vector{Tuple{Result, Vector{Float64}}}\u001b[90m (alias for \u001b[39m\u001b[90mArray{Tuple{Result, Array{Float64, 1}}, 1}\u001b[39m\u001b[90m)\u001b[39m"
      ]
     },
     "execution_count": 24,
     "metadata": {},
     "output_type": "execute_result"
    }
   ],
   "source": [
    "typeof(data_points)"
   ]
  },
  {
   "cell_type": "code",
   "execution_count": 27,
   "id": "9a6fc707",
   "metadata": {},
   "outputs": [
    {
     "data": {
      "text/plain": [
       "Tuple{Result, Vector{Float64}}"
      ]
     },
     "execution_count": 27,
     "metadata": {},
     "output_type": "execute_result"
    }
   ],
   "source": [
    "d = data_points[1]\n",
    "typeof(d)"
   ]
  },
  {
   "cell_type": "code",
   "execution_count": 46,
   "id": "d7cee2ba",
   "metadata": {},
   "outputs": [
    {
     "ename": "LoadError",
     "evalue": "type Tuple has no field Result",
     "output_type": "error",
     "traceback": [
      "type Tuple has no field Result",
      "",
      "Stacktrace:",
      " [1] getproperty(x::Tuple{Result, Vector{Float64}}, f::Symbol)",
      "   @ Base ./Base.jl:38",
      " [2] top-level scope",
      "   @ In[46]:1"
     ]
    }
   ],
   "source": [
    "d.Result"
   ]
  },
  {
   "cell_type": "code",
   "execution_count": 28,
   "id": "b14dfb16",
   "metadata": {},
   "outputs": [
    {
     "data": {
      "text/plain": [
       "(Result with 1 solution\n",
       "======================\n",
       "• 1 path tracked\n",
       "• 1 non-singular solution (1 real)\n",
       "• random_seed: 0x27829e44\n",
       ", [0.0, 0.0])"
      ]
     },
     "execution_count": 28,
     "metadata": {},
     "output_type": "execute_result"
    }
   ],
   "source": [
    "d = data_points[1]"
   ]
  },
  {
   "cell_type": "code",
   "execution_count": 53,
   "id": "12604ca4",
   "metadata": {},
   "outputs": [
    {
     "data": {
      "text/plain": [
       "Base.OneTo(2)"
      ]
     },
     "execution_count": 53,
     "metadata": {},
     "output_type": "execute_result"
    }
   ],
   "source": [
    "keys(d)"
   ]
  },
  {
   "cell_type": "code",
   "execution_count": 52,
   "id": "7ef0d504",
   "metadata": {},
   "outputs": [
    {
     "data": {
      "text/plain": [
       "Result with 1 solution\n",
       "======================\n",
       "• 1 path tracked\n",
       "• 1 non-singular solution (1 real)\n",
       "• random_seed: 0x27829e44\n"
      ]
     },
     "execution_count": 52,
     "metadata": {},
     "output_type": "execute_result"
    }
   ],
   "source": [
    "d[1]"
   ]
  },
  {
   "cell_type": "code",
   "execution_count": 64,
   "id": "248e6560",
   "metadata": {},
   "outputs": [
    {
     "data": {
      "text/plain": [
       "2-element Vector{Float64}:\n",
       " 0.0\n",
       " 0.0"
      ]
     },
     "execution_count": 64,
     "metadata": {},
     "output_type": "execute_result"
    }
   ],
   "source": [
    "d[2]"
   ]
  },
  {
   "cell_type": "code",
   "execution_count": 39,
   "id": "59b7a879",
   "metadata": {},
   "outputs": [
    {
     "data": {
      "text/plain": [
       "(Result with 1 solution\n",
       "======================\n",
       "• 1 path tracked\n",
       "• 1 non-singular solution (1 real)\n",
       "• random_seed: 0x27829e44\n",
       ", [0.0, 0.0])"
      ]
     },
     "execution_count": 39,
     "metadata": {},
     "output_type": "execute_result"
    }
   ],
   "source": [
    "values(d)"
   ]
  },
  {
   "cell_type": "code",
   "execution_count": 35,
   "id": "934102ec",
   "metadata": {},
   "outputs": [
    {
     "data": {
      "text/plain": [
       "2-element Vector{Any}:\n",
       " Result with 1 solution\n",
       "======================\n",
       "• 1 path tracked\n",
       "• 1 non-singular solution (1 real)\n",
       "• random_seed: 0x27829e44\n",
       "\n",
       " [0.0, 0.0]"
      ]
     },
     "execution_count": 35,
     "metadata": {},
     "output_type": "execute_result"
    }
   ],
   "source": [
    "collect(d)"
   ]
  },
  {
   "cell_type": "code",
   "execution_count": 67,
   "id": "13dba653",
   "metadata": {},
   "outputs": [
    {
     "data": {
      "text/plain": [
       "11-element Vector{Vector{Float64}}:\n",
       " [0.0, 0.0]\n",
       " [1.0, 0.0]\n",
       " [2.0, 0.0]\n",
       " [3.0, 0.0]\n",
       " [4.0, 0.0]\n",
       " [5.0, 0.0]\n",
       " [6.0, 0.0]\n",
       " [7.0, 0.0]\n",
       " [8.0, 0.0]\n",
       " [9.0, 0.0]\n",
       " [10.0, 0.0]"
      ]
     },
     "execution_count": 67,
     "metadata": {},
     "output_type": "execute_result"
    }
   ],
   "source": [
    "res = [d[2] for d in data_points] "
   ]
  },
  {
   "cell_type": "markdown",
   "id": "b57c6c61",
   "metadata": {},
   "source": [
    "## Section 4: Non-Linear Harmonic Oscillator - Duffing - Single Harmonic  "
   ]
  },
  {
   "cell_type": "code",
   "execution_count": 9,
   "id": "77c7a3b6",
   "metadata": {},
   "outputs": [
    {
     "data": {
      "text/plain": [
       "duffing_hb_singlemode (generic function with 1 method)"
      ]
     },
     "execution_count": 9,
     "metadata": {},
     "output_type": "execute_result"
    }
   ],
   "source": [
    "function  duffing_hb_singlemode(x,p)\n",
    "    A, B = x \n",
    "    omd = p \n",
    "    m=1; freq = .5; om0=2*π*freq; ga=0.1; stiffnlin=10.; F0 = 1.; \n",
    "    mismathvec = zeros(eltype(x),2)\n",
    "    mismathvec[1] = m*(om0^2-omd^2)*A + ga*omd*B + stiffnlin*.75*(A^3 + A*B^2) \n",
    "    mismathvec[2] = -ga*omd*A + m*(om0^2-omd^2)*B + stiffnlin*.75*(B^3 + A^2*B) - F0 \n",
    "    return mismathvec \n",
    "end "
   ]
  },
  {
   "cell_type": "code",
   "execution_count": 42,
   "id": "4e9dc63a",
   "metadata": {},
   "outputs": [
    {
     "data": {
      "text/plain": [
       "System of length 2\n",
       " 2 variables: A, B\n",
       " 1 parameters: p\n",
       "\n",
       " A*(9.86960440108936 - p^2) + 0.1*B*p + 7.5*(A*B^2 + A^3)\n",
       " -1.0 - 0.1*A*p + B*(9.86960440108936 - p^2) + 7.5*(A^2*B + B^3)"
      ]
     },
     "execution_count": 42,
     "metadata": {},
     "output_type": "execute_result"
    }
   ],
   "source": [
    "# define sytem \n",
    "@var A B p\n",
    "\n",
    "m=1; freq = .5; om0=2*π*freq; ga=0.1; stiffnlin=10.; F0 = 1.;\n",
    "\n",
    "F = System(\n",
    "    [\n",
    "        m*(om0^2-p[1]^2)*A + ga*p[1]*B + stiffnlin*.75*(A^3 + A*B^2),\n",
    "        -ga*p[1]*A + m*(om0^2-p[1]^2)*B + + stiffnlin*.75*(B^3 + A^2*B) - F0,\n",
    "    ];\n",
    "    parameters = [p]\n",
    ")"
   ]
  },
  {
   "cell_type": "code",
   "execution_count": 43,
   "id": "a72249f7",
   "metadata": {},
   "outputs": [
    {
     "name": "stdout",
     "output_type": "stream",
     "text": [
      "\r",
      "\u001b[32mTracking 9 paths... 100%|███████████████████████████████| Time: 0:00:01\u001b[39m\r\n",
      "\u001b[34m  # paths tracked:                  9\u001b[39m\r\n",
      "\u001b[34m  # non-singular solutions (real):  3 (1)\u001b[39m\r\n",
      "\u001b[34m  # singular endpoints (real):      0 (0)\u001b[39m\r\n",
      "\u001b[34m  # total solutions (real):         3 (1)\u001b[39m\n"
     ]
    },
    {
     "data": {
      "text/plain": [
       "Result with 3 solutions\n",
       "=======================\n",
       "• 9 paths tracked\n",
       "• 3 non-singular solutions (1 real)\n",
       "• random_seed: 0x52f6a4fc\n",
       "• start_system: :polyhedral\n"
      ]
     },
     "execution_count": 43,
     "metadata": {},
     "output_type": "execute_result"
    }
   ],
   "source": [
    "# solve system \n",
    "p = [0.1] \n",
    "# Compute all solutions for F_p\n",
    "result_p = solve(F, target_parameters = p)"
   ]
  },
  {
   "cell_type": "code",
   "execution_count": null,
   "id": "20ccba7e",
   "metadata": {},
   "outputs": [],
   "source": []
  }
 ],
 "metadata": {
  "kernelspec": {
   "display_name": "Julia 1.8.1",
   "language": "julia",
   "name": "julia-1.8"
  },
  "language_info": {
   "file_extension": ".jl",
   "mimetype": "application/julia",
   "name": "julia",
   "version": "1.8.1"
  }
 },
 "nbformat": 4,
 "nbformat_minor": 5
}
