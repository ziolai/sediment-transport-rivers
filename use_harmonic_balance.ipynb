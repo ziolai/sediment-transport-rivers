{
 "cells": [
  {
   "cell_type": "markdown",
   "id": "7e973f7d",
   "metadata": {},
   "source": [
    "# Using HarmonicBalance.jl \n",
    "\n",
    "We study the single ODE and two coupled ODE examples in the package package [HarmonicBalance.jl](https://github.com/NonlinearOscillations/HarmonicBalance.jl) (see the docstring of the function <i>DifferentialEquation</i>). \n",
    "\n",
    "Our <b>goals</b> are to \n",
    "\n",
    "1. in the single ODE example replace $x(t)$ by $(x(t))[1]$; \n",
    "2. in the two coupled ODEs example replace $[x(t),y(t)]$ by $(x(t))[2]$ or more explicitly, change  \n",
    "\n",
    "<i> julia> @variables t, x(t), y(t), ω0, ω, F, k; # observe x(t) and y(t) defined seperately </i>\n",
    "\n",
    "<i> julia> DifferentialEquation(\n",
    "      [d(x,t,2) + ω0^2 * x - k*y, d(y,t,2) + ω0^2 * y - k*x] .~ [F * cos(ω*t), 0], [x,y] ); </i>\n",
    "      \n",
    "to the alternative form\n",
    "\n",
    "<i> julia> @variables t, (x(t))[1:2], ω0, ω, F, k; # observe x(t) now defines a vector </i>\n",
    "\n",
    "<i> julia> DifferentialEquation(\n",
    "      [d(x[1],t,2) + ω0^2 * x[1] - k*x[2], d(x[2],t,2) + ω0^2 * x[2] - k*x[1]] .~ [F * cos(ω*t), 0], [x[1],x[2]] ); </i>\n",
    "\n",
    "### First Issue: function get_independent_variables()  \n",
    "\n",
    "Currently the alternative definition of <i>DifferentialEquation</i> fails because of the function <i>get_independent_variables</i>. This failure can be fixed by replacing in this function the line \n",
    "(see [this post on Discourse](https://discourse.julialang.org/t/how-to-obtain-val-argument-of-keyset-of-ordercollection/123547/5))\n",
    "\n",
    "<i>return Num.(flatten(unique([x.val.arguments[1] for x in keys(diff_eom.equations)]))) </i>\n",
    "\n",
    "by the line\n",
    "\n",
    "<i>return Num.(unique([arguments(arguments(Symbolics.value(x[1]))[1]) for x in keys(diff_eom.equations)])[1])</i>\n",
    "\n",
    "### Second Issue: function \\_create_harmonic_variable() throws a Method Error when calling the function get_harmonic_equations \n",
    "\n",
    "\n",
    "### Longer Term Goals  \n",
    " \n",
    "The broader aim of this exercise is to bring HarmonicBalance.jl to large scale discretized PDE problems.\n",
    "\n",
    "### Remarks \n",
    "\n",
    "1. Beware that copy-and-paste of Latin symbols not always goes well; "
   ]
  },
  {
   "cell_type": "markdown",
   "id": "7d457fbe",
   "metadata": {},
   "source": [
    "## Import Packages"
   ]
  },
  {
   "cell_type": "code",
   "execution_count": 68,
   "id": "e25c9b5d",
   "metadata": {},
   "outputs": [],
   "source": [
    "using SymbolicUtils"
   ]
  },
  {
   "cell_type": "code",
   "execution_count": 72,
   "id": "bf382b46",
   "metadata": {},
   "outputs": [
    {
     "data": {
      "text/plain": [
       "var_name (generic function with 1 method)"
      ]
     },
     "execution_count": 72,
     "metadata": {},
     "output_type": "execute_result"
    }
   ],
   "source": [
    "var_name(x::SymbolicUtils.Sym) = String(x.name)"
   ]
  },
  {
   "cell_type": "code",
   "execution_count": 73,
   "id": "40437cb1",
   "metadata": {},
   "outputs": [
    {
     "data": {
      "text/plain": [
       "(x,)"
      ]
     },
     "execution_count": 73,
     "metadata": {},
     "output_type": "execute_result"
    }
   ],
   "source": [
    "@syms x::Real"
   ]
  },
  {
   "cell_type": "code",
   "execution_count": 76,
   "id": "1b4c83c1",
   "metadata": {},
   "outputs": [
    {
     "data": {
      "text/plain": [
       "\"x\""
      ]
     },
     "execution_count": 76,
     "metadata": {},
     "output_type": "execute_result"
    }
   ],
   "source": [
    "String(x.name)"
   ]
  },
  {
   "cell_type": "code",
   "execution_count": 77,
   "id": "7c86a3b5",
   "metadata": {},
   "outputs": [
    {
     "ename": "LoadError",
     "evalue": "MethodError: no method matching var_name(::Num)\n\n\u001b[0mClosest candidates are:\n\u001b[0m  var_name(\u001b[91m::SymbolicUtils.Sym\u001b[39m)\n\u001b[0m\u001b[90m   @\u001b[39m \u001b[36mMain\u001b[39m \u001b[90m\u001b[4mIn[72]:1\u001b[24m\u001b[39m\n",
     "output_type": "error",
     "traceback": [
      "MethodError: no method matching var_name(::Num)\n\n\u001b[0mClosest candidates are:\n\u001b[0m  var_name(\u001b[91m::SymbolicUtils.Sym\u001b[39m)\n\u001b[0m\u001b[90m   @\u001b[39m \u001b[36mMain\u001b[39m \u001b[90m\u001b[4mIn[72]:1\u001b[24m\u001b[39m\n",
      "",
      "Stacktrace:",
      " [1] top-level scope",
      "   @ In[77]:1"
     ]
    }
   ],
   "source": [
    "var_name(Num(x))"
   ]
  },
  {
   "cell_type": "code",
   "execution_count": 1,
   "id": "07c41ba2",
   "metadata": {},
   "outputs": [
    {
     "name": "stderr",
     "output_type": "stream",
     "text": [
      "\u001b[32m\u001b[1mPrecompiling\u001b[22m\u001b[39m HarmonicBalance\n",
      "\u001b[32m  ✓ \u001b[39mHarmonicBalance\n",
      "  1 dependency successfully precompiled in 49 seconds. 368 already precompiled.\n"
     ]
    }
   ],
   "source": [
    "using Symbolics\n",
    "using HarmonicBalance # modified to export _create_harmonic_variable and harmonic_ansatz  \n",
    "# using Revise "
   ]
  },
  {
   "cell_type": "code",
   "execution_count": 2,
   "id": "1d817b69",
   "metadata": {},
   "outputs": [
    {
     "name": "stdout",
     "output_type": "stream",
     "text": [
      "search: \u001b[0m\u001b[1m_\u001b[22m\u001b[0m\u001b[1mc\u001b[22m\u001b[0m\u001b[1mr\u001b[22m\u001b[0m\u001b[1me\u001b[22m\u001b[0m\u001b[1ma\u001b[22m\u001b[0m\u001b[1mt\u001b[22m\u001b[0m\u001b[1me\u001b[22m\u001b[0m\u001b[1m_\u001b[22m\u001b[0m\u001b[1mh\u001b[22m\u001b[0m\u001b[1ma\u001b[22m\u001b[0m\u001b[1mr\u001b[22m\u001b[0m\u001b[1mm\u001b[22m\u001b[0m\u001b[1mo\u001b[22m\u001b[0m\u001b[1mn\u001b[22m\u001b[0m\u001b[1mi\u001b[22m\u001b[0m\u001b[1mc\u001b[22m\u001b[0m\u001b[1m_\u001b[22m\u001b[0m\u001b[1mv\u001b[22m\u001b[0m\u001b[1ma\u001b[22m\u001b[0m\u001b[1mr\u001b[22m\u001b[0m\u001b[1mi\u001b[22m\u001b[0m\u001b[1ma\u001b[22m\u001b[0m\u001b[1mb\u001b[22m\u001b[0m\u001b[1ml\u001b[22m\u001b[0m\u001b[1me\u001b[22m\n",
      "\n"
     ]
    },
    {
     "data": {
      "text/latex": [
       "\\begin{verbatim}\n",
       "_create_harmonic_variable(\n",
       "    nat_var::Num,\n",
       "    ω::Num,\n",
       "    t::Num,\n",
       "    type::String;\n",
       "    new_symbol\n",
       ")\n",
       "\n",
       "\\end{verbatim}\n",
       "Creates a new harmonic variable and its corresponding transformation rule. This function takes a natural variable (\\texttt{nat\\_var}), a harmonic frequency (\\texttt{ω}), an independent variable (\\texttt{t}), and a type (\\texttt{type}), and creates a new harmonic variable with the specified \\texttt{new\\_symbol}. It returns a tuple containing the transformation rule and the new harmonic variable.\n",
       "\n"
      ],
      "text/markdown": [
       "```julia\n",
       "_create_harmonic_variable(\n",
       "    nat_var::Num,\n",
       "    ω::Num,\n",
       "    t::Num,\n",
       "    type::String;\n",
       "    new_symbol\n",
       ")\n",
       "\n",
       "```\n",
       "\n",
       "Creates a new harmonic variable and its corresponding transformation rule. This function takes a natural variable (`nat_var`), a harmonic frequency (`ω`), an independent variable (`t`), and a type (`type`), and creates a new harmonic variable with the specified `new_symbol`. It returns a tuple containing the transformation rule and the new harmonic variable.\n"
      ],
      "text/plain": [
       "\u001b[36m  _create_harmonic_variable(\u001b[39m\n",
       "\u001b[36m      nat_var::Num,\u001b[39m\n",
       "\u001b[36m      ω::Num,\u001b[39m\n",
       "\u001b[36m      t::Num,\u001b[39m\n",
       "\u001b[36m      type::String;\u001b[39m\n",
       "\u001b[36m      new_symbol\u001b[39m\n",
       "\u001b[36m  )\u001b[39m\n",
       "\u001b[36m  \u001b[39m\n",
       "\n",
       "  Creates a new harmonic variable and its corresponding transformation rule.\n",
       "  This function takes a natural variable (\u001b[36mnat_var\u001b[39m), a harmonic frequency (\u001b[36mω\u001b[39m),\n",
       "  an independent variable (\u001b[36mt\u001b[39m), and a type (\u001b[36mtype\u001b[39m), and creates a new harmonic\n",
       "  variable with the specified \u001b[36mnew_symbol\u001b[39m. It returns a tuple containing the\n",
       "  transformation rule and the new harmonic variable."
      ]
     },
     "execution_count": 2,
     "metadata": {},
     "output_type": "execute_result"
    }
   ],
   "source": [
    "?_create_harmonic_variable"
   ]
  },
  {
   "cell_type": "code",
   "execution_count": 42,
   "id": "5780e93a",
   "metadata": {},
   "outputs": [
    {
     "data": {
      "text/plain": [
       "_my_create_harmonic_variable (generic function with 1 method)"
      ]
     },
     "execution_count": 42,
     "metadata": {},
     "output_type": "execute_result"
    }
   ],
   "source": [
    "var_name(x::SymbolicUtils.Sym) = String(x.name)\n",
    "\n",
    "function _my_create_harmonic_variable(\n",
    "    nat_var::Num, ω::Num, t::Num, type::String; new_symbol::String\n",
    ")::Tuple{Num,HarmonicVariable}\n",
    "    new_var = declare_variable(new_symbol, t) # this holds the internal symbol\n",
    "    name = type * \"_{\" * var_name(nat_var) * \",\" * Base.replace(string(ω), \"*\" => \"\") * \"}\"\n",
    "    # contribution of this harmonic variable to the natural variable\n",
    "    rule = _coordinate_transform(new_var, ω, t, type)\n",
    "    hvar = HarmonicVariable(new_var, name, type, ω, nat_var)\n",
    "    return rule, hvar\n",
    "end"
   ]
  },
  {
   "cell_type": "code",
   "execution_count": 4,
   "id": "bc3c1702",
   "metadata": {},
   "outputs": [
    {
     "name": "stdout",
     "output_type": "stream",
     "text": [
      "search: \u001b[0m\u001b[1mh\u001b[22m\u001b[0m\u001b[1ma\u001b[22m\u001b[0m\u001b[1mr\u001b[22m\u001b[0m\u001b[1mm\u001b[22m\u001b[0m\u001b[1mo\u001b[22m\u001b[0m\u001b[1mn\u001b[22m\u001b[0m\u001b[1mi\u001b[22m\u001b[0m\u001b[1mc\u001b[22m\u001b[0m\u001b[1m_\u001b[22m\u001b[0m\u001b[1ma\u001b[22m\u001b[0m\u001b[1mn\u001b[22m\u001b[0m\u001b[1ms\u001b[22m\u001b[0m\u001b[1ma\u001b[22m\u001b[0m\u001b[1mt\u001b[22m\u001b[0m\u001b[1mz\u001b[22m get_\u001b[0m\u001b[1mh\u001b[22m\u001b[0m\u001b[1ma\u001b[22m\u001b[0m\u001b[1mr\u001b[22m\u001b[0m\u001b[1mm\u001b[22m\u001b[0m\u001b[1mo\u001b[22m\u001b[0m\u001b[1mn\u001b[22m\u001b[0m\u001b[1mi\u001b[22m\u001b[0m\u001b[1mc\u001b[22m\u001b[0m\u001b[1m_\u001b[22mequ\u001b[0m\u001b[1ma\u001b[22mtio\u001b[0m\u001b[1mn\u001b[22m\u001b[0m\u001b[1ms\u001b[22m\n",
      "\n"
     ]
    },
    {
     "data": {
      "text/latex": [
       "\\begin{verbatim}\n",
       "harmonic_ansatz(eom::DifferentialEquation, time::Num; coordinates=\"Cartesian\")\n",
       "\\end{verbatim}\n",
       "Expand each variable of \\texttt{diff\\_eom} using the harmonics assigned to it with \\texttt{time} as the time variable. For each harmonic of each variable, instance(s) of \\texttt{HarmonicVariable} are automatically created and named.\n",
       "\n"
      ],
      "text/markdown": [
       "```\n",
       "harmonic_ansatz(eom::DifferentialEquation, time::Num; coordinates=\"Cartesian\")\n",
       "```\n",
       "\n",
       "Expand each variable of `diff_eom` using the harmonics assigned to it with `time` as the time variable. For each harmonic of each variable, instance(s) of `HarmonicVariable` are automatically created and named.\n"
      ],
      "text/plain": [
       "\u001b[36m  harmonic_ansatz(eom::DifferentialEquation, time::Num; coordinates=\"Cartesian\")\u001b[39m\n",
       "\n",
       "  Expand each variable of \u001b[36mdiff_eom\u001b[39m using the harmonics assigned to it with\n",
       "  \u001b[36mtime\u001b[39m as the time variable. For each harmonic of each variable, instance(s)\n",
       "  of \u001b[36mHarmonicVariable\u001b[39m are automatically created and named."
      ]
     },
     "execution_count": 4,
     "metadata": {},
     "output_type": "execute_result"
    }
   ],
   "source": [
    "?harmonic_ansatz "
   ]
  },
  {
   "cell_type": "code",
   "execution_count": 5,
   "id": "51853160",
   "metadata": {},
   "outputs": [
    {
     "data": {
      "text/plain": [
       "my_harmonic_ansatz (generic function with 1 method)"
      ]
     },
     "execution_count": 5,
     "metadata": {},
     "output_type": "execute_result"
    }
   ],
   "source": [
    "function my_harmonic_ansatz(diff_eom::DifferentialEquation, time::Num)\n",
    "    ##!is_harmonic(diff_eom, time) &&\n",
    "    ##    error(\"The differential equation is not harmonic in \", time, \" !\")\n",
    "    eqs = collect(values(diff_eom.equations))\n",
    "    rules, vars = Dict(), []\n",
    "\n",
    "    # keep count to label new variables\n",
    "    uv_idx = 1\n",
    "    a_idx = 1\n",
    "\n",
    "    for nvar in get_variables(diff_eom) # sum over natural variables\n",
    "        to_substitute = Num(0) # combine all the substitution rules for var\n",
    "        for ω in diff_eom.harmonics[nvar]\n",
    "            if !isequal(ω, 0) # nonzero harmonic - create u,v\n",
    "                rule_u, hvar_u = _my_create_harmonic_variable(\n",
    "                    nvar, ω, time, \"u\"; new_symbol=\"u\" * string(uv_idx)\n",
    "                )\n",
    "                rule_v, hvar_v = _my_create_harmonic_variable(\n",
    "                    nvar, ω, time, \"v\"; new_symbol=\"v\" * string(uv_idx)\n",
    "                )\n",
    "                rule = rule_u + rule_v\n",
    "                uv_idx += 1\n",
    "                push!(vars, hvar_u, hvar_v)\n",
    "            else # zero harmonic - create a\n",
    "                rule, hvar = _my_create_harmonic_variable(\n",
    "                    nvar, ω, time, \"a\"; new_symbol=\"a\" * string(a_idx)\n",
    "                )\n",
    "                a_idx += 1\n",
    "                push!(vars, hvar)\n",
    "            end\n",
    "            to_substitute += rule\n",
    "        end\n",
    "\n",
    "        rules[nvar] = to_substitute # total sub rule for nvar\n",
    "    end\n",
    "    eqs = substitute_all(eqs, rules)\n",
    "    return HarmonicEquation(eqs, Vector{HarmonicVariable}(vars), diff_eom)\n",
    "end"
   ]
  },
  {
   "cell_type": "markdown",
   "id": "999f6ba2",
   "metadata": {},
   "source": [
    "## Section 1: Introduction\n",
    "\n",
    "Later more. "
   ]
  },
  {
   "cell_type": "markdown",
   "id": "a9969ea8",
   "metadata": {},
   "source": [
    "## Section 2: Some Internals of HarmonicBalance  "
   ]
  },
  {
   "cell_type": "markdown",
   "id": "b34a84bf",
   "metadata": {},
   "source": [
    "The package defines a mutable struct DifferentialEquation. "
   ]
  },
  {
   "cell_type": "code",
   "execution_count": 61,
   "id": "dd7fb488",
   "metadata": {},
   "outputs": [
    {
     "name": "stdout",
     "output_type": "stream",
     "text": [
      "search: \u001b[0m\u001b[1mD\u001b[22m\u001b[0m\u001b[1mi\u001b[22m\u001b[0m\u001b[1mf\u001b[22m\u001b[0m\u001b[1mf\u001b[22m\u001b[0m\u001b[1me\u001b[22m\u001b[0m\u001b[1mr\u001b[22m\u001b[0m\u001b[1me\u001b[22m\u001b[0m\u001b[1mn\u001b[22m\u001b[0m\u001b[1mt\u001b[22m\u001b[0m\u001b[1mi\u001b[22m\u001b[0m\u001b[1ma\u001b[22m\u001b[0m\u001b[1ml\u001b[22m\u001b[0m\u001b[1mE\u001b[22m\u001b[0m\u001b[1mq\u001b[22m\u001b[0m\u001b[1mu\u001b[22m\u001b[0m\u001b[1ma\u001b[22m\u001b[0m\u001b[1mt\u001b[22m\u001b[0m\u001b[1mi\u001b[22m\u001b[0m\u001b[1mo\u001b[22m\u001b[0m\u001b[1mn\u001b[22m\n",
      "\n"
     ]
    },
    {
     "data": {
      "text/latex": [
       "\\begin{verbatim}\n",
       "mutable struct DifferentialEquation\n",
       "\\end{verbatim}\n",
       "Holds differential equation(s) of motion and a set of harmonics to expand each variable. This is the primary input for \\texttt{HarmonicBalance.jl}. After inputting the equations, the harmonics ansatz needs to be specified using \\texttt{add\\_harmonic!}.\n",
       "\n",
       "\\section{Fields}\n",
       "\\begin{itemize}\n",
       "\\item \\texttt{equations::OrderedCollections.OrderedDict\\{Num, Equation\\}}: Assigns to each variable an equation of motion.\n",
       "\n",
       "\n",
       "\\item \\texttt{harmonics::OrderedCollections.OrderedDict\\{Num, OrderedCollections.OrderedSet\\{Num\\}\\}}: Assigns to each variable a set of harmonics.\n",
       "\n",
       "\\end{itemize}\n",
       "\\subsection{Example}\n",
       "\\begin{verbatim}\n",
       "julia> @variables t, x(t), y(t), ω0, ω, F, k;\n",
       "\n",
       "# equivalent ways to enter the simple harmonic oscillator\n",
       "julia> DifferentialEquation(d(x,t,2) + ω0^2 * x - F * cos(ω*t), x);\n",
       "julia> DifferentialEquation(d(x,t,2) + ω0^2 * x ~ F * cos(ω*t), x);\n",
       "\n",
       "# two coupled oscillators, one of them driven\n",
       "julia> DifferentialEquation(\n",
       "    [d(x,t,2) + ω0^2 * x - k*y, d(y,t,2) + ω0^2 * y - k*x] .~ [F * cos(ω*t), 0], [x,y]\n",
       ");\n",
       "\\end{verbatim}\n"
      ],
      "text/markdown": [
       "```julia\n",
       "mutable struct DifferentialEquation\n",
       "```\n",
       "\n",
       "Holds differential equation(s) of motion and a set of harmonics to expand each variable. This is the primary input for `HarmonicBalance.jl`. After inputting the equations, the harmonics ansatz needs to be specified using `add_harmonic!`.\n",
       "\n",
       "# Fields\n",
       "\n",
       "  * `equations::OrderedCollections.OrderedDict{Num, Equation}`: Assigns to each variable an equation of motion.\n",
       "  * `harmonics::OrderedCollections.OrderedDict{Num, OrderedCollections.OrderedSet{Num}}`: Assigns to each variable a set of harmonics.\n",
       "\n",
       "## Example\n",
       "\n",
       "```julia-repl\n",
       "julia> @variables t, x(t), y(t), ω0, ω, F, k;\n",
       "\n",
       "# equivalent ways to enter the simple harmonic oscillator\n",
       "julia> DifferentialEquation(d(x,t,2) + ω0^2 * x - F * cos(ω*t), x);\n",
       "julia> DifferentialEquation(d(x,t,2) + ω0^2 * x ~ F * cos(ω*t), x);\n",
       "\n",
       "# two coupled oscillators, one of them driven\n",
       "julia> DifferentialEquation(\n",
       "    [d(x,t,2) + ω0^2 * x - k*y, d(y,t,2) + ω0^2 * y - k*x] .~ [F * cos(ω*t), 0], [x,y]\n",
       ");\n",
       "```\n"
      ],
      "text/plain": [
       "\u001b[36m  mutable struct DifferentialEquation\u001b[39m\n",
       "\n",
       "  Holds differential equation(s) of motion and a set of harmonics to expand\n",
       "  each variable. This is the primary input for \u001b[36mHarmonicBalance.jl\u001b[39m. After\n",
       "  inputting the equations, the harmonics ansatz needs to be specified using\n",
       "  \u001b[36madd_harmonic!\u001b[39m.\n",
       "\n",
       "\u001b[1m  Fields\u001b[22m\n",
       "\u001b[1m  ≡≡≡≡≡≡\u001b[22m\n",
       "\n",
       "    •  \u001b[36mequations::OrderedCollections.OrderedDict{Num, Equation}\u001b[39m: Assigns\n",
       "       to each variable an equation of motion.\n",
       "\n",
       "    •  \u001b[36mharmonics::OrderedCollections.OrderedDict{Num,\n",
       "       OrderedCollections.OrderedSet{Num}}\u001b[39m: Assigns to each variable a\n",
       "       set of harmonics.\n",
       "\n",
       "\u001b[1m  Example\u001b[22m\n",
       "\u001b[1m  =======\u001b[22m\n",
       "\n",
       "\u001b[36m  julia> @variables t, x(t), y(t), ω0, ω, F, k;\u001b[39m\n",
       "\u001b[36m  \u001b[39m\n",
       "\u001b[36m  # equivalent ways to enter the simple harmonic oscillator\u001b[39m\n",
       "\u001b[36m  julia> DifferentialEquation(d(x,t,2) + ω0^2 * x - F * cos(ω*t), x);\u001b[39m\n",
       "\u001b[36m  julia> DifferentialEquation(d(x,t,2) + ω0^2 * x ~ F * cos(ω*t), x);\u001b[39m\n",
       "\u001b[36m  \u001b[39m\n",
       "\u001b[36m  # two coupled oscillators, one of them driven\u001b[39m\n",
       "\u001b[36m  julia> DifferentialEquation(\u001b[39m\n",
       "\u001b[36m      [d(x,t,2) + ω0^2 * x - k*y, d(y,t,2) + ω0^2 * y - k*x] .~ [F * cos(ω*t), 0], [x,y]\u001b[39m\n",
       "\u001b[36m  );\u001b[39m"
      ]
     },
     "execution_count": 61,
     "metadata": {},
     "output_type": "execute_result"
    }
   ],
   "source": [
    "?DifferentialEquation"
   ]
  },
  {
   "cell_type": "markdown",
   "id": "fe0e06d1",
   "metadata": {},
   "source": [
    "Take the definition of the function flatten() from HarmonicBalance.jl. The package does "
   ]
  },
  {
   "cell_type": "code",
   "execution_count": 62,
   "id": "42c06626",
   "metadata": {},
   "outputs": [
    {
     "data": {
      "text/plain": [
       "flatten (generic function with 1 method)"
      ]
     },
     "execution_count": 62,
     "metadata": {},
     "output_type": "execute_result"
    }
   ],
   "source": [
    "flatten(a) = collect(Iterators.flatten(a))"
   ]
  },
  {
   "cell_type": "markdown",
   "id": "8a621085",
   "metadata": {},
   "source": [
    "How does get_independent_variables work? "
   ]
  },
  {
   "cell_type": "code",
   "execution_count": 63,
   "id": "d1f348b6",
   "metadata": {},
   "outputs": [
    {
     "name": "stdout",
     "output_type": "stream",
     "text": [
      "search: \u001b[0m\u001b[1mg\u001b[22m\u001b[0m\u001b[1me\u001b[22m\u001b[0m\u001b[1mt\u001b[22m\u001b[0m\u001b[1m_\u001b[22m\u001b[0m\u001b[1mi\u001b[22m\u001b[0m\u001b[1mn\u001b[22m\u001b[0m\u001b[1md\u001b[22m\u001b[0m\u001b[1me\u001b[22m\u001b[0m\u001b[1mp\u001b[22m\u001b[0m\u001b[1me\u001b[22m\u001b[0m\u001b[1mn\u001b[22m\u001b[0m\u001b[1md\u001b[22m\u001b[0m\u001b[1me\u001b[22m\u001b[0m\u001b[1mn\u001b[22m\u001b[0m\u001b[1mt\u001b[22m\u001b[0m\u001b[1m_\u001b[22m\u001b[0m\u001b[1mv\u001b[22m\u001b[0m\u001b[1ma\u001b[22m\u001b[0m\u001b[1mr\u001b[22m\u001b[0m\u001b[1mi\u001b[22m\u001b[0m\u001b[1ma\u001b[22m\u001b[0m\u001b[1mb\u001b[22m\u001b[0m\u001b[1ml\u001b[22m\u001b[0m\u001b[1me\u001b[22m\u001b[0m\u001b[1ms\u001b[22m\n",
      "\n"
     ]
    },
    {
     "data": {
      "text/latex": [
       "\\begin{verbatim}\n",
       "get_independent_variables(\n",
       "    diff_eom::DifferentialEquation\n",
       ") -> Any\n",
       "\n",
       "\\end{verbatim}\n",
       "Return the independent dependent variables of \\texttt{diff\\_eom}.\n",
       "\n",
       "\\rule{\\textwidth}{1pt}\n",
       "\\begin{verbatim}\n",
       "get_independent_variables(\n",
       "    eom::HarmonicEquation\n",
       ") -> Vector{Num}\n",
       "\n",
       "\\end{verbatim}\n",
       "Return the independent variables (typically time) of \\texttt{eom}.\n",
       "\n"
      ],
      "text/markdown": [
       "```julia\n",
       "get_independent_variables(\n",
       "    diff_eom::DifferentialEquation\n",
       ") -> Any\n",
       "\n",
       "```\n",
       "\n",
       "Return the independent dependent variables of `diff_eom`.\n",
       "\n",
       "---\n",
       "\n",
       "```julia\n",
       "get_independent_variables(\n",
       "    eom::HarmonicEquation\n",
       ") -> Vector{Num}\n",
       "\n",
       "```\n",
       "\n",
       "Return the independent variables (typically time) of `eom`.\n"
      ],
      "text/plain": [
       "\u001b[36m  get_independent_variables(\u001b[39m\n",
       "\u001b[36m      diff_eom::DifferentialEquation\u001b[39m\n",
       "\u001b[36m  ) -> Any\u001b[39m\n",
       "\u001b[36m  \u001b[39m\n",
       "\n",
       "  Return the independent dependent variables of \u001b[36mdiff_eom\u001b[39m.\n",
       "\n",
       "  ────────────────────────────────────────────────────────────────────────────\n",
       "\n",
       "\u001b[36m  get_independent_variables(\u001b[39m\n",
       "\u001b[36m      eom::HarmonicEquation\u001b[39m\n",
       "\u001b[36m  ) -> Vector{Num}\u001b[39m\n",
       "\u001b[36m  \u001b[39m\n",
       "\n",
       "  Return the independent variables (typically time) of \u001b[36meom\u001b[39m."
      ]
     },
     "execution_count": 63,
     "metadata": {},
     "output_type": "execute_result"
    }
   ],
   "source": [
    "?get_independent_variables"
   ]
  },
  {
   "cell_type": "markdown",
   "id": "df74684f",
   "metadata": {},
   "source": [
    "## Section 3: Single ODE Example \n",
    "\n",
    "We study the single ODE example as a reference for future examples.  "
   ]
  },
  {
   "cell_type": "markdown",
   "id": "564660f2",
   "metadata": {},
   "source": [
    "### Single ODE Example Reformulated as Provided by Harmonic Balance "
   ]
  },
  {
   "cell_type": "code",
   "execution_count": 64,
   "id": "9f79b1d7",
   "metadata": {},
   "outputs": [
    {
     "data": {
      "text/plain": [
       "\"equations\""
      ]
     },
     "metadata": {},
     "output_type": "display_data"
    },
    {
     "data": {
      "text/plain": [
       "OrderedCollections.OrderedDict{Num, Equation} with 1 entry:\n",
       "  x(t) => Differential(t)(Differential(t)(x(t))) - F*cos(t*ω) + x(t)*(ω0^2) ~ 0"
      ]
     },
     "metadata": {},
     "output_type": "display_data"
    },
    {
     "data": {
      "text/plain": [
       "\"harmonics\""
      ]
     },
     "metadata": {},
     "output_type": "display_data"
    },
    {
     "data": {
      "text/plain": [
       "OrderedCollections.OrderedDict{Num, OrderedCollections.OrderedSet{Num}} with 1 entry:\n",
       "  x(t) => OrderedSet{Num}()"
      ]
     },
     "metadata": {},
     "output_type": "display_data"
    },
    {
     "data": {
      "text/plain": [
       "\"equations\""
      ]
     },
     "metadata": {},
     "output_type": "display_data"
    },
    {
     "data": {
      "text/plain": [
       "OrderedCollections.OrderedDict{Num, Equation} with 1 entry:\n",
       "  x(t) => Differential(t)(Differential(t)(x(t))) - F*cos(t*ω) + x(t)*(ω0^2) ~ 0"
      ]
     },
     "metadata": {},
     "output_type": "display_data"
    },
    {
     "data": {
      "text/plain": [
       "\"harmonics\""
      ]
     },
     "metadata": {},
     "output_type": "display_data"
    },
    {
     "data": {
      "text/plain": [
       "OrderedCollections.OrderedDict{Num, OrderedCollections.OrderedSet{Num}} with 1 entry:\n",
       "  x(t) => OrderedSet{Num}([ω])"
      ]
     },
     "metadata": {},
     "output_type": "display_data"
    },
    {
     "data": {
      "text/latex": [
       "$$ \\begin{equation}\n",
       "\\left[\n",
       "\\begin{array}{c}\n",
       "t \\\\\n",
       "\\end{array}\n",
       "\\right]\n",
       "\\end{equation}\n",
       " $$"
      ],
      "text/plain": [
       "1-element Vector{Num}:\n",
       " t"
      ]
     },
     "execution_count": 64,
     "metadata": {},
     "output_type": "execute_result"
    }
   ],
   "source": [
    "@variables t, x(t), ω0, ω, F, k;\n",
    "diff_eq1 = DifferentialEquation(d(x,t,2) + ω0^2 * x - F * cos(ω*t), x)\n",
    "show(diff_eq1)\n",
    "add_harmonic!(diff_eq1, x, ω)\n",
    "show(diff_eq1)\n",
    "get_harmonic_equations(diff_eq1) \n",
    "get_independent_variables(diff_eq1)"
   ]
  },
  {
   "cell_type": "code",
   "execution_count": 65,
   "id": "552f76af",
   "metadata": {},
   "outputs": [
    {
     "ename": "LoadError",
     "evalue": "type Num has no field name",
     "output_type": "error",
     "traceback": [
      "type Num has no field name",
      "",
      "Stacktrace:",
      " [1] getproperty(x::Num, f::Symbol)",
      "   @ Base ./Base.jl:37",
      " [2] top-level scope",
      "   @ In[65]:1"
     ]
    }
   ],
   "source": [
    "x.name"
   ]
  },
  {
   "cell_type": "code",
   "execution_count": 10,
   "id": "e0d7332c",
   "metadata": {},
   "outputs": [
    {
     "data": {
      "text/plain": [
       "Base.KeySet{Num, OrderedCollections.OrderedDict{Num, Equation}}"
      ]
     },
     "execution_count": 10,
     "metadata": {},
     "output_type": "execute_result"
    }
   ],
   "source": [
    "typeof(keys(diff_eq1.equations))"
   ]
  },
  {
   "cell_type": "code",
   "execution_count": 11,
   "id": "5ed6f2d1",
   "metadata": {},
   "outputs": [
    {
     "data": {
      "text/plain": [
       "A set of 1 harmonic equations\n",
       "Variables: u1(t), v1(t)\n",
       "Parameters: ω, F, ω0\n",
       "\n",
       "Harmonic ansatz: \n",
       "x(t) = u1(t)*cos(ωt) + v1(t)*sin(ωt)\n",
       "\n",
       "Harmonic equations:\n",
       "\n",
       "Differential(t)(Differential(t)(u1(t)*cos(t*ω) + v1(t)*sin(t*ω))) - F*cos(t*ω) + (u1(t)*cos(t*ω) + v1(t)*sin(t*ω))*(ω0^2) ~ 0\n"
      ]
     },
     "execution_count": 11,
     "metadata": {},
     "output_type": "execute_result"
    }
   ],
   "source": [
    "harmonic_ansatz(diff_eq1, t) "
   ]
  },
  {
   "cell_type": "markdown",
   "id": "f73d7819",
   "metadata": {},
   "source": [
    "### Single ODE Example Reformulated - Original function get_independent_variables()"
   ]
  },
  {
   "cell_type": "code",
   "execution_count": 12,
   "id": "294ae928",
   "metadata": {},
   "outputs": [
    {
     "data": {
      "text/plain": [
       "\"equations\""
      ]
     },
     "metadata": {},
     "output_type": "display_data"
    },
    {
     "data": {
      "text/plain": [
       "OrderedCollections.OrderedDict{Num, Equation} with 1 entry:\n",
       "  (x(t))[1] => Differential(t)(Differential(t)((x(t))[1])) - F*cos(t*ω) + (x(t)…"
      ]
     },
     "metadata": {},
     "output_type": "display_data"
    },
    {
     "data": {
      "text/plain": [
       "\"harmonics\""
      ]
     },
     "metadata": {},
     "output_type": "display_data"
    },
    {
     "data": {
      "text/plain": [
       "OrderedCollections.OrderedDict{Num, OrderedCollections.OrderedSet{Num}} with 1 entry:\n",
       "  (x(t))[1] => OrderedSet{Num}()"
      ]
     },
     "metadata": {},
     "output_type": "display_data"
    },
    {
     "data": {
      "text/latex": [
       "$$ \\begin{equation}\n",
       "\\left[\n",
       "\\begin{array}{c}\n",
       "x\\left( t \\right) \\\\\n",
       "1 \\\\\n",
       "\\end{array}\n",
       "\\right]\n",
       "\\end{equation}\n",
       " $$"
      ],
      "text/plain": [
       "2-element Vector{Num}:\n",
       " x(t)\n",
       "    1"
      ]
     },
     "execution_count": 12,
     "metadata": {},
     "output_type": "execute_result"
    }
   ],
   "source": [
    "@variables t, (x(t))[1], ω0, ω, F, k;\n",
    "diff_eq2 = DifferentialEquation(d(x[1],t,2) + ω0^2 * x[1] - F * cos(ω*t), x[1])\n",
    "show(diff_eq2)\n",
    "get_independent_variables(diff_eq2) "
   ]
  },
  {
   "cell_type": "code",
   "execution_count": 13,
   "id": "b2d9b16d",
   "metadata": {},
   "outputs": [
    {
     "data": {
      "text/plain": [
       "KeySet for a OrderedCollections.OrderedDict{Num, Equation} with 1 entry. Keys:\n",
       "  (x(t))[1]"
      ]
     },
     "execution_count": 13,
     "metadata": {},
     "output_type": "execute_result"
    }
   ],
   "source": [
    "keys(diff_eq2.equations)"
   ]
  },
  {
   "cell_type": "code",
   "execution_count": 14,
   "id": "a1af5d00",
   "metadata": {},
   "outputs": [
    {
     "data": {
      "text/plain": [
       "Base.KeySet{Num, OrderedCollections.OrderedDict{Num, Equation}}"
      ]
     },
     "execution_count": 14,
     "metadata": {},
     "output_type": "execute_result"
    }
   ],
   "source": [
    "typeof(keys(diff_eq2.equations))"
   ]
  },
  {
   "cell_type": "code",
   "execution_count": 15,
   "id": "5fe6b0f2",
   "metadata": {},
   "outputs": [
    {
     "data": {
      "text/latex": [
       "$$ \\begin{equation}\n",
       "\\left[\n",
       "\\begin{array}{c}\n",
       "t \\\\\n",
       "\\end{array}\n",
       "\\right]\n",
       "\\end{equation}\n",
       " $$"
      ],
      "text/plain": [
       "1-element Vector{Num}:\n",
       " t"
      ]
     },
     "execution_count": 15,
     "metadata": {},
     "output_type": "execute_result"
    }
   ],
   "source": [
    "Num.(only([arguments(arguments(Symbolics.value(x[1]))[1]) for x in keys(diff_eq2.equations)]))"
   ]
  },
  {
   "cell_type": "code",
   "execution_count": 16,
   "id": "e7de0d00",
   "metadata": {},
   "outputs": [
    {
     "data": {
      "text/plain": [
       "\"equations\""
      ]
     },
     "metadata": {},
     "output_type": "display_data"
    },
    {
     "data": {
      "text/plain": [
       "OrderedCollections.OrderedDict{Num, Equation} with 1 entry:\n",
       "  (x(t))[1] => Differential(t)(Differential(t)((x(t))[1])) - F*cos(t*ω) + (x(t)…"
      ]
     },
     "metadata": {},
     "output_type": "display_data"
    },
    {
     "data": {
      "text/plain": [
       "\"harmonics\""
      ]
     },
     "metadata": {},
     "output_type": "display_data"
    },
    {
     "data": {
      "text/plain": [
       "OrderedCollections.OrderedDict{Num, OrderedCollections.OrderedSet{Num}} with 1 entry:\n",
       "  (x(t))[1] => OrderedSet{Num}([ω])"
      ]
     },
     "metadata": {},
     "output_type": "display_data"
    }
   ],
   "source": [
    "add_harmonic!(diff_eq2, x[1], ω)\n",
    "show(diff_eq2)"
   ]
  },
  {
   "cell_type": "markdown",
   "id": "faed95d2",
   "metadata": {},
   "source": [
    "### Original function get_independent_variables()\n",
    "\n",
    "function get_independent_variables(eom::HarmonicEquation)::Vector{Num}\n",
    "    dynamic_vars = flatten(getfield.(eom.variables, Symbol(\"symbols\")))\n",
    "    return flatten(unique([SymbolicUtils.arguments(var.val) for var in dynamic_vars]))\n",
    "end"
   ]
  },
  {
   "cell_type": "code",
   "execution_count": 17,
   "id": "8685df97",
   "metadata": {
    "scrolled": true
   },
   "outputs": [
    {
     "data": {
      "text/html": [
       "# 2 methods for generic function <b>get_independent_variables</b> from \u001b[35mHarmonicBalance\u001b[39m:<ul><li> get_independent_variables(eom::<b>HarmonicEquation</b>) in HarmonicBalance at <a href=\"file:///Users/djplahaye/.julia/packages/HarmonicBalance/7D2O8/src/HarmonicEquation.jl\" target=\"_blank\">/Users/djplahaye/.julia/packages/HarmonicBalance/7D2O8/src/HarmonicEquation.jl:225</a></li> <li> get_independent_variables(diff_eom::<b>DifferentialEquation</b>) in HarmonicBalance at <a href=\"file:///Users/djplahaye/.julia/packages/HarmonicBalance/7D2O8/src/DifferentialEquation.jl\" target=\"_blank\">/Users/djplahaye/.julia/packages/HarmonicBalance/7D2O8/src/DifferentialEquation.jl:136</a></li> </ul>"
      ],
      "text/plain": [
       "# 2 methods for generic function \"get_independent_variables\" from \u001b[35mHarmonicBalance\u001b[39m:\n",
       " [1] get_independent_variables(\u001b[90meom\u001b[39m::\u001b[1mHarmonicEquation\u001b[22m)\n",
       "\u001b[90m     @\u001b[39m \u001b[90m~/.julia/packages/HarmonicBalance/7D2O8/src/\u001b[39m\u001b[90m\u001b[4mHarmonicEquation.jl:225\u001b[24m\u001b[39m\n",
       " [2] get_independent_variables(\u001b[90mdiff_eom\u001b[39m::\u001b[1mDifferentialEquation\u001b[22m)\n",
       "\u001b[90m     @\u001b[39m \u001b[90m~/.julia/packages/HarmonicBalance/7D2O8/src/\u001b[39m\u001b[90m\u001b[4mDifferentialEquation.jl:136\u001b[24m\u001b[39m"
      ]
     },
     "execution_count": 17,
     "metadata": {},
     "output_type": "execute_result"
    }
   ],
   "source": [
    "methods(get_independent_variables)"
   ]
  },
  {
   "cell_type": "code",
   "execution_count": 18,
   "id": "8e573903",
   "metadata": {},
   "outputs": [
    {
     "ename": "LoadError",
     "evalue": "invalid method definition in Main: function HarmonicBalance.get_independent_variables must be explicitly imported to be extended",
     "output_type": "error",
     "traceback": [
      "invalid method definition in Main: function HarmonicBalance.get_independent_variables must be explicitly imported to be extended",
      "",
      "Stacktrace:",
      " [1] top-level scope",
      "   @ none:0",
      " [2] top-level scope",
      "   @ In[18]:1"
     ]
    }
   ],
   "source": [
    "function get_independent_variables(diff_eom::DifferentialEquation)\n",
    "    return Num.(flatten(unique([x.val.arguments for x in keys(diff_eom.equations)])))\n",
    "end"
   ]
  },
  {
   "cell_type": "code",
   "execution_count": 19,
   "id": "5f7d0d20",
   "metadata": {},
   "outputs": [
    {
     "name": "stdout",
     "output_type": "stream",
     "text": [
      "search: \u001b[0m\u001b[1mg\u001b[22m\u001b[0m\u001b[1me\u001b[22m\u001b[0m\u001b[1mt\u001b[22m\u001b[0m\u001b[1m_\u001b[22m\u001b[0m\u001b[1mv\u001b[22m\u001b[0m\u001b[1ma\u001b[22m\u001b[0m\u001b[1mr\u001b[22m\u001b[0m\u001b[1mi\u001b[22m\u001b[0m\u001b[1ma\u001b[22m\u001b[0m\u001b[1mb\u001b[22m\u001b[0m\u001b[1ml\u001b[22m\u001b[0m\u001b[1me\u001b[22m\u001b[0m\u001b[1ms\u001b[22m \u001b[0m\u001b[1mg\u001b[22m\u001b[0m\u001b[1me\u001b[22m\u001b[0m\u001b[1mt\u001b[22m\u001b[0m\u001b[1m_\u001b[22mcycle_\u001b[0m\u001b[1mv\u001b[22m\u001b[0m\u001b[1ma\u001b[22m\u001b[0m\u001b[1mr\u001b[22m\u001b[0m\u001b[1mi\u001b[22m\u001b[0m\u001b[1ma\u001b[22m\u001b[0m\u001b[1mb\u001b[22m\u001b[0m\u001b[1ml\u001b[22m\u001b[0m\u001b[1me\u001b[22m\u001b[0m\u001b[1ms\u001b[22m \u001b[0m\u001b[1mg\u001b[22m\u001b[0m\u001b[1me\u001b[22m\u001b[0m\u001b[1mt\u001b[22m\u001b[0m\u001b[1m_\u001b[22mindependent_\u001b[0m\u001b[1mv\u001b[22m\u001b[0m\u001b[1ma\u001b[22m\u001b[0m\u001b[1mr\u001b[22m\u001b[0m\u001b[1mi\u001b[22m\u001b[0m\u001b[1ma\u001b[22m\u001b[0m\u001b[1mb\u001b[22m\u001b[0m\u001b[1ml\u001b[22m\u001b[0m\u001b[1me\u001b[22m\u001b[0m\u001b[1ms\u001b[22m\n",
      "\n"
     ]
    },
    {
     "data": {
      "text/latex": [
       "\\begin{verbatim}\n",
       "get_variables(e, varlist = nothing; sort::Bool = false)\n",
       "\\end{verbatim}\n",
       "Return a vector of variables appearing in \\texttt{e}, optionally restricting to variables in \\texttt{varlist}.\n",
       "\n",
       "Note that the returned variables are not wrapped in the \\texttt{Num} type.\n",
       "\n",
       "\\section{Examples}\n",
       "\\begin{verbatim}\n",
       "julia> @variables t x y z(t);\n",
       "\n",
       "julia> Symbolics.get_variables(x + y + sin(z); sort = true)\n",
       "3-element Vector{SymbolicUtils.BasicSymbolic}:\n",
       " x\n",
       " y\n",
       " z(t)\n",
       "\n",
       "julia> Symbolics.get_variables(x - y; sort = true)\n",
       "2-element Vector{SymbolicUtils.BasicSymbolic}:\n",
       " x\n",
       " y\n",
       "\\end{verbatim}\n",
       "\\rule{\\textwidth}{1pt}\n",
       "\\begin{verbatim}\n",
       "get_variables(diff_eom::DifferentialEquation) -> Vector{Num}\n",
       "\n",
       "\\end{verbatim}\n",
       "Return the dependent variables of \\texttt{diff\\_eom}.\n",
       "\n",
       "\\rule{\\textwidth}{1pt}\n",
       "\\begin{verbatim}\n",
       "get_variables(eom::HarmonicEquation) -> Vector{Num}\n",
       "\n",
       "\\end{verbatim}\n",
       "Get the internal symbols of the independent variables of \\texttt{eom}.\n",
       "\n"
      ],
      "text/markdown": [
       "```\n",
       "get_variables(e, varlist = nothing; sort::Bool = false)\n",
       "```\n",
       "\n",
       "Return a vector of variables appearing in `e`, optionally restricting to variables in `varlist`.\n",
       "\n",
       "Note that the returned variables are not wrapped in the `Num` type.\n",
       "\n",
       "# Examples\n",
       "\n",
       "```julia\n",
       "julia> @variables t x y z(t);\n",
       "\n",
       "julia> Symbolics.get_variables(x + y + sin(z); sort = true)\n",
       "3-element Vector{SymbolicUtils.BasicSymbolic}:\n",
       " x\n",
       " y\n",
       " z(t)\n",
       "\n",
       "julia> Symbolics.get_variables(x - y; sort = true)\n",
       "2-element Vector{SymbolicUtils.BasicSymbolic}:\n",
       " x\n",
       " y\n",
       "```\n",
       "\n",
       "---\n",
       "\n",
       "```julia\n",
       "get_variables(diff_eom::DifferentialEquation) -> Vector{Num}\n",
       "\n",
       "```\n",
       "\n",
       "Return the dependent variables of `diff_eom`.\n",
       "\n",
       "---\n",
       "\n",
       "```julia\n",
       "get_variables(eom::HarmonicEquation) -> Vector{Num}\n",
       "\n",
       "```\n",
       "\n",
       "Get the internal symbols of the independent variables of `eom`.\n"
      ],
      "text/plain": [
       "\u001b[36m  get_variables(e, varlist = nothing; sort::Bool = false)\u001b[39m\n",
       "\n",
       "  Return a vector of variables appearing in \u001b[36me\u001b[39m, optionally restricting to\n",
       "  variables in \u001b[36mvarlist\u001b[39m.\n",
       "\n",
       "  Note that the returned variables are not wrapped in the \u001b[36mNum\u001b[39m type.\n",
       "\n",
       "\u001b[1m  Examples\u001b[22m\n",
       "\u001b[1m  ≡≡≡≡≡≡≡≡\u001b[22m\n",
       "\n",
       "\u001b[36m  julia> @variables t x y z(t);\u001b[39m\n",
       "\u001b[36m  \u001b[39m\n",
       "\u001b[36m  julia> Symbolics.get_variables(x + y + sin(z); sort = true)\u001b[39m\n",
       "\u001b[36m  3-element Vector{SymbolicUtils.BasicSymbolic}:\u001b[39m\n",
       "\u001b[36m   x\u001b[39m\n",
       "\u001b[36m   y\u001b[39m\n",
       "\u001b[36m   z(t)\u001b[39m\n",
       "\u001b[36m  \u001b[39m\n",
       "\u001b[36m  julia> Symbolics.get_variables(x - y; sort = true)\u001b[39m\n",
       "\u001b[36m  2-element Vector{SymbolicUtils.BasicSymbolic}:\u001b[39m\n",
       "\u001b[36m   x\u001b[39m\n",
       "\u001b[36m   y\u001b[39m\n",
       "\n",
       "  ────────────────────────────────────────────────────────────────────────────\n",
       "\n",
       "\u001b[36m  get_variables(diff_eom::DifferentialEquation) -> Vector{Num}\u001b[39m\n",
       "\u001b[36m  \u001b[39m\n",
       "\n",
       "  Return the dependent variables of \u001b[36mdiff_eom\u001b[39m.\n",
       "\n",
       "  ────────────────────────────────────────────────────────────────────────────\n",
       "\n",
       "\u001b[36m  get_variables(eom::HarmonicEquation) -> Vector{Num}\u001b[39m\n",
       "\u001b[36m  \u001b[39m\n",
       "\n",
       "  Get the internal symbols of the independent variables of \u001b[36meom\u001b[39m."
      ]
     },
     "execution_count": 19,
     "metadata": {},
     "output_type": "execute_result"
    }
   ],
   "source": [
    "?get_variables"
   ]
  },
  {
   "cell_type": "markdown",
   "id": "372ff440",
   "metadata": {},
   "source": [
    "## Section 4: Two-ODE Example as Provided by HarmonicBalance"
   ]
  },
  {
   "cell_type": "markdown",
   "id": "0e709501",
   "metadata": {},
   "source": [
    "Run the example provided as example with the documentation of HarmonicBalance.jl. "
   ]
  },
  {
   "cell_type": "code",
   "execution_count": 49,
   "id": "86f9e1d9",
   "metadata": {},
   "outputs": [
    {
     "data": {
      "text/plain": [
       "System of 2 differential equations\n",
       "Variables:       x(t), y(t)\n",
       "Harmonic ansatz: x(t) => ;   y(t) => ;   \n",
       "\n",
       "Differential(t)(Differential(t)(x(t))) - k*y(t) + x(t)*(ω0^2) ~ F*cos(t*ω)\n",
       "Differential(t)(Differential(t)(y(t))) - k*x(t) + y(t)*(ω0^2) ~ 0\n"
      ]
     },
     "execution_count": 49,
     "metadata": {},
     "output_type": "execute_result"
    }
   ],
   "source": [
    "@variables t, x(t), y(t), ω0, ω, F, k;\n",
    "\n",
    "diff_eq3 = DifferentialEquation(\n",
    "    [d(x,t,2) + ω0^2 * x - k*y, d(y,t,2) + ω0^2 * y - k*x] .~ [F * cos(ω*t), 0], [x,y]\n",
    ")"
   ]
  },
  {
   "cell_type": "code",
   "execution_count": 60,
   "id": "05c99a29",
   "metadata": {},
   "outputs": [
    {
     "ename": "LoadError",
     "evalue": "MethodError: no method matching var_name(::Num)\n\n\u001b[0mClosest candidates are:\n\u001b[0m  var_name(\u001b[91m::SymbolicUtils.Sym\u001b[39m)\n\u001b[0m\u001b[90m   @\u001b[39m \u001b[36mMain\u001b[39m \u001b[90m\u001b[4mIn[42]:1\u001b[24m\u001b[39m\n",
     "output_type": "error",
     "traceback": [
      "MethodError: no method matching var_name(::Num)\n\n\u001b[0mClosest candidates are:\n\u001b[0m  var_name(\u001b[91m::SymbolicUtils.Sym\u001b[39m)\n\u001b[0m\u001b[90m   @\u001b[39m \u001b[36mMain\u001b[39m \u001b[90m\u001b[4mIn[42]:1\u001b[24m\u001b[39m\n",
      "",
      "Stacktrace:",
      " [1] top-level scope",
      "   @ In[60]:1"
     ]
    }
   ],
   "source": [
    "var_name(x)"
   ]
  },
  {
   "cell_type": "code",
   "execution_count": 51,
   "id": "a94fba85",
   "metadata": {},
   "outputs": [
    {
     "data": {
      "text/plain": [
       "DifferentialEquation"
      ]
     },
     "execution_count": 51,
     "metadata": {},
     "output_type": "execute_result"
    }
   ],
   "source": [
    "typeof(diff_eq3)"
   ]
  },
  {
   "cell_type": "code",
   "execution_count": 52,
   "id": "cce17556",
   "metadata": {},
   "outputs": [
    {
     "data": {
      "text/plain": [
       "\"equations\""
      ]
     },
     "metadata": {},
     "output_type": "display_data"
    },
    {
     "data": {
      "text/plain": [
       "OrderedCollections.OrderedDict{Num, Equation} with 2 entries:\n",
       "  x(t) => Differential(t)(Differential(t)(x(t))) - k*y(t) + x(t)*(ω0^2) ~ F*cos…\n",
       "  y(t) => Differential(t)(Differential(t)(y(t))) - k*x(t) + y(t)*(ω0^2) ~ 0"
      ]
     },
     "metadata": {},
     "output_type": "display_data"
    },
    {
     "data": {
      "text/plain": [
       "\"harmonics\""
      ]
     },
     "metadata": {},
     "output_type": "display_data"
    },
    {
     "data": {
      "text/plain": [
       "OrderedCollections.OrderedDict{Num, OrderedCollections.OrderedSet{Num}} with 2 entries:\n",
       "  x(t) => OrderedSet{Num}()\n",
       "  y(t) => OrderedSet{Num}()"
      ]
     },
     "metadata": {},
     "output_type": "display_data"
    }
   ],
   "source": [
    "show(diff_eq3)"
   ]
  },
  {
   "cell_type": "code",
   "execution_count": 53,
   "id": "4b42ccdf",
   "metadata": {},
   "outputs": [
    {
     "data": {
      "text/plain": [
       "KeySet for a OrderedCollections.OrderedDict{Num, Equation} with 2 entries. Keys:\n",
       "  x(t)\n",
       "  y(t)"
      ]
     },
     "execution_count": 53,
     "metadata": {},
     "output_type": "execute_result"
    }
   ],
   "source": [
    "keys(diff_eq3.equations)"
   ]
  },
  {
   "cell_type": "code",
   "execution_count": 54,
   "id": "9ffaf12d",
   "metadata": {},
   "outputs": [],
   "source": [
    "#Num.(only([arguments(arguments(Symbolics.value(x[1]))[1]) for x in keys(diff_eq3.equations)]))"
   ]
  },
  {
   "cell_type": "code",
   "execution_count": 55,
   "id": "a14e143d",
   "metadata": {},
   "outputs": [
    {
     "data": {
      "text/plain": [
       "System of 2 differential equations\n",
       "Variables:       x(t), y(t)\n",
       "Harmonic ansatz: x(t) => ω;   y(t) => ;   \n",
       "\n",
       "Differential(t)(Differential(t)(x(t))) - k*y(t) + x(t)*(ω0^2) ~ F*cos(t*ω)\n",
       "Differential(t)(Differential(t)(y(t))) - k*x(t) + y(t)*(ω0^2) ~ 0\n"
      ]
     },
     "execution_count": 55,
     "metadata": {},
     "output_type": "execute_result"
    }
   ],
   "source": [
    "add_harmonic!(diff_eq3, x, ω); \n",
    "diff_eq3"
   ]
  },
  {
   "cell_type": "code",
   "execution_count": 56,
   "id": "0fed68fc",
   "metadata": {},
   "outputs": [
    {
     "data": {
      "text/plain": [
       "System of 2 differential equations\n",
       "Variables:       x(t), y(t)\n",
       "Harmonic ansatz: x(t) => ω;   y(t) => ω;   \n",
       "\n",
       "Differential(t)(Differential(t)(x(t))) - k*y(t) + x(t)*(ω0^2) ~ F*cos(t*ω)\n",
       "Differential(t)(Differential(t)(y(t))) - k*x(t) + y(t)*(ω0^2) ~ 0\n"
      ]
     },
     "execution_count": 56,
     "metadata": {},
     "output_type": "execute_result"
    }
   ],
   "source": [
    "add_harmonic!(diff_eq3, y, ω); \n",
    "diff_eq3"
   ]
  },
  {
   "cell_type": "code",
   "execution_count": 57,
   "id": "15f55fb1",
   "metadata": {},
   "outputs": [
    {
     "data": {
      "text/plain": [
       "A set of 2 harmonic equations\n",
       "Variables: u1(t), v1(t), u2(t), v2(t)\n",
       "Parameters: ω, k, ω0, F\n",
       "\n",
       "Harmonic ansatz: \n",
       "x(t) = u1(t)*cos(ωt) + v1(t)*sin(ωt)\n",
       "y(t) = u2(t)*cos(ωt) + v2(t)*sin(ωt)\n",
       "\n",
       "Harmonic equations:\n",
       "\n",
       "Differential(t)(Differential(t)(u1(t)*cos(t*ω) + v1(t)*sin(t*ω))) - k*(v2(t)*sin(t*ω) + cos(t*ω)*u2(t)) + (u1(t)*cos(t*ω) + v1(t)*sin(t*ω))*(ω0^2) ~ F*cos(t*ω)\n",
       "\n",
       "Differential(t)(Differential(t)(v2(t)*sin(t*ω) + cos(t*ω)*u2(t))) - k*(u1(t)*cos(t*ω) + v1(t)*sin(t*ω)) + (v2(t)*sin(t*ω) + cos(t*ω)*u2(t))*(ω0^2) ~ 0\n"
      ]
     },
     "execution_count": 57,
     "metadata": {},
     "output_type": "execute_result"
    }
   ],
   "source": [
    "harmonic_ansatz(diff_eq3, t)"
   ]
  },
  {
   "cell_type": "code",
   "execution_count": 29,
   "id": "22a31cf1",
   "metadata": {},
   "outputs": [
    {
     "data": {
      "text/plain": [
       "A set of 4 harmonic equations\n",
       "Variables: u1(T), v1(T), u2(T), v2(T)\n",
       "Parameters: ω, k, ω0, F\n",
       "\n",
       "Harmonic ansatz: \n",
       "x(t) = u1(T)*cos(ωt) + v1(T)*sin(ωt)\n",
       "y(t) = u2(T)*cos(ωt) + v2(T)*sin(ωt)\n",
       "\n",
       "Harmonic equations:\n",
       "\n",
       "-k*u2(T) + (2//1)*Differential(T)(v1(T))*ω - u1(T)*(ω^2) + u1(T)*(ω0^2) ~ F\n",
       "\n",
       "-k*v2(T) - (2//1)*Differential(T)(u1(T))*ω - v1(T)*(ω^2) + v1(T)*(ω0^2) ~ 0\n",
       "\n",
       "-k*u1(T) + (2//1)*Differential(T)(v2(T))*ω - u2(T)*(ω^2) + u2(T)*(ω0^2) ~ 0\n",
       "\n",
       "-k*v1(T) - (2//1)*Differential(T)(u2(T))*ω - v2(T)*(ω^2) + v2(T)*(ω0^2) ~ 0\n"
      ]
     },
     "execution_count": 29,
     "metadata": {},
     "output_type": "execute_result"
    }
   ],
   "source": [
    "get_harmonic_equations(diff_eq3)"
   ]
  },
  {
   "cell_type": "code",
   "execution_count": 30,
   "id": "cd23ea0b",
   "metadata": {},
   "outputs": [
    {
     "data": {
      "text/latex": [
       "$$ \\begin{equation}\n",
       "\\left[\n",
       "\\begin{array}{c}\n",
       "t \\\\\n",
       "\\end{array}\n",
       "\\right]\n",
       "\\end{equation}\n",
       " $$"
      ],
      "text/plain": [
       "1-element Vector{Num}:\n",
       " t"
      ]
     },
     "execution_count": 30,
     "metadata": {},
     "output_type": "execute_result"
    }
   ],
   "source": [
    "get_independent_variables(diff_eq3)"
   ]
  },
  {
   "cell_type": "code",
   "execution_count": 31,
   "id": "8335fd4c",
   "metadata": {},
   "outputs": [
    {
     "data": {
      "text/latex": [
       "$$ \\begin{equation}\n",
       "\\left[\n",
       "\\begin{array}{c}\n",
       "x\\left( t \\right) \\\\\n",
       "y\\left( t \\right) \\\\\n",
       "\\end{array}\n",
       "\\right]\n",
       "\\end{equation}\n",
       " $$"
      ],
      "text/plain": [
       "2-element Vector{Num}:\n",
       " x(t)\n",
       " y(t)"
      ]
     },
     "execution_count": 31,
     "metadata": {},
     "output_type": "execute_result"
    }
   ],
   "source": [
    "get_variables(diff_eq3)"
   ]
  },
  {
   "cell_type": "markdown",
   "id": "6fe433e3",
   "metadata": {},
   "source": [
    "## Section 5: Two-ODE Example Reformulated  \n",
    "\n",
    "Make x(t) to be a two-dimensional vector. Remove y(t). "
   ]
  },
  {
   "cell_type": "code",
   "execution_count": 32,
   "id": "220afa48",
   "metadata": {},
   "outputs": [],
   "source": [
    "@variables t, (x(t))[1:2], ω0, ω, F, k; "
   ]
  },
  {
   "cell_type": "markdown",
   "id": "12d91e1a",
   "metadata": {},
   "source": [
    "Redefine the equations and store output in diff_eq. "
   ]
  },
  {
   "cell_type": "code",
   "execution_count": 33,
   "id": "0673e91b",
   "metadata": {},
   "outputs": [
    {
     "data": {
      "text/plain": [
       "System of 2 differential equations\n",
       "Variables:       (x(t))[1], (x(t))[2]\n",
       "Harmonic ansatz: (x(t))[1] => ;   (x(t))[2] => ;   \n",
       "\n",
       "Differential(t)(Differential(t)((x(t))[1])) - k*(x(t))[2] + (x(t))[1]*(ω0^2) ~ F*cos(t*ω)\n",
       "Differential(t)(Differential(t)((x(t))[2])) - k*(x(t))[1] + (x(t))[2]*(ω0^2) ~ 0\n"
      ]
     },
     "execution_count": 33,
     "metadata": {},
     "output_type": "execute_result"
    }
   ],
   "source": [
    "diff_eq4 = DifferentialEquation(\n",
    "    [d(x[1],t,2) + ω0^2 * x[1] - k*x[2], d(x[2],t,2) + ω0^2 * x[2] - k*x[1]] .~ [F * cos(ω*t), 0], [x[1],x[2]]\n",
    ")"
   ]
  },
  {
   "cell_type": "code",
   "execution_count": 34,
   "id": "efbaf213",
   "metadata": {},
   "outputs": [
    {
     "data": {
      "text/plain": [
       "\"equations\""
      ]
     },
     "metadata": {},
     "output_type": "display_data"
    },
    {
     "data": {
      "text/plain": [
       "OrderedCollections.OrderedDict{Num, Equation} with 2 entries:\n",
       "  (x(t))[1] => Differential(t)(Differential(t)((x(t))[1])) - k*(x(t))[2] + (x(t…\n",
       "  (x(t))[2] => Differential(t)(Differential(t)((x(t))[2])) - k*(x(t))[1] + (x(t…"
      ]
     },
     "metadata": {},
     "output_type": "display_data"
    },
    {
     "data": {
      "text/plain": [
       "\"harmonics\""
      ]
     },
     "metadata": {},
     "output_type": "display_data"
    },
    {
     "data": {
      "text/plain": [
       "OrderedCollections.OrderedDict{Num, OrderedCollections.OrderedSet{Num}} with 2 entries:\n",
       "  (x(t))[1] => OrderedSet{Num}()\n",
       "  (x(t))[2] => OrderedSet{Num}()"
      ]
     },
     "metadata": {},
     "output_type": "display_data"
    }
   ],
   "source": [
    "show(diff_eq4)"
   ]
  },
  {
   "cell_type": "code",
   "execution_count": 35,
   "id": "eef2d81f",
   "metadata": {},
   "outputs": [
    {
     "data": {
      "text/plain": [
       "ValueIterator for a OrderedCollections.OrderedDict{Num, OrderedCollections.OrderedSet{Num}} with 2 entries. Values:\n",
       "  OrderedCollections.OrderedSet{Num}()\n",
       "  OrderedCollections.OrderedSet{Num}()"
      ]
     },
     "execution_count": 35,
     "metadata": {},
     "output_type": "execute_result"
    }
   ],
   "source": [
    "values(diff_eq4.harmonics)"
   ]
  },
  {
   "cell_type": "code",
   "execution_count": 36,
   "id": "0a7f0950",
   "metadata": {},
   "outputs": [
    {
     "data": {
      "text/latex": [
       "$$ \\begin{equation}\n",
       "\\left[\n",
       "\\begin{array}{c}\n",
       "x\\left( t \\right) \\\\\n",
       "1 \\\\\n",
       "x\\left( t \\right) \\\\\n",
       "2 \\\\\n",
       "\\end{array}\n",
       "\\right]\n",
       "\\end{equation}\n",
       " $$"
      ],
      "text/plain": [
       "4-element Vector{Num}:\n",
       " x(t)\n",
       "    1\n",
       " x(t)\n",
       "    2"
      ]
     },
     "execution_count": 36,
     "metadata": {},
     "output_type": "execute_result"
    }
   ],
   "source": [
    "get_independent_variables(diff_eq4)"
   ]
  },
  {
   "cell_type": "code",
   "execution_count": 37,
   "id": "7927b2aa",
   "metadata": {},
   "outputs": [
    {
     "data": {
      "text/latex": [
       "$$ \\begin{equation}\n",
       "\\left[\n",
       "\\begin{array}{c}\n",
       "t \\\\\n",
       "\\end{array}\n",
       "\\right]\n",
       "\\end{equation}\n",
       " $$"
      ],
      "text/plain": [
       "1-element Vector{Num}:\n",
       " t"
      ]
     },
     "execution_count": 37,
     "metadata": {},
     "output_type": "execute_result"
    }
   ],
   "source": [
    "Num.(unique([arguments(arguments(Symbolics.value(x[1]))[1]) for x in keys(diff_eq4.equations)])[1])"
   ]
  },
  {
   "cell_type": "code",
   "execution_count": 38,
   "id": "84f43fb3",
   "metadata": {},
   "outputs": [
    {
     "data": {
      "text/latex": [
       "$$ \\begin{equation}\n",
       "\\left[\n",
       "\\begin{array}{c}\n",
       "x\\left( t \\right)_{1} \\\\\n",
       "x\\left( t \\right)_{2} \\\\\n",
       "\\end{array}\n",
       "\\right]\n",
       "\\end{equation}\n",
       " $$"
      ],
      "text/plain": [
       "2-element Vector{Num}:\n",
       " (x(t))[1]\n",
       " (x(t))[2]"
      ]
     },
     "execution_count": 38,
     "metadata": {},
     "output_type": "execute_result"
    }
   ],
   "source": [
    "get_variables(diff_eq4)"
   ]
  },
  {
   "cell_type": "code",
   "execution_count": 39,
   "id": "80c7eb02",
   "metadata": {},
   "outputs": [
    {
     "data": {
      "text/plain": [
       "System of 2 differential equations\n",
       "Variables:       (x(t))[1], (x(t))[2]\n",
       "Harmonic ansatz: (x(t))[1] => ω;   (x(t))[2] => ;   \n",
       "\n",
       "Differential(t)(Differential(t)((x(t))[1])) - k*(x(t))[2] + (x(t))[1]*(ω0^2) ~ F*cos(t*ω)\n",
       "Differential(t)(Differential(t)((x(t))[2])) - k*(x(t))[1] + (x(t))[2]*(ω0^2) ~ 0\n"
      ]
     },
     "execution_count": 39,
     "metadata": {},
     "output_type": "execute_result"
    }
   ],
   "source": [
    "add_harmonic!(diff_eq4, x[1], ω); \n",
    "diff_eq4"
   ]
  },
  {
   "cell_type": "code",
   "execution_count": 40,
   "id": "62f9ee77",
   "metadata": {},
   "outputs": [
    {
     "data": {
      "text/plain": [
       "System of 2 differential equations\n",
       "Variables:       (x(t))[1], (x(t))[2]\n",
       "Harmonic ansatz: (x(t))[1] => ω;   (x(t))[2] => ω;   \n",
       "\n",
       "Differential(t)(Differential(t)((x(t))[1])) - k*(x(t))[2] + (x(t))[1]*(ω0^2) ~ F*cos(t*ω)\n",
       "Differential(t)(Differential(t)((x(t))[2])) - k*(x(t))[1] + (x(t))[2]*(ω0^2) ~ 0\n"
      ]
     },
     "execution_count": 40,
     "metadata": {},
     "output_type": "execute_result"
    }
   ],
   "source": [
    "add_harmonic!(diff_eq4, x[2], ω); \n",
    "diff_eq4"
   ]
  },
  {
   "cell_type": "code",
   "execution_count": 48,
   "id": "7c0d414f",
   "metadata": {},
   "outputs": [
    {
     "ename": "LoadError",
     "evalue": "Sym y(t) is not callable. Use @syms y(t)(var1, var2,...) to create it as a callable.",
     "output_type": "error",
     "traceback": [
      "Sym y(t) is not callable. Use @syms y(t)(var1, var2,...) to create it as a callable.",
      "",
      "Stacktrace:",
      " [1] error(s::String)",
      "   @ Base ./error.jl:35",
      " [2] (::SymbolicUtils.BasicSymbolic{Real})(args::SymbolicUtils.BasicSymbolic{Real})",
      "   @ SymbolicUtils ~/.julia/packages/SymbolicUtils/jf8aQ/src/types.jl:920",
      " [3] (::Num)(args::Num)",
      "   @ Symbolics ~/.julia/packages/Symbolics/YbNrd/src/num.jl:19",
      " [4] top-level scope",
      "   @ In[48]:1"
     ]
    }
   ],
   "source": [
    "var_name(y(t))"
   ]
  },
  {
   "cell_type": "code",
   "execution_count": 46,
   "id": "62014f76",
   "metadata": {},
   "outputs": [
    {
     "ename": "LoadError",
     "evalue": "MethodError: no method matching var_name(::Num)\n\n\u001b[0mClosest candidates are:\n\u001b[0m  var_name(\u001b[91m::SymbolicUtils.Sym\u001b[39m)\n\u001b[0m\u001b[90m   @\u001b[39m \u001b[36mMain\u001b[39m \u001b[90m\u001b[4mIn[42]:1\u001b[24m\u001b[39m\n",
     "output_type": "error",
     "traceback": [
      "MethodError: no method matching var_name(::Num)\n\n\u001b[0mClosest candidates are:\n\u001b[0m  var_name(\u001b[91m::SymbolicUtils.Sym\u001b[39m)\n\u001b[0m\u001b[90m   @\u001b[39m \u001b[36mMain\u001b[39m \u001b[90m\u001b[4mIn[42]:1\u001b[24m\u001b[39m\n",
      "",
      "Stacktrace:",
      " [1] top-level scope",
      "   @ In[46]:1"
     ]
    }
   ],
   "source": [
    "var_name(get_variables(diff_eq4)[1])"
   ]
  },
  {
   "cell_type": "code",
   "execution_count": 43,
   "id": "3a5d5bfe",
   "metadata": {},
   "outputs": [
    {
     "ename": "LoadError",
     "evalue": "MethodError: no method matching var_name(::Num)\n\n\u001b[0mClosest candidates are:\n\u001b[0m  var_name(\u001b[91m::SymbolicUtils.Sym\u001b[39m)\n\u001b[0m\u001b[90m   @\u001b[39m \u001b[36mMain\u001b[39m \u001b[90m\u001b[4mIn[42]:1\u001b[24m\u001b[39m\n",
     "output_type": "error",
     "traceback": [
      "MethodError: no method matching var_name(::Num)\n\n\u001b[0mClosest candidates are:\n\u001b[0m  var_name(\u001b[91m::SymbolicUtils.Sym\u001b[39m)\n\u001b[0m\u001b[90m   @\u001b[39m \u001b[36mMain\u001b[39m \u001b[90m\u001b[4mIn[42]:1\u001b[24m\u001b[39m\n",
      "",
      "Stacktrace:",
      " [1] _my_create_harmonic_variable(nat_var::Num, ω::Num, t::Num, type::String; new_symbol::String)",
      "   @ Main ./In[42]:7",
      " [2] my_harmonic_ansatz(diff_eom::DifferentialEquation, time::Num)",
      "   @ Main ./In[5]:15",
      " [3] top-level scope",
      "   @ In[43]:1"
     ]
    }
   ],
   "source": [
    "my_harmonic_ansatz(diff_eq4, t)"
   ]
  },
  {
   "cell_type": "code",
   "execution_count": null,
   "id": "b2afd548",
   "metadata": {},
   "outputs": [],
   "source": [
    "get_harmonic_equations(diff_eq4)"
   ]
  },
  {
   "cell_type": "code",
   "execution_count": null,
   "id": "bf559161",
   "metadata": {},
   "outputs": [],
   "source": [
    "?harmonic_ansatz"
   ]
  },
  {
   "cell_type": "code",
   "execution_count": null,
   "id": "5f5f4072",
   "metadata": {},
   "outputs": [],
   "source": [
    "?_show_ansatz "
   ]
  },
  {
   "cell_type": "code",
   "execution_count": null,
   "id": "091f9034",
   "metadata": {},
   "outputs": [],
   "source": [
    "?harmonic_ansatz"
   ]
  },
  {
   "cell_type": "code",
   "execution_count": null,
   "id": "2b0be62d",
   "metadata": {},
   "outputs": [],
   "source": []
  }
 ],
 "metadata": {
  "kernelspec": {
   "display_name": "Julia 1.10.5",
   "language": "julia",
   "name": "julia-1.10"
  },
  "language_info": {
   "file_extension": ".jl",
   "mimetype": "application/julia",
   "name": "julia",
   "version": "1.10.5"
  }
 },
 "nbformat": 4,
 "nbformat_minor": 5
}
