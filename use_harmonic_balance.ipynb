{
 "cells": [
  {
   "cell_type": "markdown",
   "id": "7e973f7d",
   "metadata": {},
   "source": [
    "# Using HarmonicBalance.jl \n",
    "\n",
    "We explore the large-scale use of the package [HarmonicBalance.jl](https://github.com/NonlinearOscillations/HarmonicBalance.jl).  "
   ]
  },
  {
   "cell_type": "markdown",
   "id": "7d457fbe",
   "metadata": {},
   "source": [
    "## Import Packages"
   ]
  },
  {
   "cell_type": "code",
   "execution_count": 2,
   "id": "0a1cc4e0",
   "metadata": {},
   "outputs": [],
   "source": [
    "using Symbolics\n",
    "using HarmonicBalance"
   ]
  },
  {
   "cell_type": "markdown",
   "id": "0f2ab1cc",
   "metadata": {},
   "source": [
    "## Section 1: Introduction\n",
    "\n",
    "Later more. "
   ]
  },
  {
   "cell_type": "markdown",
   "id": "24aa2ad1",
   "metadata": {},
   "source": [
    "## Section 2: Some Internals of HarmonicBalance  "
   ]
  },
  {
   "cell_type": "markdown",
   "id": "017ab7c0",
   "metadata": {},
   "source": [
    "The package defines a mutable struct DifferentialEquation. "
   ]
  },
  {
   "cell_type": "code",
   "execution_count": 3,
   "id": "96c4a7e3",
   "metadata": {},
   "outputs": [
    {
     "name": "stdout",
     "output_type": "stream",
     "text": [
      "search: \u001b[0m\u001b[1mD\u001b[22m\u001b[0m\u001b[1mi\u001b[22m\u001b[0m\u001b[1mf\u001b[22m\u001b[0m\u001b[1mf\u001b[22m\u001b[0m\u001b[1me\u001b[22m\u001b[0m\u001b[1mr\u001b[22m\u001b[0m\u001b[1me\u001b[22m\u001b[0m\u001b[1mn\u001b[22m\u001b[0m\u001b[1mt\u001b[22m\u001b[0m\u001b[1mi\u001b[22m\u001b[0m\u001b[1ma\u001b[22m\u001b[0m\u001b[1ml\u001b[22m\u001b[0m\u001b[1mE\u001b[22m\u001b[0m\u001b[1mq\u001b[22m\u001b[0m\u001b[1mu\u001b[22m\u001b[0m\u001b[1ma\u001b[22m\u001b[0m\u001b[1mt\u001b[22m\u001b[0m\u001b[1mi\u001b[22m\u001b[0m\u001b[1mo\u001b[22m\u001b[0m\u001b[1mn\u001b[22m\n",
      "\n"
     ]
    },
    {
     "data": {
      "text/latex": [
       "\\begin{verbatim}\n",
       "mutable struct DifferentialEquation\n",
       "\\end{verbatim}\n",
       "Holds differential equation(s) of motion and a set of harmonics to expand each variable. This is the primary input for \\texttt{HarmonicBalance.jl}. After inputting the equations, the harmonics ansatz needs to be specified using \\texttt{add\\_harmonic!}.\n",
       "\n",
       "\\section{Fields}\n",
       "\\begin{itemize}\n",
       "\\item \\texttt{equations::OrderedCollections.OrderedDict\\{Num, Equation\\}}: Assigns to each variable an equation of motion.\n",
       "\n",
       "\n",
       "\\item \\texttt{harmonics::OrderedCollections.OrderedDict\\{Num, OrderedCollections.OrderedSet\\{Num\\}\\}}: Assigns to each variable a set of harmonics.\n",
       "\n",
       "\\end{itemize}\n",
       "\\subsection{Example}\n",
       "\\begin{verbatim}\n",
       "julia> @variables t, x(t), y(t), ω0, ω, F, k;\n",
       "\n",
       "# equivalent ways to enter the simple harmonic oscillator\n",
       "julia> DifferentialEquation(d(x,t,2) + ω0^2 * x - F * cos(ω*t), x);\n",
       "julia> DifferentialEquation(d(x,t,2) + ω0^2 * x ~ F * cos(ω*t), x);\n",
       "\n",
       "# two coupled oscillators, one of them driven\n",
       "julia> DifferentialEquation(\n",
       "    [d(x,t,2) + ω0^2 * x - k*y, d(y,t,2) + ω0^2 * y - k*x] .~ [F * cos(ω*t), 0], [x,y]\n",
       ");\n",
       "\\end{verbatim}\n"
      ],
      "text/markdown": [
       "```julia\n",
       "mutable struct DifferentialEquation\n",
       "```\n",
       "\n",
       "Holds differential equation(s) of motion and a set of harmonics to expand each variable. This is the primary input for `HarmonicBalance.jl`. After inputting the equations, the harmonics ansatz needs to be specified using `add_harmonic!`.\n",
       "\n",
       "# Fields\n",
       "\n",
       "  * `equations::OrderedCollections.OrderedDict{Num, Equation}`: Assigns to each variable an equation of motion.\n",
       "  * `harmonics::OrderedCollections.OrderedDict{Num, OrderedCollections.OrderedSet{Num}}`: Assigns to each variable a set of harmonics.\n",
       "\n",
       "## Example\n",
       "\n",
       "```julia-repl\n",
       "julia> @variables t, x(t), y(t), ω0, ω, F, k;\n",
       "\n",
       "# equivalent ways to enter the simple harmonic oscillator\n",
       "julia> DifferentialEquation(d(x,t,2) + ω0^2 * x - F * cos(ω*t), x);\n",
       "julia> DifferentialEquation(d(x,t,2) + ω0^2 * x ~ F * cos(ω*t), x);\n",
       "\n",
       "# two coupled oscillators, one of them driven\n",
       "julia> DifferentialEquation(\n",
       "    [d(x,t,2) + ω0^2 * x - k*y, d(y,t,2) + ω0^2 * y - k*x] .~ [F * cos(ω*t), 0], [x,y]\n",
       ");\n",
       "```\n"
      ],
      "text/plain": [
       "\u001b[36m  mutable struct DifferentialEquation\u001b[39m\n",
       "\n",
       "  Holds differential equation(s) of motion and a set of harmonics to expand\n",
       "  each variable. This is the primary input for \u001b[36mHarmonicBalance.jl\u001b[39m. After\n",
       "  inputting the equations, the harmonics ansatz needs to be specified using\n",
       "  \u001b[36madd_harmonic!\u001b[39m.\n",
       "\n",
       "\u001b[1m  Fields\u001b[22m\n",
       "\u001b[1m  ≡≡≡≡≡≡\u001b[22m\n",
       "\n",
       "    •  \u001b[36mequations::OrderedCollections.OrderedDict{Num, Equation}\u001b[39m: Assigns\n",
       "       to each variable an equation of motion.\n",
       "\n",
       "    •  \u001b[36mharmonics::OrderedCollections.OrderedDict{Num,\n",
       "       OrderedCollections.OrderedSet{Num}}\u001b[39m: Assigns to each variable a\n",
       "       set of harmonics.\n",
       "\n",
       "\u001b[1m  Example\u001b[22m\n",
       "\u001b[1m  =======\u001b[22m\n",
       "\n",
       "\u001b[36m  julia> @variables t, x(t), y(t), ω0, ω, F, k;\u001b[39m\n",
       "\u001b[36m  \u001b[39m\n",
       "\u001b[36m  # equivalent ways to enter the simple harmonic oscillator\u001b[39m\n",
       "\u001b[36m  julia> DifferentialEquation(d(x,t,2) + ω0^2 * x - F * cos(ω*t), x);\u001b[39m\n",
       "\u001b[36m  julia> DifferentialEquation(d(x,t,2) + ω0^2 * x ~ F * cos(ω*t), x);\u001b[39m\n",
       "\u001b[36m  \u001b[39m\n",
       "\u001b[36m  # two coupled oscillators, one of them driven\u001b[39m\n",
       "\u001b[36m  julia> DifferentialEquation(\u001b[39m\n",
       "\u001b[36m      [d(x,t,2) + ω0^2 * x - k*y, d(y,t,2) + ω0^2 * y - k*x] .~ [F * cos(ω*t), 0], [x,y]\u001b[39m\n",
       "\u001b[36m  );\u001b[39m"
      ]
     },
     "execution_count": 3,
     "metadata": {},
     "output_type": "execute_result"
    }
   ],
   "source": [
    "?DifferentialEquation"
   ]
  },
  {
   "cell_type": "markdown",
   "id": "0f5ae107",
   "metadata": {},
   "source": [
    "Take the definition of the function flatten() from HarmonicBalance.jl. "
   ]
  },
  {
   "cell_type": "code",
   "execution_count": 57,
   "id": "f1012d25",
   "metadata": {},
   "outputs": [
    {
     "data": {
      "text/plain": [
       "flatten (generic function with 1 method)"
      ]
     },
     "execution_count": 57,
     "metadata": {},
     "output_type": "execute_result"
    }
   ],
   "source": [
    "flatten(a) = collect(Iterators.flatten(a))"
   ]
  },
  {
   "cell_type": "markdown",
   "id": "1a5452df",
   "metadata": {},
   "source": [
    "How does get_independent_variables work? "
   ]
  },
  {
   "cell_type": "code",
   "execution_count": 12,
   "id": "fbc0a337",
   "metadata": {},
   "outputs": [
    {
     "name": "stdout",
     "output_type": "stream",
     "text": [
      "search: \u001b[0m\u001b[1mg\u001b[22m\u001b[0m\u001b[1me\u001b[22m\u001b[0m\u001b[1mt\u001b[22m\u001b[0m\u001b[1m_\u001b[22m\u001b[0m\u001b[1mi\u001b[22m\u001b[0m\u001b[1mn\u001b[22m\u001b[0m\u001b[1md\u001b[22m\u001b[0m\u001b[1me\u001b[22m\u001b[0m\u001b[1mp\u001b[22m\u001b[0m\u001b[1me\u001b[22m\u001b[0m\u001b[1mn\u001b[22m\u001b[0m\u001b[1md\u001b[22m\u001b[0m\u001b[1me\u001b[22m\u001b[0m\u001b[1mn\u001b[22m\u001b[0m\u001b[1mt\u001b[22m\u001b[0m\u001b[1m_\u001b[22m\u001b[0m\u001b[1mv\u001b[22m\u001b[0m\u001b[1ma\u001b[22m\u001b[0m\u001b[1mr\u001b[22m\u001b[0m\u001b[1mi\u001b[22m\u001b[0m\u001b[1ma\u001b[22m\u001b[0m\u001b[1mb\u001b[22m\u001b[0m\u001b[1ml\u001b[22m\u001b[0m\u001b[1me\u001b[22m\u001b[0m\u001b[1ms\u001b[22m\n",
      "\n"
     ]
    },
    {
     "data": {
      "text/latex": [
       "\\begin{verbatim}\n",
       "get_independent_variables(\n",
       "    diff_eom::DifferentialEquation\n",
       ") -> Any\n",
       "\n",
       "\\end{verbatim}\n",
       "Return the independent dependent variables of \\texttt{diff\\_eom}.\n",
       "\n",
       "\\rule{\\textwidth}{1pt}\n",
       "\\begin{verbatim}\n",
       "get_independent_variables(\n",
       "    eom::HarmonicEquation\n",
       ") -> Vector{Num}\n",
       "\n",
       "\\end{verbatim}\n",
       "Return the independent variables (typically time) of \\texttt{eom}.\n",
       "\n"
      ],
      "text/markdown": [
       "```julia\n",
       "get_independent_variables(\n",
       "    diff_eom::DifferentialEquation\n",
       ") -> Any\n",
       "\n",
       "```\n",
       "\n",
       "Return the independent dependent variables of `diff_eom`.\n",
       "\n",
       "---\n",
       "\n",
       "```julia\n",
       "get_independent_variables(\n",
       "    eom::HarmonicEquation\n",
       ") -> Vector{Num}\n",
       "\n",
       "```\n",
       "\n",
       "Return the independent variables (typically time) of `eom`.\n"
      ],
      "text/plain": [
       "\u001b[36m  get_independent_variables(\u001b[39m\n",
       "\u001b[36m      diff_eom::DifferentialEquation\u001b[39m\n",
       "\u001b[36m  ) -> Any\u001b[39m\n",
       "\u001b[36m  \u001b[39m\n",
       "\n",
       "  Return the independent dependent variables of \u001b[36mdiff_eom\u001b[39m.\n",
       "\n",
       "  ────────────────────────────────────────────────────────────────────────────\n",
       "\n",
       "\u001b[36m  get_independent_variables(\u001b[39m\n",
       "\u001b[36m      eom::HarmonicEquation\u001b[39m\n",
       "\u001b[36m  ) -> Vector{Num}\u001b[39m\n",
       "\u001b[36m  \u001b[39m\n",
       "\n",
       "  Return the independent variables (typically time) of \u001b[36meom\u001b[39m."
      ]
     },
     "execution_count": 12,
     "metadata": {},
     "output_type": "execute_result"
    }
   ],
   "source": [
    "?get_independent_variables"
   ]
  },
  {
   "cell_type": "code",
   "execution_count": 13,
   "id": "83c9e167",
   "metadata": {},
   "outputs": [
    {
     "name": "stdout",
     "output_type": "stream",
     "text": [
      "search: \u001b[0m\u001b[1mg\u001b[22m\u001b[0m\u001b[1me\u001b[22m\u001b[0m\u001b[1mt\u001b[22m\u001b[0m\u001b[1m_\u001b[22m\u001b[0m\u001b[1mv\u001b[22m\u001b[0m\u001b[1ma\u001b[22m\u001b[0m\u001b[1mr\u001b[22m\u001b[0m\u001b[1mi\u001b[22m\u001b[0m\u001b[1ma\u001b[22m\u001b[0m\u001b[1mb\u001b[22m\u001b[0m\u001b[1ml\u001b[22m\u001b[0m\u001b[1me\u001b[22m\u001b[0m\u001b[1ms\u001b[22m \u001b[0m\u001b[1mg\u001b[22m\u001b[0m\u001b[1me\u001b[22m\u001b[0m\u001b[1mt\u001b[22m\u001b[0m\u001b[1m_\u001b[22mcycle_\u001b[0m\u001b[1mv\u001b[22m\u001b[0m\u001b[1ma\u001b[22m\u001b[0m\u001b[1mr\u001b[22m\u001b[0m\u001b[1mi\u001b[22m\u001b[0m\u001b[1ma\u001b[22m\u001b[0m\u001b[1mb\u001b[22m\u001b[0m\u001b[1ml\u001b[22m\u001b[0m\u001b[1me\u001b[22m\u001b[0m\u001b[1ms\u001b[22m \u001b[0m\u001b[1mg\u001b[22m\u001b[0m\u001b[1me\u001b[22m\u001b[0m\u001b[1mt\u001b[22m\u001b[0m\u001b[1m_\u001b[22mindependent_\u001b[0m\u001b[1mv\u001b[22m\u001b[0m\u001b[1ma\u001b[22m\u001b[0m\u001b[1mr\u001b[22m\u001b[0m\u001b[1mi\u001b[22m\u001b[0m\u001b[1ma\u001b[22m\u001b[0m\u001b[1mb\u001b[22m\u001b[0m\u001b[1ml\u001b[22m\u001b[0m\u001b[1me\u001b[22m\u001b[0m\u001b[1ms\u001b[22m\n",
      "\n"
     ]
    },
    {
     "data": {
      "text/latex": [
       "\\begin{verbatim}\n",
       "get_variables(e, varlist = nothing; sort::Bool = false)\n",
       "\\end{verbatim}\n",
       "Return a vector of variables appearing in \\texttt{e}, optionally restricting to variables in \\texttt{varlist}.\n",
       "\n",
       "Note that the returned variables are not wrapped in the \\texttt{Num} type.\n",
       "\n",
       "\\section{Examples}\n",
       "\\begin{verbatim}\n",
       "julia> @variables t x y z(t);\n",
       "\n",
       "julia> Symbolics.get_variables(x + y + sin(z); sort = true)\n",
       "3-element Vector{SymbolicUtils.BasicSymbolic}:\n",
       " x\n",
       " y\n",
       " z(t)\n",
       "\n",
       "julia> Symbolics.get_variables(x - y; sort = true)\n",
       "2-element Vector{SymbolicUtils.BasicSymbolic}:\n",
       " x\n",
       " y\n",
       "\\end{verbatim}\n",
       "\\rule{\\textwidth}{1pt}\n",
       "\\begin{verbatim}\n",
       "get_variables(diff_eom::DifferentialEquation) -> Vector{Num}\n",
       "\n",
       "\\end{verbatim}\n",
       "Return the dependent variables of \\texttt{diff\\_eom}.\n",
       "\n",
       "\\rule{\\textwidth}{1pt}\n",
       "\\begin{verbatim}\n",
       "get_variables(eom::HarmonicEquation) -> Vector{Num}\n",
       "\n",
       "\\end{verbatim}\n",
       "Get the internal symbols of the independent variables of \\texttt{eom}.\n",
       "\n"
      ],
      "text/markdown": [
       "```\n",
       "get_variables(e, varlist = nothing; sort::Bool = false)\n",
       "```\n",
       "\n",
       "Return a vector of variables appearing in `e`, optionally restricting to variables in `varlist`.\n",
       "\n",
       "Note that the returned variables are not wrapped in the `Num` type.\n",
       "\n",
       "# Examples\n",
       "\n",
       "```julia\n",
       "julia> @variables t x y z(t);\n",
       "\n",
       "julia> Symbolics.get_variables(x + y + sin(z); sort = true)\n",
       "3-element Vector{SymbolicUtils.BasicSymbolic}:\n",
       " x\n",
       " y\n",
       " z(t)\n",
       "\n",
       "julia> Symbolics.get_variables(x - y; sort = true)\n",
       "2-element Vector{SymbolicUtils.BasicSymbolic}:\n",
       " x\n",
       " y\n",
       "```\n",
       "\n",
       "---\n",
       "\n",
       "```julia\n",
       "get_variables(diff_eom::DifferentialEquation) -> Vector{Num}\n",
       "\n",
       "```\n",
       "\n",
       "Return the dependent variables of `diff_eom`.\n",
       "\n",
       "---\n",
       "\n",
       "```julia\n",
       "get_variables(eom::HarmonicEquation) -> Vector{Num}\n",
       "\n",
       "```\n",
       "\n",
       "Get the internal symbols of the independent variables of `eom`.\n"
      ],
      "text/plain": [
       "\u001b[36m  get_variables(e, varlist = nothing; sort::Bool = false)\u001b[39m\n",
       "\n",
       "  Return a vector of variables appearing in \u001b[36me\u001b[39m, optionally restricting to\n",
       "  variables in \u001b[36mvarlist\u001b[39m.\n",
       "\n",
       "  Note that the returned variables are not wrapped in the \u001b[36mNum\u001b[39m type.\n",
       "\n",
       "\u001b[1m  Examples\u001b[22m\n",
       "\u001b[1m  ≡≡≡≡≡≡≡≡\u001b[22m\n",
       "\n",
       "\u001b[36m  julia> @variables t x y z(t);\u001b[39m\n",
       "\u001b[36m  \u001b[39m\n",
       "\u001b[36m  julia> Symbolics.get_variables(x + y + sin(z); sort = true)\u001b[39m\n",
       "\u001b[36m  3-element Vector{SymbolicUtils.BasicSymbolic}:\u001b[39m\n",
       "\u001b[36m   x\u001b[39m\n",
       "\u001b[36m   y\u001b[39m\n",
       "\u001b[36m   z(t)\u001b[39m\n",
       "\u001b[36m  \u001b[39m\n",
       "\u001b[36m  julia> Symbolics.get_variables(x - y; sort = true)\u001b[39m\n",
       "\u001b[36m  2-element Vector{SymbolicUtils.BasicSymbolic}:\u001b[39m\n",
       "\u001b[36m   x\u001b[39m\n",
       "\u001b[36m   y\u001b[39m\n",
       "\n",
       "  ────────────────────────────────────────────────────────────────────────────\n",
       "\n",
       "\u001b[36m  get_variables(diff_eom::DifferentialEquation) -> Vector{Num}\u001b[39m\n",
       "\u001b[36m  \u001b[39m\n",
       "\n",
       "  Return the dependent variables of \u001b[36mdiff_eom\u001b[39m.\n",
       "\n",
       "  ────────────────────────────────────────────────────────────────────────────\n",
       "\n",
       "\u001b[36m  get_variables(eom::HarmonicEquation) -> Vector{Num}\u001b[39m\n",
       "\u001b[36m  \u001b[39m\n",
       "\n",
       "  Get the internal symbols of the independent variables of \u001b[36meom\u001b[39m."
      ]
     },
     "execution_count": 13,
     "metadata": {},
     "output_type": "execute_result"
    }
   ],
   "source": [
    "?get_variables"
   ]
  },
  {
   "cell_type": "code",
   "execution_count": null,
   "id": "0576bde8",
   "metadata": {},
   "outputs": [],
   "source": []
  },
  {
   "cell_type": "code",
   "execution_count": null,
   "id": "2de3b1e8",
   "metadata": {},
   "outputs": [],
   "source": []
  },
  {
   "cell_type": "markdown",
   "id": "372ff440",
   "metadata": {},
   "source": [
    "## Section 3: Build-In Example from HarmonicBalance"
   ]
  },
  {
   "cell_type": "markdown",
   "id": "8759f2b2",
   "metadata": {},
   "source": [
    "Run the example provided as example with the documentation of HarmonicBalance.jl. \n",
    "\n",
    "Store output in diff_eq0, where \"0\" here denotes the original system. "
   ]
  },
  {
   "cell_type": "code",
   "execution_count": 60,
   "id": "86f9e1d9",
   "metadata": {},
   "outputs": [
    {
     "data": {
      "text/plain": [
       "System of 2 differential equations\n",
       "Variables:       x(t), y(t)\n",
       "Harmonic ansatz: x(t) => ;   y(t) => ;   \n",
       "\n",
       "Differential(t)(Differential(t)(x(t))) - k*y(t) + x(t)*(ω0^2) ~ F*cos(t*ω)\n",
       "Differential(t)(Differential(t)(y(t))) - k*x(t) + y(t)*(ω0^2) ~ 0\n"
      ]
     },
     "execution_count": 60,
     "metadata": {},
     "output_type": "execute_result"
    }
   ],
   "source": [
    "@variables t, x(t), y(t), ω0, ω, F, k;\n",
    "\n",
    "diff_eq0 = DifferentialEquation(\n",
    "    [d(x,t,2) + ω0^2 * x - k*y, d(y,t,2) + ω0^2 * y - k*x] .~ [F * cos(ω*t), 0], [x,y]\n",
    ")"
   ]
  },
  {
   "cell_type": "code",
   "execution_count": 61,
   "id": "7d3c9345",
   "metadata": {},
   "outputs": [
    {
     "data": {
      "text/plain": [
       "Num"
      ]
     },
     "execution_count": 61,
     "metadata": {},
     "output_type": "execute_result"
    }
   ],
   "source": [
    "typeof(x)"
   ]
  },
  {
   "cell_type": "code",
   "execution_count": 62,
   "id": "2508dcd1",
   "metadata": {},
   "outputs": [],
   "source": [
    "#typeof(diff_eq0.variables)"
   ]
  },
  {
   "cell_type": "code",
   "execution_count": 63,
   "id": "cce17556",
   "metadata": {},
   "outputs": [
    {
     "data": {
      "text/plain": [
       "\"equations\""
      ]
     },
     "metadata": {},
     "output_type": "display_data"
    },
    {
     "data": {
      "text/plain": [
       "OrderedCollections.OrderedDict{Num, Equation} with 2 entries:\n",
       "  x(t) => Differential(t)(Differential(t)(x(t))) - k*y(t) + x(t)*(ω0^2) ~ F*cos…\n",
       "  y(t) => Differential(t)(Differential(t)(y(t))) - k*x(t) + y(t)*(ω0^2) ~ 0"
      ]
     },
     "metadata": {},
     "output_type": "display_data"
    },
    {
     "data": {
      "text/plain": [
       "\"harmonics\""
      ]
     },
     "metadata": {},
     "output_type": "display_data"
    },
    {
     "data": {
      "text/plain": [
       "OrderedCollections.OrderedDict{Num, OrderedCollections.OrderedSet{Num}} with 2 entries:\n",
       "  x(t) => OrderedSet{Num}()\n",
       "  y(t) => OrderedSet{Num}()"
      ]
     },
     "metadata": {},
     "output_type": "display_data"
    }
   ],
   "source": [
    "show(diff_eq0)"
   ]
  },
  {
   "cell_type": "code",
   "execution_count": 64,
   "id": "cbfffdec",
   "metadata": {},
   "outputs": [
    {
     "data": {
      "text/plain": [
       "ValueIterator for a OrderedCollections.OrderedDict{Num, Equation} with 2 entries. Values:\n",
       "  Differential(t)(Differential(t)(x(t))) - k*y(t) + x(t)*(ω0^2) ~ F*cos(t*ω)\n",
       "  Differential(t)(Differential(t)(y(t))) - k*x(t) + y(t)*(ω0^2) ~ 0"
      ]
     },
     "execution_count": 64,
     "metadata": {},
     "output_type": "execute_result"
    }
   ],
   "source": [
    "values(diff_eq0.equations)"
   ]
  },
  {
   "cell_type": "code",
   "execution_count": 65,
   "id": "8613a946",
   "metadata": {},
   "outputs": [
    {
     "data": {
      "text/plain": [
       "KeySet for a OrderedCollections.OrderedDict{Num, OrderedCollections.OrderedSet{Num}} with 2 entries. Keys:\n",
       "  x(t)\n",
       "  y(t)"
      ]
     },
     "execution_count": 65,
     "metadata": {},
     "output_type": "execute_result"
    }
   ],
   "source": [
    "keys(diff_eq0.harmonics)"
   ]
  },
  {
   "cell_type": "code",
   "execution_count": 66,
   "id": "a14e143d",
   "metadata": {},
   "outputs": [
    {
     "data": {
      "text/plain": [
       "System of 2 differential equations\n",
       "Variables:       x(t), y(t)\n",
       "Harmonic ansatz: x(t) => ω;   y(t) => ;   \n",
       "\n",
       "Differential(t)(Differential(t)(x(t))) - k*y(t) + x(t)*(ω0^2) ~ F*cos(t*ω)\n",
       "Differential(t)(Differential(t)(y(t))) - k*x(t) + y(t)*(ω0^2) ~ 0\n"
      ]
     },
     "execution_count": 66,
     "metadata": {},
     "output_type": "execute_result"
    }
   ],
   "source": [
    "add_harmonic!(diff_eq0, x, ω); \n",
    "diff_eq0"
   ]
  },
  {
   "cell_type": "code",
   "execution_count": 67,
   "id": "0fed68fc",
   "metadata": {},
   "outputs": [
    {
     "data": {
      "text/plain": [
       "System of 2 differential equations\n",
       "Variables:       x(t), y(t)\n",
       "Harmonic ansatz: x(t) => ω;   y(t) => ω;   \n",
       "\n",
       "Differential(t)(Differential(t)(x(t))) - k*y(t) + x(t)*(ω0^2) ~ F*cos(t*ω)\n",
       "Differential(t)(Differential(t)(y(t))) - k*x(t) + y(t)*(ω0^2) ~ 0\n"
      ]
     },
     "execution_count": 67,
     "metadata": {},
     "output_type": "execute_result"
    }
   ],
   "source": [
    "add_harmonic!(diff_eq0, y, ω); \n",
    "diff_eq0"
   ]
  },
  {
   "cell_type": "code",
   "execution_count": 68,
   "id": "22a31cf1",
   "metadata": {},
   "outputs": [
    {
     "data": {
      "text/plain": [
       "A set of 4 harmonic equations\n",
       "Variables: u1(T), v1(T), u2(T), v2(T)\n",
       "Parameters: ω, k, ω0, F\n",
       "\n",
       "Harmonic ansatz: \n",
       "x(t) = u1(T)*cos(ωt) + v1(T)*sin(ωt)\n",
       "y(t) = u2(T)*cos(ωt) + v2(T)*sin(ωt)\n",
       "\n",
       "Harmonic equations:\n",
       "\n",
       "-k*u2(T) + (2//1)*Differential(T)(v1(T))*ω - u1(T)*(ω^2) + u1(T)*(ω0^2) ~ F\n",
       "\n",
       "-k*v2(T) - (2//1)*Differential(T)(u1(T))*ω - v1(T)*(ω^2) + v1(T)*(ω0^2) ~ 0\n",
       "\n",
       "-k*u1(T) + (2//1)*Differential(T)(v2(T))*ω - u2(T)*(ω^2) + u2(T)*(ω0^2) ~ 0\n",
       "\n",
       "-k*v1(T) - (2//1)*Differential(T)(u2(T))*ω - v2(T)*(ω^2) + v2(T)*(ω0^2) ~ 0\n"
      ]
     },
     "execution_count": 68,
     "metadata": {},
     "output_type": "execute_result"
    }
   ],
   "source": [
    "get_harmonic_equations(diff_eq0)"
   ]
  },
  {
   "cell_type": "code",
   "execution_count": 69,
   "id": "cd23ea0b",
   "metadata": {},
   "outputs": [
    {
     "data": {
      "text/latex": [
       "$$ \\begin{equation}\n",
       "\\left[\n",
       "\\begin{array}{c}\n",
       "t \\\\\n",
       "\\end{array}\n",
       "\\right]\n",
       "\\end{equation}\n",
       " $$"
      ],
      "text/plain": [
       "1-element Vector{Num}:\n",
       " t"
      ]
     },
     "execution_count": 69,
     "metadata": {},
     "output_type": "execute_result"
    }
   ],
   "source": [
    "get_independent_variables(diff_eq0)"
   ]
  },
  {
   "cell_type": "code",
   "execution_count": 70,
   "id": "8335fd4c",
   "metadata": {},
   "outputs": [
    {
     "data": {
      "text/latex": [
       "$$ \\begin{equation}\n",
       "\\left[\n",
       "\\begin{array}{c}\n",
       "x\\left( t \\right) \\\\\n",
       "y\\left( t \\right) \\\\\n",
       "\\end{array}\n",
       "\\right]\n",
       "\\end{equation}\n",
       " $$"
      ],
      "text/plain": [
       "2-element Vector{Num}:\n",
       " x(t)\n",
       " y(t)"
      ]
     },
     "execution_count": 70,
     "metadata": {},
     "output_type": "execute_result"
    }
   ],
   "source": [
    "get_variables(diff_eq0)"
   ]
  },
  {
   "cell_type": "code",
   "execution_count": 71,
   "id": "6a520bf4",
   "metadata": {},
   "outputs": [
    {
     "data": {
      "text/plain": [
       "1-element Vector{Vector{Any}}:\n",
       " [t]"
      ]
     },
     "execution_count": 71,
     "metadata": {},
     "output_type": "execute_result"
    }
   ],
   "source": [
    "unique([x.val.arguments for x in keys(diff_eq0.equations)])"
   ]
  },
  {
   "cell_type": "code",
   "execution_count": 58,
   "id": "78b17d32",
   "metadata": {},
   "outputs": [
    {
     "data": {
      "text/latex": [
       "$$ \\begin{equation}\n",
       "\\left[\n",
       "\\begin{array}{c}\n",
       "t \\\\\n",
       "\\end{array}\n",
       "\\right]\n",
       "\\end{equation}\n",
       " $$"
      ],
      "text/plain": [
       "1-element Vector{Num}:\n",
       " t"
      ]
     },
     "execution_count": 58,
     "metadata": {},
     "output_type": "execute_result"
    }
   ],
   "source": [
    "Num.(flatten(unique([x.val.arguments for x in keys(diff_eq0.equations)])))"
   ]
  },
  {
   "cell_type": "code",
   "execution_count": 75,
   "id": "7dec5851",
   "metadata": {},
   "outputs": [
    {
     "data": {
      "text/plain": [
       "OrderedCollections.OrderedDict{Num, OrderedCollections.OrderedSet{Num}}"
      ]
     },
     "execution_count": 75,
     "metadata": {},
     "output_type": "execute_result"
    }
   ],
   "source": [
    "typeof(diff_eq0.harmonics)"
   ]
  },
  {
   "cell_type": "markdown",
   "id": "6fe433e3",
   "metadata": {},
   "source": [
    "## Section 4: My Modified Example \n",
    "\n",
    "Make x(t) to be a two-dimensional vector. Remove y(t). "
   ]
  },
  {
   "cell_type": "code",
   "execution_count": 46,
   "id": "220afa48",
   "metadata": {},
   "outputs": [],
   "source": [
    " @variables t, (x(t))[1:2], ω0, ω, F, k; "
   ]
  },
  {
   "cell_type": "markdown",
   "id": "12d91e1a",
   "metadata": {},
   "source": [
    "Redefine the equations and store output in diff_eq. "
   ]
  },
  {
   "cell_type": "code",
   "execution_count": 47,
   "id": "0673e91b",
   "metadata": {},
   "outputs": [
    {
     "data": {
      "text/plain": [
       "System of 2 differential equations\n",
       "Variables:       (x(t))[1], (x(t))[2]\n",
       "Harmonic ansatz: (x(t))[1] => ;   (x(t))[2] => ;   \n",
       "\n",
       "Differential(t)(Differential(t)((x(t))[1])) - k*(x(t))[2] + (x(t))[1]*(ω0^2) ~ F*cos(t*ω)\n",
       "Differential(t)(Differential(t)((x(t))[2])) - k*(x(t))[1] + (x(t))[2]*(ω0^2) ~ 0\n"
      ]
     },
     "execution_count": 47,
     "metadata": {},
     "output_type": "execute_result"
    }
   ],
   "source": [
    "diff_eq = DifferentialEquation(\n",
    "    [d(x[1],t,2) + ω0^2 * x[1] - k*x[2], d(x[2],t,2) + ω0^2 * x[2] - k*x[1]] .~ [F * cos(ω*t), 0], [x[1],x[2]]\n",
    ")"
   ]
  },
  {
   "cell_type": "code",
   "execution_count": 48,
   "id": "efbaf213",
   "metadata": {},
   "outputs": [
    {
     "data": {
      "text/plain": [
       "\"equations\""
      ]
     },
     "metadata": {},
     "output_type": "display_data"
    },
    {
     "data": {
      "text/plain": [
       "OrderedCollections.OrderedDict{Num, Equation} with 2 entries:\n",
       "  (x(t))[1] => Differential(t)(Differential(t)((x(t))[1])) - k*(x(t))[2] + (x(t…\n",
       "  (x(t))[2] => Differential(t)(Differential(t)((x(t))[2])) - k*(x(t))[1] + (x(t…"
      ]
     },
     "metadata": {},
     "output_type": "display_data"
    },
    {
     "data": {
      "text/plain": [
       "\"harmonics\""
      ]
     },
     "metadata": {},
     "output_type": "display_data"
    },
    {
     "data": {
      "text/plain": [
       "OrderedCollections.OrderedDict{Num, OrderedCollections.OrderedSet{Num}} with 2 entries:\n",
       "  (x(t))[1] => OrderedSet{Num}()\n",
       "  (x(t))[2] => OrderedSet{Num}()"
      ]
     },
     "metadata": {},
     "output_type": "display_data"
    }
   ],
   "source": [
    "show(diff_eq)"
   ]
  },
  {
   "cell_type": "code",
   "execution_count": 49,
   "id": "10f20164",
   "metadata": {},
   "outputs": [
    {
     "data": {
      "text/plain": [
       "ValueIterator for a OrderedCollections.OrderedDict{Num, OrderedCollections.OrderedSet{Num}} with 2 entries. Values:\n",
       "  OrderedCollections.OrderedSet{Num}()\n",
       "  OrderedCollections.OrderedSet{Num}()"
      ]
     },
     "execution_count": 49,
     "metadata": {},
     "output_type": "execute_result"
    }
   ],
   "source": [
    "values(diff_eq.harmonics)"
   ]
  },
  {
   "cell_type": "markdown",
   "id": "ae229e98",
   "metadata": {},
   "source": [
    "### The function get_independent_variables produces counter-intuitive results "
   ]
  },
  {
   "cell_type": "code",
   "execution_count": 40,
   "id": "d8621417",
   "metadata": {},
   "outputs": [
    {
     "data": {
      "text/latex": [
       "$$ \\begin{equation}\n",
       "\\left[\n",
       "\\begin{array}{c}\n",
       "x\\left( t \\right) \\\\\n",
       "1 \\\\\n",
       "x\\left( t \\right) \\\\\n",
       "2 \\\\\n",
       "\\end{array}\n",
       "\\right]\n",
       "\\end{equation}\n",
       " $$"
      ],
      "text/plain": [
       "4-element Vector{Num}:\n",
       " x(t)\n",
       "    1\n",
       " x(t)\n",
       "    2"
      ]
     },
     "execution_count": 40,
     "metadata": {},
     "output_type": "execute_result"
    }
   ],
   "source": [
    "get_independent_variables(diff_eq)"
   ]
  },
  {
   "cell_type": "code",
   "execution_count": 52,
   "id": "e35fe457",
   "metadata": {},
   "outputs": [
    {
     "ename": "LoadError",
     "evalue": "type DifferentialEquation has no field variables",
     "output_type": "error",
     "traceback": [
      "type DifferentialEquation has no field variables",
      "",
      "Stacktrace:",
      " [1] getproperty(x::DifferentialEquation, f::Symbol)",
      "   @ Base ./Base.jl:37",
      " [2] top-level scope",
      "   @ In[52]:1"
     ]
    }
   ],
   "source": [
    "dynamic_vars = flatten(getfield.(diff_eq.variables, Symbol(\"symbols\")))"
   ]
  },
  {
   "cell_type": "code",
   "execution_count": null,
   "id": "11da04d4",
   "metadata": {},
   "outputs": [],
   "source": []
  },
  {
   "cell_type": "code",
   "execution_count": 50,
   "id": "80c7eb02",
   "metadata": {},
   "outputs": [
    {
     "data": {
      "text/plain": [
       "System of 2 differential equations\n",
       "Variables:       (x(t))[1], (x(t))[2]\n",
       "Harmonic ansatz: (x(t))[1] => ω;   (x(t))[2] => ;   \n",
       "\n",
       "Differential(t)(Differential(t)((x(t))[1])) - k*(x(t))[2] + (x(t))[1]*(ω0^2) ~ F*cos(t*ω)\n",
       "Differential(t)(Differential(t)((x(t))[2])) - k*(x(t))[1] + (x(t))[2]*(ω0^2) ~ 0\n"
      ]
     },
     "execution_count": 50,
     "metadata": {},
     "output_type": "execute_result"
    }
   ],
   "source": [
    "add_harmonic!(diff_eq, x[1], ω); \n",
    "diff_eq"
   ]
  },
  {
   "cell_type": "code",
   "execution_count": 51,
   "id": "62f9ee77",
   "metadata": {},
   "outputs": [
    {
     "data": {
      "text/plain": [
       "System of 2 differential equations\n",
       "Variables:       (x(t))[1], (x(t))[2]\n",
       "Harmonic ansatz: (x(t))[1] => ω;   (x(t))[2] => ω;   \n",
       "\n",
       "Differential(t)(Differential(t)((x(t))[1])) - k*(x(t))[2] + (x(t))[1]*(ω0^2) ~ F*cos(t*ω)\n",
       "Differential(t)(Differential(t)((x(t))[2])) - k*(x(t))[1] + (x(t))[2]*(ω0^2) ~ 0\n"
      ]
     },
     "execution_count": 51,
     "metadata": {},
     "output_type": "execute_result"
    }
   ],
   "source": [
    "add_harmonic!(diff_eq, x[2], ω); \n",
    "diff_eq"
   ]
  },
  {
   "cell_type": "code",
   "execution_count": 44,
   "id": "b3a664fe",
   "metadata": {},
   "outputs": [],
   "source": [
    "# redefine get_independent_variables \n",
    "using HarmonicBalance: get_independent_variables"
   ]
  },
  {
   "cell_type": "code",
   "execution_count": 75,
   "id": "9ed9c2d8",
   "metadata": {},
   "outputs": [],
   "source": [
    "function HarmonicBalance.get_independent_variables(diff_eq)\n",
    "    return t \n",
    "end "
   ]
  },
  {
   "cell_type": "code",
   "execution_count": 76,
   "id": "0d2b66d9",
   "metadata": {},
   "outputs": [
    {
     "ename": "LoadError",
     "evalue": "MethodError: no method matching String(::Expr)\n\n\u001b[0mClosest candidates are:\n\u001b[0m  String(\u001b[91m::LazyString\u001b[39m)\n\u001b[0m\u001b[90m   @\u001b[39m \u001b[90mBase\u001b[39m \u001b[90mstrings/\u001b[39m\u001b[90m\u001b[4mlazy.jl:80\u001b[24m\u001b[39m\n\u001b[0m  String(\u001b[91m::Vector{UInt8}\u001b[39m)\n\u001b[0m\u001b[90m   @\u001b[39m \u001b[90mBase\u001b[39m \u001b[90mstrings/\u001b[39m\u001b[90m\u001b[4mstring.jl:67\u001b[24m\u001b[39m\n\u001b[0m  String(\u001b[91m::Symbol\u001b[39m)\n\u001b[0m\u001b[90m   @\u001b[39m \u001b[90mBase\u001b[39m \u001b[90mstrings/\u001b[39m\u001b[90m\u001b[4mstring.jl:98\u001b[24m\u001b[39m\n\u001b[0m  ...\n",
     "output_type": "error",
     "traceback": [
      "MethodError: no method matching String(::Expr)\n\n\u001b[0mClosest candidates are:\n\u001b[0m  String(\u001b[91m::LazyString\u001b[39m)\n\u001b[0m\u001b[90m   @\u001b[39m \u001b[90mBase\u001b[39m \u001b[90mstrings/\u001b[39m\u001b[90m\u001b[4mlazy.jl:80\u001b[24m\u001b[39m\n\u001b[0m  String(\u001b[91m::Vector{UInt8}\u001b[39m)\n\u001b[0m\u001b[90m   @\u001b[39m \u001b[90mBase\u001b[39m \u001b[90mstrings/\u001b[39m\u001b[90m\u001b[4mstring.jl:67\u001b[24m\u001b[39m\n\u001b[0m  String(\u001b[91m::Symbol\u001b[39m)\n\u001b[0m\u001b[90m   @\u001b[39m \u001b[90mBase\u001b[39m \u001b[90mstrings/\u001b[39m\u001b[90m\u001b[4mstring.jl:98\u001b[24m\u001b[39m\n\u001b[0m  ...\n",
      "",
      "Stacktrace:",
      " [1] var_name(x::Num)",
      "   @ HarmonicBalance ~/.julia/packages/HarmonicBalance/7D2O8/src/HarmonicVariable.jl:135",
      " [2] _create_harmonic_variable(nat_var::Num, ω::Num, t::Num, type::String; new_symbol::String)",
      "   @ HarmonicBalance ~/.julia/packages/HarmonicBalance/7D2O8/src/HarmonicVariable.jl:66",
      " [3] _create_harmonic_variable",
      "   @ ~/.julia/packages/HarmonicBalance/7D2O8/src/HarmonicVariable.jl:62 [inlined]",
      " [4] harmonic_ansatz(diff_eom::DifferentialEquation, time::Num)",
      "   @ HarmonicBalance ~/.julia/packages/HarmonicBalance/7D2O8/src/HarmonicEquation.jl:77",
      " [5] get_harmonic_equations(diff_eom::DifferentialEquation; fast_time::Nothing, slow_time::Nothing, degree::Int64)",
      "   @ HarmonicBalance ~/.julia/packages/HarmonicBalance/7D2O8/src/HarmonicEquation.jl:321",
      " [6] get_harmonic_equations(diff_eom::DifferentialEquation)",
      "   @ HarmonicBalance ~/.julia/packages/HarmonicBalance/7D2O8/src/HarmonicEquation.jl:311",
      " [7] top-level scope",
      "   @ In[76]:1"
     ]
    }
   ],
   "source": [
    "get_harmonic_equations(diff_eq)"
   ]
  },
  {
   "cell_type": "code",
   "execution_count": 79,
   "id": "b2afd548",
   "metadata": {},
   "outputs": [
    {
     "ename": "LoadError",
     "evalue": "ParseError:\n\u001b[90m# Error @ \u001b[0;0m\u001b]8;;file:///Users/djplahaye/mijn_onderwijs/minor-bachelor-project/2023-sediment-transport-rivers/notebooks/In[79]#1:5\u001b\\\u001b[90mIn[79]:1:5\u001b[0;0m\u001b]8;;\u001b\\\nedit\u001b[48;2;120;70;70m _create_harmonic_variable\u001b[0;0m\n\u001b[90m#   └────────────────────────┘ ── \u001b[0;0m\u001b[91mextra tokens after end of expression\u001b[0;0m",
     "output_type": "error",
     "traceback": [
      "ParseError:\n\u001b[90m# Error @ \u001b[0;0m\u001b]8;;file:///Users/djplahaye/mijn_onderwijs/minor-bachelor-project/2023-sediment-transport-rivers/notebooks/In[79]#1:5\u001b\\\u001b[90mIn[79]:1:5\u001b[0;0m\u001b]8;;\u001b\\\nedit\u001b[48;2;120;70;70m _create_harmonic_variable\u001b[0;0m\n\u001b[90m#   └────────────────────────┘ ── \u001b[0;0m\u001b[91mextra tokens after end of expression\u001b[0;0m",
      "",
      "Stacktrace:",
      " [1] top-level scope",
      "   @ In[79]:1"
     ]
    }
   ],
   "source": [
    "edit _create_harmonic_variable"
   ]
  }
 ],
 "metadata": {
  "kernelspec": {
   "display_name": "Julia 1.10.5",
   "language": "julia",
   "name": "julia-1.10"
  },
  "language_info": {
   "file_extension": ".jl",
   "mimetype": "application/julia",
   "name": "julia",
   "version": "1.10.5"
  }
 },
 "nbformat": 4,
 "nbformat_minor": 5
}
