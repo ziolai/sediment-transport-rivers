{
 "cells": [
  {
   "cell_type": "markdown",
   "id": "422d4124",
   "metadata": {},
   "source": [
    "# Symbolic Computations in Julia "
   ]
  },
  {
   "cell_type": "markdown",
   "id": "660e2fe8",
   "metadata": {},
   "source": [
    "## Import Packages "
   ]
  },
  {
   "cell_type": "code",
   "execution_count": 1,
   "id": "24520c38",
   "metadata": {},
   "outputs": [],
   "source": [
    "using Symbolics\n",
    "using SymbolicUtils"
   ]
  },
  {
   "cell_type": "markdown",
   "id": "f5e4a4b0",
   "metadata": {},
   "source": [
    "## Section 1: Introduction \n",
    "\n",
    "### List of Symbolics command \n",
    "\n",
    "1. collect\n",
    "1. eval \n",
    "1. expand \n",
    "1. parse \n"
   ]
  },
  {
   "cell_type": "markdown",
   "id": "31da7b66",
   "metadata": {},
   "source": [
    "## Section 2: Manipulating Harmonics\n",
    "\n",
    "Here we show how to compute $f^3(x)$, where $f(x) = A \\cos(x) + B \\sin(x)$ and truncate higher harmonics. We rely on term-rewriting using [SymbolicUtils](https://symbolicutils.juliasymbolics.org/rewrite/).   \n",
    "\n",
    "To do: \n",
    "1. derivative computation, i.e., replace $x$ by $\\omega t$ and compute $df/dt$ and $d^2 f/dt^2$. \n",
    "1. extend to vectors;\n",
    "1. grab terms in $\\cos(\\omega t)$ and $\\sin(\\omega t)$ and parse these terms to a non-line "
   ]
  },
  {
   "cell_type": "code",
   "execution_count": 62,
   "id": "d1056c56",
   "metadata": {},
   "outputs": [
    {
     "data": {
      "text/latex": [
       "$$ \\begin{equation}\n",
       "0.75 A^{3} \\cos\\left( x \\right) + 0.75 A^{2} B \\sin\\left( x \\right) + 0.75 B^{2} A \\cos\\left( x \\right) + 0.75 B^{3} \\sin\\left( x \\right)\n",
       "\\end{equation}\n",
       " $$"
      ],
      "text/plain": [
       "0.75(A^3)*cos(x) + 0.75(A^2)*B*sin(x) + 0.75A*(B^2)*cos(x) + 0.75(B^3)*sin(x)"
      ]
     },
     "execution_count": 62,
     "metadata": {},
     "output_type": "execute_result"
    }
   ],
   "source": [
    "@syms x::Real A::Real B::Real\n",
    "\n",
    "r1 = @rule cos(~x)^3 => 0.75 * cos(~x) + 0.25 * cos(3 * ~x)\n",
    "r2 = @rule sin(~x)^3 => 0.75 * sin(~x) - 0.25 * sin(3 * ~x)\n",
    "r3 = @rule cos(~x)^2 => 1 - sin(~x)^2\n",
    "r4 = @rule sin(~x)^2 => 1 - cos(~x)^2\n",
    "r5 = @rule sin(3*~x) => 0 \n",
    "r6 = @rule cos(3*~x) => 0 \n",
    "\n",
    "expr1 = simplify(expand((A*cos(x)+B*sin(x))^3), RuleSet([r1,r2,r3,r4]))\n",
    "expr2 = simplify(expand(expr1), RuleSet([r1,r2,r3,r4]))\n",
    "expr3 = simplify(expand(expr2), RuleSet([r5,r6]))\n",
    "#expr4 = collect(expr3)"
   ]
  },
  {
   "cell_type": "code",
   "execution_count": 29,
   "id": "61011856",
   "metadata": {},
   "outputs": [
    {
     "data": {
      "text/latex": [
       "$$ \\begin{equation}\n",
       "A^{3} \\left( 0.75 \\cos\\left( x \\right) + 0.25 \\cos\\left( 3 x \\right) \\right) + B^{3} \\left( 0.75 \\sin\\left( x \\right) - 0.25 \\sin\\left( 3 x \\right) \\right) + 3 A^{2} B \\sin\\left( x \\right) \\left( 1 - \\sin^{2}\\left( x \\right) \\right) + 3 B^{2} A \\cos\\left( x \\right) \\left( 1 - \\cos^{2}\\left( x \\right) \\right)\n",
       "\\end{equation}\n",
       " $$"
      ],
      "text/plain": [
       "(A^3)*(0.75cos(x) + 0.25cos(3x)) + (B^3)*(0.75sin(x) - 0.25sin(3x)) + 3(A^2)*B*sin(x)*(1 - (sin(x)^2)) + 3A*(B^2)*cos(x)*(1 - (cos(x)^2))"
      ]
     },
     "execution_count": 29,
     "metadata": {},
     "output_type": "execute_result"
    }
   ],
   "source": [
    "expr1"
   ]
  },
  {
   "cell_type": "markdown",
   "id": "b80a6a71",
   "metadata": {},
   "source": [
    "## Section 3: Adding Constant to Ansatz "
   ]
  },
  {
   "cell_type": "markdown",
   "id": "27768b22",
   "metadata": {},
   "source": []
  },
  {
   "cell_type": "code",
   "execution_count": 30,
   "id": "988ad563",
   "metadata": {},
   "outputs": [
    {
     "data": {
      "text/latex": [
       "$$ \\begin{equation}\n",
       "C^{3} + 0.75 A^{3} \\cos\\left( x \\right) + 0.75 A^{2} B \\sin\\left( x \\right) + 0.75 B^{2} A \\cos\\left( x \\right) + 3.0 C^{2} A \\cos\\left( x \\right) + 0.75 B^{3} \\sin\\left( x \\right) + 3.0 C^{2} B \\sin\\left( x \\right) + 3.0 \\cos^{2}\\left( x \\right) A^{2} C + 6.0 A B C \\sin\\left( x \\right) \\cos\\left( x \\right) + 3.0 \\sin^{2}\\left( x \\right) B^{2} C\n",
       "\\end{equation}\n",
       " $$"
      ],
      "text/plain": [
       "C^3 + 0.75(A^3)*cos(x) + 0.75(A^2)*B*sin(x) + 0.75A*(B^2)*cos(x) + 3.0A*(C^2)*cos(x) + 0.75(B^3)*sin(x) + 3.0B*(C^2)*sin(x) + 3.0(A^2)*C*(cos(x)^2) + 6.0A*B*C*sin(x)*cos(x) + 3.0(B^2)*C*(sin(x)^2)"
      ]
     },
     "execution_count": 30,
     "metadata": {},
     "output_type": "execute_result"
    }
   ],
   "source": [
    "@syms x::Real A::Real B::Real C::Real \n",
    "\n",
    "r1 = @rule cos(~x)^3 => 0.75 * cos(~x) + 0.25 * cos(3 * ~x)\n",
    "r2 = @rule sin(~x)^3 => 0.75 * sin(~x) - 0.25 * sin(3 * ~x)\n",
    "r3 = @rule cos(~x)^2 => 1 - sin(~x)^2\n",
    "r4 = @rule sin(~x)^2 => 1 - cos(~x)^2\n",
    "r5 = @rule sin(3*~x) => 0 \n",
    "r6 = @rule cos(3*~x) => 0 \n",
    "\n",
    "expr1 = simplify(expand((C+A*cos(x)+B*sin(x))^3), RuleSet([r1,r2,r3,r4]))\n",
    "expr2 = simplify(expand(expr1), RuleSet([r1,r2,r3,r4]))\n",
    "expr3 = simplify(expand(expr2), RuleSet([r5,r6]))"
   ]
  },
  {
   "cell_type": "markdown",
   "id": "7816ffe6",
   "metadata": {},
   "source": [
    "## Section 4: Non-Linear Damping: Quadratic Velocity (fails)  "
   ]
  },
  {
   "cell_type": "markdown",
   "id": "0abcc24b",
   "metadata": {},
   "source": [
    "Equation to solve \n",
    "\n",
    "$$ \n",
    "m \\, \\ddot{u}(t) + \\gamma \\, \\dot{u}(t) + \\gamma_2 \\, [ \\dot{u}(t) ]^2 + k \\, u(t) = \n",
    "F_0 \\sin(\\omega_d \\, t) \\, . \n",
    "$$\n",
    "\n",
    "Here we assume a single frequency anzats for the position of the form   \n",
    "\n",
    "$$ u(t) = C + A \\, \\cos(\\omega_d \\, t) + B \\, \\sin(\\omega_d \\, t) \\, .   $$\n",
    "\n",
    "We thus have that the velocity is given by \n",
    "\n",
    "$$ \\dot{u}(t) = - \\omega_d \\, A \\, \\sin(\\omega_d \\, t) + \\omega_d \\, B \\, \\cos(\\omega_d \\, t) \\, . $$\n",
    "\n",
    "We assume the damping to be proportinal to the square of the velocity and thus are interested in computing \n",
    "\n",
    "$$ [ \\dot{u}(t) ]^2 = [ - \\omega_d \\, A \\, \\sin(\\omega_d \\, t) + \\omega_d \\, B \\, \\cos(\\omega_d \\, t) ]^2 $$ \n",
    "\n",
    "After truncating harmonics (see below) we obtain that \n",
    "\n",
    "$$ [ \\dot{u}(t) ]^2 = 0.5 \\, \\omega_d^2 \\, A^2 + 0.5 \\, \\omega_d^2 \\, B^2 \\ . $$\n",
    "\n",
    "therefore that $m \\, \\ddot{u}(t) + \\gamma \\, \\dot{u}(t) + \\gamma_2 \\, [ \\dot{u}(t) ]^2 + k \\, u(t) = (- m \\, \\omega_d^2 \\, A + \\gamma \\, \\omega_d \\, B + k \\, A) \\, \\cos(\\omega_d \\, t) + (- m \\, \\omega_d^2 \\, B - \\gamma \\, \\omega_d \\, B + k \\, B) \\, \\sin(\\omega_d \\, t) + \\gamma_2 \\, ( 0.5 \\, \\omega_d^2 \\, A^2 + 0.5 \\, \\omega_d^2 \\, B^2 ) + k \\, C $. The algebraic equations for $A$, $B$ and $C$ to be solved then become (same equations for $A$ and $B$, additional equation for $C$)  \n",
    "\n",
    "$$\n",
    "m \\, ( \\omega_0^2 - \\omega_d^2) \\, A + \\gamma \\, \\omega_d \\, B = 0 \\\\\n",
    "- \\gamma \\, \\omega_d \\, A + m \\, (\\omega_0^2 - \\omega_d^2 ) \\, B = F_0 \\\\\n",
    "\\gamma_2 ( 0.5 \\, \\omega_d^2 \\, A^2 + 0.5 \\, \\omega_d^2 \\, B^2) + k \\, C = 0  \\, .\n",
    "$$\n",
    "\n",
    "This implies (???) that $C$ can be computed after solving a linear system for $A$ and $B$.  "
   ]
  },
  {
   "cell_type": "code",
   "execution_count": 34,
   "id": "09479d80",
   "metadata": {},
   "outputs": [
    {
     "data": {
      "text/latex": [
       "$$ \\begin{equation}\n",
       "0.5 w^{2} A^{2} + 0.5 w^{2} B^{2}\n",
       "\\end{equation}\n",
       " $$"
      ],
      "text/plain": [
       "0.5(A^2)*(w^2) + 0.5(B^2)*(w^2)"
      ]
     },
     "execution_count": 34,
     "metadata": {},
     "output_type": "execute_result"
    }
   ],
   "source": [
    "@syms x::Real A::Real B::Real C::Real w::Real t::Real \n",
    "\n",
    "r1 = @rule sin(~w * ~t)cos(~w * ~t) => 0.5*sin(2* ~w * ~t)\n",
    "r2 = @rule cos(~w * ~t)^2 => 0.5 + 0.5*cos(2* ~w * ~t)\n",
    "r3 = @rule sin(~w * ~t)^2 => 0.5 - 0.5*cos(2* ~w * ~t)\n",
    "r4 = @rule sin(2* ~w * ~t) => 0 \n",
    "r5 = @rule cos(2* ~w * ~t) => 0 \n",
    "\n",
    "expr1 = simplify(expand((-w*A*sin(w*t)+w*B*cos(w*t))^2))\n",
    "expr2 = simplify(expand(expr1), RuleSet([r1]))\n",
    "expr3 = simplify(expand(expr2), RuleSet([r2,r3]))\n",
    "expr4 = simplify(expand(expr3), RuleSet([r4,r5]))"
   ]
  },
  {
   "cell_type": "markdown",
   "id": "7499c38b",
   "metadata": {},
   "source": [
    "## Section 5: Non-Linear Damping: Position Squared times Velocity  "
   ]
  },
  {
   "cell_type": "markdown",
   "id": "16f61ed4",
   "metadata": {},
   "source": [
    "Equation to solve \n",
    "\n",
    "$$ \n",
    "m \\, \\ddot{u}(t) + \\gamma \\, \\dot{u}(t) + \\gamma_2 \\, [ u(t) ]^2 \\dot{u}(t) + k \\, u(t) = \n",
    "F_0 \\sin(\\omega_d \\, t) \\, . \n",
    "$$\n",
    "\n",
    "Here we assume a single frequency anzats for the position of the form   \n",
    "\n",
    "$$ u(t) = C + A \\, \\cos(\\omega_d \\, t) + B \\, \\sin(\\omega_d \\, t) \\, .   $$\n",
    "\n",
    "We thus have that the velocity is given by \n",
    "\n",
    "$$ \\dot{u}(t) = - \\omega_d \\, A \\, \\sin(\\omega_d \\, t) + \\omega_d \\, B \\, \\cos(\\omega_d \\, t) \\, . $$\n",
    "\n",
    "We assume the damping to be proportinal to the square of position times the velocity and thus are interested in computing \n",
    "\n",
    "$$ \\gamma_2 \\, [ u(t) ]^2 \\dot{u}(t) = [ C + A \\, \\cos(\\omega_d \\, t) + B \\, \\sin(\\omega_d \\, t) ]^2 [ - \\omega_d \\, A \\, \\sin(\\omega_d \\, t) + \\omega_d \\, B \\, \\cos(\\omega_d \\, t) ] $$ \n",
    "\n",
    "After truncating harmonics (see below) we obtain that \n",
    "\n",
    "$$\n",
    "\\gamma_2 \\, [ u(t) ]^2 \\dot{u}(t) = \\gamma_2 \\, [ - \\omega_d \\, A^2 \\, C + \\omega_d \\, B^2 \\, C ] \\\\\n",
    "+ \\gamma_2 \\, [ 0.75 \\, \\omega_d \\, B^3 - 0.5 \\, \\omega_d \\, A^2 \\, B + \\omega_d \\, B \\, C^2 ] \\, \\cos(\\omega_d \\, t) \\\\\n",
    "+ \\gamma_2 \\, [ - 0.75 \\, \\omega_d \\, A^3 + 0.5 \\, \\omega_d \\, A \\, B^2 - \\omega_d \\, A \\, C^2  ] \\, \\sin(\\omega_d \\, t)\n",
    "$$\n",
    "\n",
    "We therefore have that $m \\, \\ddot{u}(t) + \\gamma \\, \\dot{u}(t) + \\gamma_2 \\, [ u(t)]^2 \\dot{u}(t) + k \\, u(t) = (- m \\, \\omega_d^2 \\, A + \\gamma \\, \\omega_d \\, B + k \\, A) \\, \\cos(\\omega_d \\, t) + (- m \\, \\omega_d^2 \\, B - \\gamma \\, \\omega_d \\, B + k \\, B) \\, \\sin(\\omega_d \\, t) + \\gamma_2 \\, ( \\ldots) + k \\, C $. The algebraic equations for $A$, $B$ and $C$ to be solved then become \n",
    "\n",
    "$$\n",
    "m \\, ( \\omega_0^2 - \\omega_d^2) \\, A + \\gamma \\, \\omega_d \\, B + \n",
    "   \\gamma_2 \\, [ 0.75 \\, \\omega_d \\, B^3 - 0.5 \\, \\omega_d \\, A^2 \\, B + \\omega_d \\, B \\, C^2 ] = 0 \\\\\n",
    "- \\gamma \\, \\omega_d \\, A + m \\, (\\omega_0^2 - \\omega_d^2 ) \\, B + \n",
    "  \\gamma_2 \\, [ - 0.75 \\, \\omega_d \\, A^3 + 0.5 \\, \\omega_d \\, A \\, B^2 - \\omega_d \\, A \\, C^2  ] = F_0 \\\\\n",
    "\\gamma_2 [ - \\omega_d \\, A^2 \\, C + \\omega_d \\, B^2 \\, C ] + k \\, C = 0  \\, .\n",
    "$$\n",
    "\n",
    "In case that $\\gamma_2 = 0$ (no non-linear damping), then according to last equation $C = 0$ (as $k \\neq 0$), as expected.  "
   ]
  },
  {
   "cell_type": "code",
   "execution_count": 66,
   "id": "47b3804e",
   "metadata": {},
   "outputs": [
    {
     "data": {
      "text/latex": [
       "$$ \\begin{equation}\n",
       " - A^{2} C w + B^{2} C w - 0.75 A^{3} w \\sin\\left( t w \\right) - 0.5 A^{2} B w \\cos\\left( t w \\right) + 0.5 B^{2} A w \\sin\\left( t w \\right) - C^{2} A w \\sin\\left( t w \\right) + 0.75 B^{3} w \\cos\\left( t w \\right) + C^{2} B w \\cos\\left( t w \\right)\n",
       "\\end{equation}\n",
       " $$"
      ],
      "text/plain": [
       "-(A^2)*C*w + (B^2)*C*w - 0.75(A^3)*w*sin(t*w) - 0.5(A^2)*B*w*cos(t*w) + 0.5A*(B^2)*w*sin(t*w) - A*(C^2)*w*sin(t*w) + 0.75(B^3)*w*cos(t*w) + B*(C^2)*w*cos(t*w)"
      ]
     },
     "execution_count": 66,
     "metadata": {},
     "output_type": "execute_result"
    }
   ],
   "source": [
    "@syms x::Real A::Real B::Real C::Real w::Real t::Real \n",
    "\n",
    "r1 = @rule cos(~x)^3 => 0.75 * cos(~x) + 0.25 * cos(3 * ~x)\n",
    "r2 = @rule sin(~x)^3 => 0.75 * sin(~x) - 0.25 * sin(3 * ~x)\n",
    "r3 = @rule sin(~w * ~t)cos(~w * ~t) => 0.5*sin(2* ~w * ~t)\n",
    "r4 = @rule cos(~w * ~t)^2 => 0.5 + 0.5*cos(2* ~w * ~t)\n",
    "r5 = @rule sin(~w * ~t)^2 => 0.5 - 0.5*cos(2* ~w * ~t)\n",
    "r6 = @rule sin(2* ~w * ~t) => 0 \n",
    "r7 = @rule cos(2* ~w * ~t) => 0 \n",
    "r8 = @rule sin(3* ~w * ~t) => 0 \n",
    "r9 = @rule cos(3* ~w * ~t) => 0 \n",
    "\n",
    "expr1 = simplify(expand((C+A*sin(w*t)+B*cos(w*t))^2*(-w*A*sin(w*t)+w*B*cos(w*t))))\n",
    "expr2 = simplify(expand(expr1), RuleSet([r1,r2]))\n",
    "expr3 = simplify(expand(expr2), RuleSet([r3,r4,r5]))\n",
    "expr4 = simplify(expand(expr3), RuleSet([r6,r7,r8,r9]))"
   ]
  },
  {
   "cell_type": "markdown",
   "id": "6234786f",
   "metadata": {},
   "source": []
  },
  {
   "cell_type": "markdown",
   "id": "3c6fee16",
   "metadata": {},
   "source": [
    "## Section 6: Sandbox "
   ]
  },
  {
   "cell_type": "code",
   "execution_count": 32,
   "id": "7b9e4360",
   "metadata": {},
   "outputs": [
    {
     "data": {
      "text/plain": [
       "3-element view(::Vector{Any}, 1:3) with eltype Any:\n",
       " z\n",
       " y\n",
       " x"
      ]
     },
     "execution_count": 32,
     "metadata": {},
     "output_type": "execute_result"
    }
   ],
   "source": [
    "@syms x y z\n",
    "@rule(+(~~xs) => ~~xs)(x+y+z) "
   ]
  },
  {
   "cell_type": "code",
   "execution_count": 27,
   "id": "bd3d05d1",
   "metadata": {},
   "outputs": [
    {
     "data": {
      "text/latex": [
       "$$ \\begin{equation}\n",
       "\\left[\n",
       "\\begin{array}{c}\n",
       " - \\omega^{2} A_{1} \\cos\\left( t \\omega \\right) - \\omega^{2} B_{1} \\sin\\left( t \\omega \\right) \\\\\n",
       " - \\omega^{2} A_{2} \\cos\\left( t \\omega \\right) - \\omega^{2} B_{2} \\sin\\left( t \\omega \\right) \\\\\n",
       " - \\omega^{2} A_{3} \\cos\\left( t \\omega \\right) - \\omega^{2} B_{3} \\sin\\left( t \\omega \\right) \\\\\n",
       " - \\omega^{2} A_{4} \\cos\\left( t \\omega \\right) - \\omega^{2} B_{4} \\sin\\left( t \\omega \\right) \\\\\n",
       " - \\omega^{2} A_{5} \\cos\\left( t \\omega \\right) - \\omega^{2} B_{5} \\sin\\left( t \\omega \\right) \\\\\n",
       "\\end{array}\n",
       "\\right]\n",
       "\\end{equation}\n",
       " $$"
      ],
      "text/plain": [
       "5-element Vector{Num}:\n",
       " -A[1]*cos(t*ω)*(ω^2) - B[1]*sin(t*ω)*(ω^2)\n",
       " -A[2]*cos(t*ω)*(ω^2) - B[2]*sin(t*ω)*(ω^2)\n",
       " -A[3]*cos(t*ω)*(ω^2) - B[3]*sin(t*ω)*(ω^2)\n",
       " -A[4]*cos(t*ω)*(ω^2) - B[4]*sin(t*ω)*(ω^2)\n",
       " -A[5]*cos(t*ω)*(ω^2) - B[5]*sin(t*ω)*(ω^2)"
      ]
     },
     "execution_count": 27,
     "metadata": {},
     "output_type": "execute_result"
    }
   ],
   "source": [
    "@syms ω::Real\n",
    "@variables A[1:5]::Real B[1:5]::Real \n",
    "@variables t\n",
    "\n",
    "D = Differential(t)\n",
    "D2 = Differential(t)^2\n",
    "\n",
    "expr1 = A*cos(ω*t)+B*sin(ω*t)\n",
    "expr2 = collect(A*expand_derivatives(D2(cos(ω*t)))+B*expand_derivatives(D2(sin(ω*t))))"
   ]
  },
  {
   "cell_type": "code",
   "execution_count": 56,
   "id": "13cacbb6",
   "metadata": {},
   "outputs": [
    {
     "data": {
      "text/latex": [
       "$$ \\begin{equation}\n",
       "3 \\left( x^{2} + y^{2} \\right) + 6 x y\n",
       "\\end{equation}\n",
       " $$"
      ],
      "text/plain": [
       "3(x^2 + y^2) + 6x*y"
      ]
     },
     "execution_count": 56,
     "metadata": {},
     "output_type": "execute_result"
    }
   ],
   "source": [
    "@syms x y\n",
    "simplify(expand((x+y)^2+2*(x+y)^2))"
   ]
  },
  {
   "cell_type": "code",
   "execution_count": 59,
   "id": "b852afd7",
   "metadata": {},
   "outputs": [
    {
     "data": {
      "text/plain": [
       "sin(~(-) * ~x) => -(sin(~x))"
      ]
     },
     "execution_count": 59,
     "metadata": {},
     "output_type": "execute_result"
    }
   ],
   "source": [
    "r12 = @rule sin((~-)*(~x)) => - sin((~x))"
   ]
  },
  {
   "cell_type": "code",
   "execution_count": 60,
   "id": "32332164",
   "metadata": {},
   "outputs": [
    {
     "data": {
      "text/latex": [
       "$$ \\begin{equation}\n",
       " - \\sin\\left( x \\right)\n",
       "\\end{equation}\n",
       " $$"
      ],
      "text/plain": [
       "-sin(x)"
      ]
     },
     "execution_count": 60,
     "metadata": {},
     "output_type": "execute_result"
    }
   ],
   "source": [
    "expr = simplify(sin(-x), r12)"
   ]
  },
  {
   "cell_type": "code",
   "execution_count": null,
   "id": "2e80c28e",
   "metadata": {},
   "outputs": [],
   "source": []
  }
 ],
 "metadata": {
  "kernelspec": {
   "display_name": "Julia 1.10.5",
   "language": "julia",
   "name": "julia-1.10"
  },
  "language_info": {
   "file_extension": ".jl",
   "mimetype": "application/julia",
   "name": "julia",
   "version": "1.10.5"
  }
 },
 "nbformat": 4,
 "nbformat_minor": 5
}
