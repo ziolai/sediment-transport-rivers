{
 "cells": [
  {
   "cell_type": "markdown",
   "id": "422d4124",
   "metadata": {},
   "source": [
    "# Symbolic Computations in Julia "
   ]
  },
  {
   "cell_type": "markdown",
   "id": "660e2fe8",
   "metadata": {},
   "source": [
    "## Import Packages "
   ]
  },
  {
   "cell_type": "code",
   "execution_count": 2,
   "id": "24520c38",
   "metadata": {},
   "outputs": [],
   "source": [
    "using Symbolics\n",
    "using SymbolicUtils"
   ]
  },
  {
   "cell_type": "markdown",
   "id": "31da7b66",
   "metadata": {},
   "source": [
    "## Section 1: Manipulating Harmonics\n",
    "\n",
    "Here we show how to compute $f^3(x)$, where $f(x) = A \\cos(x) + B \\sin(x)$ and truncate higher harmonics. We rely on term-rewriting using [SymbolicUtils](https://symbolicutils.juliasymbolics.org/rewrite/).   \n",
    "\n",
    "To do: \n",
    "1. derivative computation, i.e., replace $x$ by $\\omega t$ and compute $df/dt$ and $d^2 f/dt^2$. \n",
    "1. extend to vectors;\n",
    "1. grab terms in $\\cos(\\omega t)$ and $\\sin(\\omega t)$ and parse these terms to a non-line "
   ]
  },
  {
   "cell_type": "code",
   "execution_count": 3,
   "id": "d1056c56",
   "metadata": {},
   "outputs": [
    {
     "data": {
      "text/latex": [
       "$$ \\begin{equation}\n",
       "0.75 A^{3} \\cos\\left( x \\right) + 0.75 A^{2} B \\sin\\left( x \\right) + 0.75 B^{2} A \\cos\\left( x \\right) + 0.75 B^{3} \\sin\\left( x \\right)\n",
       "\\end{equation}\n",
       " $$"
      ],
      "text/plain": [
       "0.75(A^3)*cos(x) + 0.75(A^2)*B*sin(x) + 0.75A*(B^2)*cos(x) + 0.75(B^3)*sin(x)"
      ]
     },
     "execution_count": 3,
     "metadata": {},
     "output_type": "execute_result"
    }
   ],
   "source": [
    "@syms x::Real A::Real B::Real\n",
    "\n",
    "r1 = @rule cos(~x)^3 => 0.75 * cos(~x) + 0.25 * cos(3 * ~x)\n",
    "r2 = @rule sin(~x)^3 => 0.75 * sin(~x) - 0.25 * sin(3 * ~x)\n",
    "r3 = @rule cos(~x)^2 => 1 - sin(~x)^2\n",
    "r4 = @rule sin(~x)^2 => 1 - cos(~x)^2\n",
    "r5 = @rule sin(3*~x) => 0 \n",
    "r6 = @rule cos(3*~x) => 0 \n",
    "\n",
    "expr1 = simplify(expand((A*cos(x)+B*sin(x))^3), RuleSet([r1,r2,r3,r4]))\n",
    "expr2 = simplify(expand(expr1), RuleSet([r1,r2,r3,r4]))\n",
    "expr3 = simplify(expand(expr2), RuleSet([r5,r6]))"
   ]
  },
  {
   "cell_type": "markdown",
   "id": "08f38488",
   "metadata": {},
   "source": [
    "## Section 2: Sandbox "
   ]
  },
  {
   "cell_type": "code",
   "execution_count": 22,
   "id": "bd3d05d1",
   "metadata": {},
   "outputs": [
    {
     "data": {
      "text/latex": [
       "$$ \\begin{equation}\n",
       "\\left[\n",
       "\\begin{array}{c}\n",
       "\\frac{\\mathrm{d}}{\\mathrm{d}t} \\frac{\\mathrm{d}}{\\mathrm{d}t} \\left( A_{1} \\cos\\left( t \\omega \\right) + B_{1} \\sin\\left( t \\omega \\right) \\right) \\\\\n",
       "\\frac{\\mathrm{d}}{\\mathrm{d}t} \\frac{\\mathrm{d}}{\\mathrm{d}t} \\left( A_{2} \\cos\\left( t \\omega \\right) + B_{2} \\sin\\left( t \\omega \\right) \\right) \\\\\n",
       "\\frac{\\mathrm{d}}{\\mathrm{d}t} \\frac{\\mathrm{d}}{\\mathrm{d}t} \\left( A_{3} \\cos\\left( t \\omega \\right) + B_{3} \\sin\\left( t \\omega \\right) \\right) \\\\\n",
       "\\frac{\\mathrm{d}}{\\mathrm{d}t} \\frac{\\mathrm{d}}{\\mathrm{d}t} \\left( A_{4} \\cos\\left( t \\omega \\right) + B_{4} \\sin\\left( t \\omega \\right) \\right) \\\\\n",
       "\\frac{\\mathrm{d}}{\\mathrm{d}t} \\frac{\\mathrm{d}}{\\mathrm{d}t} \\left( A_{5} \\cos\\left( t \\omega \\right) + B_{5} \\sin\\left( t \\omega \\right) \\right) \\\\\n",
       "\\end{array}\n",
       "\\right]\n",
       "\\end{equation}\n",
       " $$"
      ],
      "text/plain": [
       "5-element Vector{Num}:\n",
       " Differential(t)(Differential(t)(A[1]*cos(t*ω) + B[1]*sin(t*ω)))\n",
       " Differential(t)(Differential(t)(A[2]*cos(t*ω) + B[2]*sin(t*ω)))\n",
       " Differential(t)(Differential(t)(A[3]*cos(t*ω) + B[3]*sin(t*ω)))\n",
       " Differential(t)(Differential(t)(A[4]*cos(t*ω) + B[4]*sin(t*ω)))\n",
       " Differential(t)(Differential(t)(A[5]*cos(t*ω) + B[5]*sin(t*ω)))"
      ]
     },
     "execution_count": 22,
     "metadata": {},
     "output_type": "execute_result"
    }
   ],
   "source": [
    "@syms ω::Real\n",
    "@variables A[1:5]::Real B[1:5]::Real \n",
    "@variables t\n",
    "\n",
    "D = Differential(t)\n",
    "D2 = Differential(t)^2\n",
    "\n",
    "expr1 = A*cos(ω*t)+B*sin(ω*t)\n",
    "expr2 = expand_derivatives(D2.(collect(expr1)))"
   ]
  },
  {
   "cell_type": "code",
   "execution_count": null,
   "id": "153bbbfc",
   "metadata": {},
   "outputs": [],
   "source": []
  }
 ],
 "metadata": {
  "kernelspec": {
   "display_name": "Julia 1.10.5",
   "language": "julia",
   "name": "julia-1.10"
  },
  "language_info": {
   "file_extension": ".jl",
   "mimetype": "application/julia",
   "name": "julia",
   "version": "1.10.5"
  }
 },
 "nbformat": 4,
 "nbformat_minor": 5
}
