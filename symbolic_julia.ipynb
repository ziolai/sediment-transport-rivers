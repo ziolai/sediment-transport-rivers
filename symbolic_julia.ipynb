{
 "cells": [
  {
   "cell_type": "markdown",
   "id": "422d4124",
   "metadata": {},
   "source": [
    "# Symbolic Computations in Julia "
   ]
  },
  {
   "cell_type": "markdown",
   "id": "660e2fe8",
   "metadata": {},
   "source": [
    "## Import Packages "
   ]
  },
  {
   "cell_type": "code",
   "execution_count": 1,
   "id": "24520c38",
   "metadata": {},
   "outputs": [],
   "source": [
    "using Symbolics\n",
    "using SymbolicUtils"
   ]
  },
  {
   "cell_type": "markdown",
   "id": "31da7b66",
   "metadata": {},
   "source": [
    "## Section 1: Manipulating Harmonics\n",
    "\n",
    "Here we show how to compute $f^3(x)$, where $f(x) = A \\cos(x) + B \\sin(x)$ and truncate higher harmonics. \n",
    "\n",
    "To do: \n",
    "1. derivative computation, i.e., replace $x$ by $\\omega t$ and compute $df/dt$ and $d^2 f/dt^2$. \n",
    "1. extend to vectors;\n",
    "1. grab terms in $\\cos(\\omega t)$ and $\\sin(\\omega t)$ and parse these terms to a non-line "
   ]
  },
  {
   "cell_type": "code",
   "execution_count": 2,
   "id": "d1056c56",
   "metadata": {},
   "outputs": [
    {
     "data": {
      "text/latex": [
       "$$ \\begin{equation}\n",
       "0.75 A^{3} \\cos\\left( x \\right) + 0.75 A^{2} B \\sin\\left( x \\right) + 0.75 B^{2} A \\cos\\left( x \\right) + 0.75 B^{3} \\sin\\left( x \\right)\n",
       "\\end{equation}\n",
       " $$"
      ],
      "text/plain": [
       "0.75(A^3)*cos(x) + 0.75(A^2)*B*sin(x) + 0.75A*(B^2)*cos(x) + 0.75(B^3)*sin(x)"
      ]
     },
     "execution_count": 2,
     "metadata": {},
     "output_type": "execute_result"
    }
   ],
   "source": [
    "@syms x::Real A::Real B::Real\n",
    "\n",
    "r1 = @rule cos(~x)^3 => 0.75 * cos(~x) + 0.25 * cos(3 * ~x)\n",
    "r2 = @rule sin(~x)^3 => 0.75 * sin(~x) - 0.25 * sin(3 * ~x)\n",
    "r3 = @rule cos(~x)^2 => 1 - sin(~x)^2\n",
    "r4 = @rule sin(~x)^2 => 1 - cos(~x)^2\n",
    "r5 = @rule sin(3*~x) => 0 \n",
    "r6 = @rule cos(3*~x) => 0 \n",
    "\n",
    "expr1 = simplify(expand((A*cos(x)+B*sin(x))^3), RuleSet([r1,r2,r3,r4]))\n",
    "expr2 = simplify(expand(expr1), RuleSet([r1,r2,r3,r4]))\n",
    "expr3 = simplify(expand(expr2), RuleSet([r5,r6]))"
   ]
  },
  {
   "cell_type": "code",
   "execution_count": null,
   "id": "bd3d05d1",
   "metadata": {},
   "outputs": [],
   "source": []
  }
 ],
 "metadata": {
  "kernelspec": {
   "display_name": "Julia 1.10.5",
   "language": "julia",
   "name": "julia-1.10"
  },
  "language_info": {
   "file_extension": ".jl",
   "mimetype": "application/julia",
   "name": "julia",
   "version": "1.10.5"
  }
 },
 "nbformat": 4,
 "nbformat_minor": 5
}
