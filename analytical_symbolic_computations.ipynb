{
 "cells": [
  {
   "cell_type": "markdown",
   "id": "a60eff11",
   "metadata": {},
   "source": [
    "# Analytical and Symbolical Computations \n",
    "\n",
    "This notebook employs sympy. "
   ]
  },
  {
   "cell_type": "markdown",
   "id": "81db82ce",
   "metadata": {},
   "source": [
    "## Import Package "
   ]
  },
  {
   "cell_type": "code",
   "execution_count": 1,
   "id": "ee685205",
   "metadata": {},
   "outputs": [],
   "source": [
    "import numpy as np\n",
    "import sympy as sym\n",
    "from sympy import Function, dsolve, Eq, Derivative, sin, cos, symbols, pi\n",
    "from sympy.abc import t\n",
    "u = Function('u')"
   ]
  },
  {
   "cell_type": "markdown",
   "id": "7d2e68cb",
   "metadata": {},
   "source": [
    "To do:\n",
    "1. replace notion $S_1$ for $A$ and $C_1$ for $B$; \n",
    "2. extend computation to third harmonic; \n",
    "3. extend computation to approximation by first and third harmonic; \n",
    "4. extend model to second order ODE; "
   ]
  },
  {
   "cell_type": "markdown",
   "id": "b0dab1ae",
   "metadata": {},
   "source": [
    "## Section 1: Analytical Computations\n",
    "\n",
    "### Mass-Spring System \n",
    "\n",
    "Equation to solve \n",
    "$$ \n",
    "m \\, \\ddot{u}(t) + k \\, u(t) = 0 \\, . \n",
    "$$\n",
    "\n",
    "Assume homogeneous solution of the form $u_h(t) = \\exp(r \\, t)$ with $r$ to be determined. Substituting in the equation yields $ m \\, r^2 + k = 0$. Thus $r = \\pm \\omega_0$ with $\\omega_0 = \\sqrt{k/m}$. Solution is thus \n",
    "$u(t) = C_1 \\, \\cos(\\omega_0 \\, t)+ C_2 \\, \\sin(\\omega_0 \\, t)$ with $C_1$ and $C_2$ from the initial conditions. \n",
    "\n",
    "### Mass-Spring-Damper System \n",
    "\n",
    "Equation to solve \n",
    "$$ \n",
    "m \\, \\ddot{u}(t) + \\gamma \\, \\dot{u}(t) + k \\, u(t) = 0 \\, . \n",
    "$$\n",
    "\n",
    "Assume homogeneous solution of the form $u_h(t) = \\exp(r \\, t)$ with $r$ to be determined. Substituting in the equation yields $ m \\, r^2 + \\gamma \\, r + k = 0$. We assume damping small enough to avoid critical damping. Then $r = -\\gamma/(2\\,m) \\pm \\iota \\Omega_0$ with \n",
    "$\\Omega_0 = \\sqrt{k/m - (\\gamma/(2\\,m))^2}$. Solution is thus \n",
    "$u(t) = \\exp(-\\gamma/(2\\,m) \\, t) \\, [ C_1 \\, \\cos(\\Omega_0 \\, t)+ C_2 \\, \\sin(\\Omega_0 \\, t) ] $ with $C_1$ and $C_2$ from the initial conditions.\n",
    "\n",
    "### Method of Variation of Constants (precursor of the harmonic balance method) \n",
    "\n",
    "Equation to solve \n",
    "\n",
    "$$ \n",
    "m \\, \\ddot{u}(t) + \\gamma \\, \\dot{u}(t)+ k \\, u(t) = F_0 \\sin(\\omega_d \\, t) \\, . \n",
    "$$\n",
    "\n",
    "Assume particular solution of the form $u_p(t) = A \\, \\cos(\\omega_d \\, t) + B \\, \\sin(\\omega_d \\, t)$. We then have that $m \\, \\ddot{u}(t) = - m \\, \\omega_d^2 \\, A \\, \\cos(\\omega_d t) - m \\, \\omega_d^2 \\, B \\, \\sin(\\omega_d t)$ and $\\gamma \\, \\dot{u}(t) = \\gamma \\, \\omega_d \\, B \\, \\cos(\\omega_d \\, t) - \\gamma \\omega_d \\, A \\, \\sin(\\omega_d \\, t) $ and therefore that $m \\, \\ddot{u}(t) + \\gamma \\, \\dot{u}(t)+ k \\, u(t) = (- m \\, \\omega_d^2 \\, A + \\gamma \\, \\omega_d \\, B + k \\, A) \\, \\cos(\\omega_d \\, t) + (- m \\, \\omega_d^2 \\, B - \\gamma \\, \\omega_d \\, B + k \\, B) \\, \\sin(\\omega_d \\, t) $. We obtain the following linear system for the coefficients $A$ and $B$ \n",
    "\n",
    "$$\n",
    "( - m \\, \\omega_d^2 + k) \\, A + \\gamma \\, \\omega_d \\, B = 0 \\\\\n",
    "- \\gamma \\, \\omega_d \\, A + ( - m \\, \\omega_d^2 + k) \\, B = F_0 \\, . \n",
    "$$\n",
    "\n",
    "This linear system has solution $A = D_1 / D$ and $B = D_2 / D$ where \n",
    "\n",
    "$$ \n",
    "D_1 = \\left| \\begin{array}{cc} 0 & \\gamma \\, \\omega_d \\\\ F_0 & - m \\, \\omega_d^2 + k \\end{array} \\right| = - \\gamma \\, \\omega_d \\, F_0 \\\\\n",
    "%\n",
    "D_2 = \\left| \\begin{array}{cc} - m \\, \\omega_d^2 + k & 0 \\\\ -\\gamma \\, \\omega_d & F_0 \\end{array} \\right| = ( - m \\, \\omega_d^2 + k) \\, F_0 \n",
    "= m \\, (\\omega_0^2 - \\omega_d^2) \\, F_0 \\\\ \n",
    "% \n",
    "D = \\left| \\begin{array}{cc} - m \\, \\omega_d^2 + k & \\gamma \\, \\omega_d \\\\ -\\gamma \\, \\omega_d & - m \\, \\omega_d^2 + k \\end{array} \\right| \n",
    "= (- m \\, \\omega_d^2 + k)^2 + \\gamma^2 \\, \\omega_d^2 \n",
    "= m^2 \\, (\\omega_0^2 - \\omega_d^2)^2 + \\gamma^2 \\, \\omega_d^2 \n",
    "$$\n",
    "\n",
    "We have that $D_1^2+D_2^2 = D\\,F_0^2$. \n",
    "We thus have that $A^2 + B^2 = (D_1^2+D_2^2)/ D^2 = F_0^2/D$. Thus $C = \\sqrt{A^2+B^2} = F_0 / \\sqrt{D} \n",
    "= F_0 / \\sqrt{ m^2 \\, (\\omega_0^2 - \\omega_d^2)^2 + \\gamma^2 \\, \\omega_d^2 }$. \n",
    "\n",
    "We thus have that \n",
    "$$\n",
    "u(t) = u_p(t) \n",
    "= F_0 / \\sqrt{ m^2 \\, (\\omega_0^2 - \\omega_d^2)^2 + \\gamma^2 \\, \\omega_d^2 } \n",
    "  \\sin(\\omega_d \\, t + \\phi) \\text{ for } t \\rightarrow \\infty \n",
    "$$\n",
    "\n",
    "### Cubic Spring Modem and Harmonic Balance Method  \n",
    "\n",
    "Equation to solve\n",
    "\n",
    "$$ \n",
    "m \\, \\ddot{u}(t) + \\gamma \\, \\dot{u}(t)+ k_1 \\, u(t) + k_3 \\, u^3(t) \n",
    "= F_0 \\sin(\\omega_d \\, t) \\, . \n",
    "$$\n",
    "\n",
    "### Useful Formulas \n",
    "\n",
    "We will use \n",
    "\n",
    "$A \\cos(\\omega \\, t) + B \\sin(\\omega \\, t) = C \\sin(\\omega \\, t + \\phi)$ \n",
    "\n",
    "where $C = \\pm \\sqrt{A^2+B^2}$ and $\\phi = -A/B$. \n",
    "\n",
    "We will use \n",
    "\n",
    "$\\sin^3(\\theta) = \\frac{3}{4} \\, \\sin(\\theta) - \\frac{1}{4} \\, \\sin(3 \\, \\theta)$ and \n",
    "\n",
    "$\\cos^3(\\theta) = \\frac{3}{4} \\, \\cos(\\theta) + \\frac{1}{4} \\, \\cos(3 \\, \\theta) $\n",
    "\n",
    "$ [ A \\, \\cos(\\theta) + B \\, \\sin(\\theta) ]^3 = A^3 \\, \\cos^3(\\theta) + B^3 \\, \\sin^3(\\theta) \n",
    "+ 3 \\, A^2 \\, B \\, \\cos^2(\\theta) \\sin(\\theta) + 3 \\, A \\, B^2 \\, \\cos(\\theta) \\sin\n",
    "^2(\\theta) $ \n",
    "\n",
    "$ [ A \\, \\cos(\\theta) + B \\, \\sin(\\theta) ]^3 = A^3 \\, \\cos^3(\\theta) + B^3 \\, \\sin^3(\\theta) \n",
    "+ 3 \\, A^2 \\, B \\, [1 - \\sin^2(\\theta)] \\, \\sin(\\theta)  + 3 \\, A \\, B^2 \\, \\cos(\\theta) \\, [1 - \\cos^2(\\theta)] $\n",
    "\n",
    "$ [ A \\, \\cos(\\theta) + B \\, \\sin(\\theta) ]^3 = A^3 \\, \\cos^3(\\theta) + B^3 \\, \\sin^3(\\theta) \n",
    "+ 3 \\, A^2 \\, B \\, [\\sin(\\theta) - \\sin^3(\\theta)]  + 3 \\, A \\, B^2 \\, [ \\cos(\\theta) - \\cos^3(\\theta)] $\n",
    "\n",
    "$ [ A \\, \\cos(\\theta) + B \\, \\sin(\\theta) ]^3 = [ A^3 - 3 \\, A \\, B^2 ] \\, \\cos^3(\\theta) \n",
    "+ [ B^3 - 3 \\, A^2 \\, B ] \\, \\sin^3(\\theta) + 3 \\, A^2 \\, B \\, \\sin(\\theta)  + 3 \\, A \\, B^2 \\, \\cos(\\theta) $\n",
    "\n",
    "Terms in $\\cos(\\theta)$: \n",
    "$ \\frac{3}{4} \\, [ A^3 - 3 \\, A \\, B^2 ] \\cos(\\theta) + 3 \\, A \\, B^2 \\, \\cos(\\theta) = \n",
    "[ \\frac{3}{4} \\, A^3 + \\frac{3}{4} \\, A \\, B^2 ] \\cos(\\theta) $\n",
    "\n",
    "Terms in $\\sin(\\theta)$:\n",
    "$ \\frac{3}{4} \\, [ B^3 - 3 \\, A^2 \\, B ] \\sin(\\theta) + 3 \\, A^2 \\, B \\, \\sin(\\theta) = \n",
    "[ \\frac{3}{4} \\, B^3 + \\frac{3}{4} \\, A^2 \\, B ] \\sin(\\theta) $\n",
    "\n",
    "Non-linear system for $A$ and $B$ to be solved \n",
    "\n",
    "$$\n",
    "m \\, (\\omega_0^2 - \\omega_d^2) \\, A + \\gamma \\, \\omega_d \\, B \n",
    "+ k_3 \\, [ \\frac{3}{4} \\, A^3 + \\frac{3}{4} \\, A \\, B^2 ] = 0 \\\\\n",
    "- \\gamma \\, \\omega_d \\, A + m \\, (\\omega_0^2 - \\omega_d^2) \\, B \n",
    "+ k_3 \\, [ \\frac{3}{4} \\, B^3 + \\frac{3}{4} \\, A^2 \\, B ] = F_0 \\, . \n",
    "$$\n",
    "\n",
    "Similar expressions are derived in the [HarmonicBalance](https://nonlinearoscillations.github.io/HarmonicBalance.jl/stable/) at the [page](https://nonlinearoscillations.github.io/HarmonicBalance.jl/stable/background/harmonic_balance). \n",
    "\n",
    "Extend with terms in $\\sin(3 \\, \\theta)$ and $\\cos(3 \\, \\theta)$. See same page as before. "
   ]
  },
  {
   "cell_type": "code",
   "execution_count": null,
   "id": "086708f6",
   "metadata": {},
   "outputs": [],
   "source": []
  },
  {
   "cell_type": "markdown",
   "id": "6bfaca2e",
   "metadata": {},
   "source": [
    "## Section 2: Symbolic Computations \n",
    "\n",
    "Solve scalar ODE for a mass-damper system. \n",
    "\n",
    "To do: extend with second order ODE for mass-spring-damper system with time-harmonic forcing. Show that harmonic balancing in the linear case is exact.    "
   ]
  },
  {
   "cell_type": "code",
   "execution_count": 3,
   "id": "1ab7eb03",
   "metadata": {},
   "outputs": [
    {
     "data": {
      "text/latex": [
       "$\\displaystyle u{\\left(t \\right)} = \\left(C_{1} + \\frac{e^{t} \\sin{\\left(4 \\pi t \\right)}}{1 + 16 \\pi^{2}} - \\frac{4 \\pi e^{t} \\cos{\\left(4 \\pi t \\right)}}{1 + 16 \\pi^{2}}\\right) e^{- t}$"
      ],
      "text/plain": [
       "Eq(u(t), (C1 + exp(t)*sin(4*pi*t)/(1 + 16*pi**2) - 4*pi*exp(t)*cos(4*pi*t)/(1 + 16*pi**2))*exp(-t))"
      ]
     },
     "execution_count": 3,
     "metadata": {},
     "output_type": "execute_result"
    }
   ],
   "source": [
    "dsolve(Derivative(u(t), t) + u(t)-sin(4*pi*t), u(t))"
   ]
  },
  {
   "cell_type": "code",
   "execution_count": 4,
   "id": "bc1ae842",
   "metadata": {},
   "outputs": [
    {
     "data": {
      "text/latex": [
       "$\\displaystyle u{\\left(t \\right)} = \\left(\\frac{e^{t} \\sin{\\left(4 \\pi t \\right)}}{1 + 16 \\pi^{2}} - \\frac{4 \\pi e^{t} \\cos{\\left(4 \\pi t \\right)}}{1 + 16 \\pi^{2}} + \\frac{1 + 4 \\pi + 16 \\pi^{2}}{1 + 16 \\pi^{2}}\\right) e^{- t}$"
      ],
      "text/plain": [
       "Eq(u(t), (exp(t)*sin(4*pi*t)/(1 + 16*pi**2) - 4*pi*exp(t)*cos(4*pi*t)/(1 + 16*pi**2) + (1 + 4*pi + 16*pi**2)/(1 + 16*pi**2))*exp(-t))"
      ]
     },
     "execution_count": 4,
     "metadata": {},
     "output_type": "execute_result"
    }
   ],
   "source": [
    "eq = u(t).diff(t) + u(t) - sin(4*pi*t)\n",
    "ics={u(0): 1} \n",
    "sol = dsolve(eq,u(t),ics={u(0): 1})\n",
    "sol"
   ]
  },
  {
   "cell_type": "code",
   "execution_count": 5,
   "id": "54131abd",
   "metadata": {},
   "outputs": [],
   "source": [
    "# sol_lambda = sym.lambdify(t,u)"
   ]
  },
  {
   "cell_type": "code",
   "execution_count": 6,
   "id": "e0d8f364",
   "metadata": {},
   "outputs": [],
   "source": [
    "nsamples = 100 \n",
    "tvec = np.linspace(0,1,nsamples)\n",
    "# sol_vec = sol_lambda(tvec)"
   ]
  },
  {
   "cell_type": "markdown",
   "id": "b6e235ba",
   "metadata": {},
   "source": [
    "## Section 3: Mass-Spring Systems "
   ]
  },
  {
   "cell_type": "code",
   "execution_count": 15,
   "id": "38a3bec5",
   "metadata": {},
   "outputs": [],
   "source": [
    "from sympy.matrices import Matrix"
   ]
  },
  {
   "cell_type": "code",
   "execution_count": 38,
   "id": "5dc6231d",
   "metadata": {},
   "outputs": [],
   "source": [
    "m, ga, k, om0, omd, F0 = symbols(\"m ga k om0 omd F0\", positive=True)"
   ]
  },
  {
   "cell_type": "code",
   "execution_count": 39,
   "id": "12b89e8d",
   "metadata": {},
   "outputs": [
    {
     "data": {
      "text/latex": [
       "$\\displaystyle \\left[\\begin{matrix}\\frac{F_{0} m \\left(om_{0}^{2} - omd^{2}\\right)}{ga omd \\left(ga omd + \\frac{m^{2} \\left(om_{0}^{2} - omd^{2}\\right)^{2}}{ga omd}\\right)}\\\\\\frac{F_{0}}{ga omd + \\frac{m^{2} \\left(om_{0}^{2} - omd^{2}\\right)^{2}}{ga omd}}\\end{matrix}\\right]$"
      ],
      "text/plain": [
       "Matrix([\n",
       "[F0*m*(om0**2 - omd**2)/(ga*omd*(ga*omd + m**2*(om0**2 - omd**2)**2/(ga*omd)))],\n",
       "[                             F0/(ga*omd + m**2*(om0**2 - omd**2)**2/(ga*omd))]])"
      ]
     },
     "execution_count": 39,
     "metadata": {},
     "output_type": "execute_result"
    }
   ],
   "source": [
    "M = Matrix([[m*(om0**2-omd**2),ga*omd], [-ga*omd,m*(om0**2-omd**2)]]); \n",
    "F = Matrix(2,1,[F0,0]); F \n",
    "M.LUsolve(F)"
   ]
  },
  {
   "cell_type": "code",
   "execution_count": 40,
   "id": "3d278aef",
   "metadata": {},
   "outputs": [
    {
     "data": {
      "text/latex": [
       "$\\displaystyle u{\\left(t \\right)} = C_{1} \\sin{\\left(\\frac{\\sqrt{k} t}{\\sqrt{m}} \\right)} + C_{2} \\cos{\\left(\\frac{\\sqrt{k} t}{\\sqrt{m}} \\right)}$"
      ],
      "text/plain": [
       "Eq(u(t), C1*sin(sqrt(k)*t/sqrt(m)) + C2*cos(sqrt(k)*t/sqrt(m)))"
      ]
     },
     "execution_count": 40,
     "metadata": {},
     "output_type": "execute_result"
    }
   ],
   "source": [
    "# model without damping \n",
    "eq = m*u(t).diff(t,t) + k*u(t)\n",
    "ics={u(0): 1, u(t).diff(t).subs(t, 0): 0} \n",
    "sol = dsolve(eq,simplify=True,complex=True)\n",
    "sol"
   ]
  },
  {
   "cell_type": "code",
   "execution_count": 41,
   "id": "45c338b4",
   "metadata": {},
   "outputs": [
    {
     "data": {
      "text/latex": [
       "$\\displaystyle u{\\left(t \\right)} = C_{1} e^{\\frac{t \\left(- ga - \\sqrt{ga^{2} - 4 k m}\\right)}{2 m}} + C_{2} e^{\\frac{t \\left(- ga + \\sqrt{ga^{2} - 4 k m}\\right)}{2 m}}$"
      ],
      "text/plain": [
       "Eq(u(t), C1*exp(t*(-ga - sqrt(ga**2 - 4*k*m))/(2*m)) + C2*exp(t*(-ga + sqrt(ga**2 - 4*k*m))/(2*m)))"
      ]
     },
     "execution_count": 41,
     "metadata": {},
     "output_type": "execute_result"
    }
   ],
   "source": [
    "# model with damping - requires additional assumptions on the amount of damping \n",
    "eq = m*u(t).diff(t,t) + ga*u(t).diff(t) + k*u(t)\n",
    "ics={u(0): 1, u(t).diff(t).subs(t, 0): 0} \n",
    "sol = dsolve(eq,simplify=True,complex=True)\n",
    "sol"
   ]
  },
  {
   "cell_type": "code",
   "execution_count": null,
   "id": "8a86483e",
   "metadata": {},
   "outputs": [],
   "source": []
  }
 ],
 "metadata": {
  "kernelspec": {
   "display_name": "Python 3",
   "language": "python",
   "name": "python3"
  },
  "language_info": {
   "codemirror_mode": {
    "name": "ipython",
    "version": 3
   },
   "file_extension": ".py",
   "mimetype": "text/x-python",
   "name": "python",
   "nbconvert_exporter": "python",
   "pygments_lexer": "ipython3",
   "version": "3.7.10"
  }
 },
 "nbformat": 4,
 "nbformat_minor": 5
}
