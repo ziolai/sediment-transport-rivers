{
 "cells": [
  {
   "cell_type": "markdown",
   "id": "a60eff11",
   "metadata": {},
   "source": [
    "# Analytical and Symbolical Computations \n",
    "\n",
    "This notebook employs sympy. "
   ]
  },
  {
   "cell_type": "markdown",
   "id": "81db82ce",
   "metadata": {},
   "source": [
    "## Import Package "
   ]
  },
  {
   "cell_type": "code",
   "execution_count": 31,
   "id": "ee685205",
   "metadata": {},
   "outputs": [],
   "source": [
    "import numpy as np\n",
    "import sympy as sym\n",
    "from sympy import Function, dsolve, Eq, Derivative, sin, cos, symbols, pi\n",
    "from sympy.abc import t\n",
    "u = Function('u')"
   ]
  },
  {
   "cell_type": "markdown",
   "id": "b0dab1ae",
   "metadata": {},
   "source": [
    "## Section 1: Analytical Computations\n",
    "\n",
    "### Useful Formulas \n",
    "\n",
    "We will use \n",
    "\n",
    "$\\sin^3(\\theta) = \\frac{3}{4} \\, \\sin(\\theta) - \\frac{1}{4} \\, \\sin(3 \\, \\theta)$ and \n",
    "\n",
    "$\\cos^3(\\theta) = \\frac{3}{4} \\, \\cos(\\theta) + \\frac{1}{4} \\, \\cos(3 \\, \\theta) $\n",
    "\n",
    "$ [ A \\, \\sin(\\theta) + B \\, \\cos(\\theta) ]^3 = A^3 \\, \\sin^3(\\theta) + B^3 \\, \\cos^3(\\theta) \n",
    "+ 3 \\, A^2 \\, B \\, \\sin^2(\\theta) \\cos(\\theta) + 3 \\, A \\, B^2 \\, \\sin(\\theta) \\cos^2(\\theta) $ \n",
    "\n",
    "$ [ A \\, \\sin(\\theta) + B \\, \\cos(\\theta) ]^3 = A^3 \\, \\sin^3(\\theta) + B^3 \\, \\cos^3(\\theta) \n",
    "+ 3 \\, A^2 \\, B \\, [1 - \\cos^2(\\theta)] \\, \\cos(\\theta)  + 3 \\, A \\, B^2 \\, \\sin(\\theta) \\, [1 - \\sin^2(\\theta)] $\n",
    "\n",
    "$ [ A \\, \\sin(\\theta) + B \\, \\cos(\\theta) ]^3 = A^3 \\, \\sin^3(\\theta) + B^3 \\, \\cos^3(\\theta) \n",
    "+ 3 \\, A^2 \\, B \\, [\\cos(\\theta) - \\cos^3(\\theta)]  + 3 \\, A \\, B^2 \\, [ \\sin(\\theta) - \\sin^3(\\theta)] $\n",
    "\n",
    "$ [ A \\, \\sin(\\theta) + B \\, \\cos(\\theta) ]^3 = [ A^3 - 3 \\, A \\, B^2 ] \\, \\sin^3(\\theta) \n",
    "+ [ B^3 - 3 \\, A^2 \\, B ] \\, \\cos^3(\\theta) + 3 \\, A^2 \\, B \\, \\cos(\\theta)  + 3 \\, A \\, B^2 \\, \\sin(\\theta) $\n",
    "\n",
    "Terms in $\\sin(\\theta)$: \n",
    "$ \\frac{3}{4} \\, [ A^3 - 3 \\, A \\, B^2 ] \\sin(\\theta) + 3 \\, A \\, B^2 \\, \\sin(\\theta) = \n",
    "[ \\frac{3}{4} \\, A^3 + \\frac{3}{4} \\, A \\, B^2 ] \\sin(\\theta) $\n",
    "\n",
    "Terms in $\\cos(\\theta)$:\n",
    "$ \\frac{3}{4} \\, [ B^3 - 3 \\, A^2 \\, B ] \\cos(\\theta) + 3 \\, A^2 \\, B \\, \\cos(\\theta) = \n",
    "[ \\frac{3}{4} \\, B^3 + \\frac{3}{4} \\, A^2 \\, B ] \\cos(\\theta) $\n",
    "\n",
    "Extend with terms in $\\sin(3 \\, \\theta)$ and $\\cos(3 \\, \\theta)$"
   ]
  },
  {
   "cell_type": "code",
   "execution_count": null,
   "id": "086708f6",
   "metadata": {},
   "outputs": [],
   "source": []
  },
  {
   "cell_type": "markdown",
   "id": "6bfaca2e",
   "metadata": {},
   "source": [
    "## Section 2: Symbolic Computations \n",
    "\n",
    "Solve scalar ODE for a mass-damper system. \n",
    "\n",
    "To do: extend with second order ODE for mass-spring-damper system with time-harmonic forcing. Show that harmonic balancing in the linear case is exact.    "
   ]
  },
  {
   "cell_type": "code",
   "execution_count": 18,
   "id": "1ab7eb03",
   "metadata": {},
   "outputs": [
    {
     "data": {
      "text/latex": [
       "$\\displaystyle u{\\left(t \\right)} = \\left(C_{1} + \\frac{e^{t} \\sin{\\left(4 \\pi t \\right)}}{1 + 16 \\pi^{2}} - \\frac{4 \\pi e^{t} \\cos{\\left(4 \\pi t \\right)}}{1 + 16 \\pi^{2}}\\right) e^{- t}$"
      ],
      "text/plain": [
       "Eq(u(t), (C1 + exp(t)*sin(4*pi*t)/(1 + 16*pi**2) - 4*pi*exp(t)*cos(4*pi*t)/(1 + 16*pi**2))*exp(-t))"
      ]
     },
     "execution_count": 18,
     "metadata": {},
     "output_type": "execute_result"
    }
   ],
   "source": [
    "dsolve(Derivative(u(t), t) + u(t)-sin(4*pi*t), u(t))"
   ]
  },
  {
   "cell_type": "code",
   "execution_count": 36,
   "id": "bc1ae842",
   "metadata": {},
   "outputs": [
    {
     "data": {
      "text/latex": [
       "$\\displaystyle u{\\left(t \\right)} = \\left(\\frac{e^{t} \\sin{\\left(4 \\pi t \\right)}}{1 + 16 \\pi^{2}} - \\frac{4 \\pi e^{t} \\cos{\\left(4 \\pi t \\right)}}{1 + 16 \\pi^{2}} + \\frac{1 + 4 \\pi + 16 \\pi^{2}}{1 + 16 \\pi^{2}}\\right) e^{- t}$"
      ],
      "text/plain": [
       "Eq(u(t), (exp(t)*sin(4*pi*t)/(1 + 16*pi**2) - 4*pi*exp(t)*cos(4*pi*t)/(1 + 16*pi**2) + (1 + 4*pi + 16*pi**2)/(1 + 16*pi**2))*exp(-t))"
      ]
     },
     "execution_count": 36,
     "metadata": {},
     "output_type": "execute_result"
    }
   ],
   "source": [
    "eq = u(t).diff(t) + u(t) - sin(4*pi*t)\n",
    "ics={u(0): 1} \n",
    "sol = dsolve(eq,u(t),ics={u(0): 1})\n",
    "sol"
   ]
  },
  {
   "cell_type": "code",
   "execution_count": 53,
   "id": "54131abd",
   "metadata": {},
   "outputs": [
    {
     "ename": "TypeError",
     "evalue": "'property' object is not iterable",
     "output_type": "error",
     "traceback": [
      "\u001b[0;31m---------------------------------------------------------------------------\u001b[0m",
      "\u001b[0;31mTypeError\u001b[0m                                 Traceback (most recent call last)",
      "\u001b[0;32m<ipython-input-53-57ef3a9b00ac>\u001b[0m in \u001b[0;36m<module>\u001b[0;34m\u001b[0m\n\u001b[0;32m----> 1\u001b[0;31m \u001b[0msol_lambda\u001b[0m \u001b[0;34m=\u001b[0m \u001b[0msym\u001b[0m\u001b[0;34m.\u001b[0m\u001b[0mlambdify\u001b[0m\u001b[0;34m(\u001b[0m\u001b[0mt\u001b[0m\u001b[0;34m,\u001b[0m\u001b[0mu\u001b[0m\u001b[0;34m)\u001b[0m\u001b[0;34m\u001b[0m\u001b[0;34m\u001b[0m\u001b[0m\n\u001b[0m",
      "\u001b[0;32m/opt/anaconda3/lib/python3.7/site-packages/sympy/utilities/lambdify.py\u001b[0m in \u001b[0;36mlambdify\u001b[0;34m(args, expr, modules, printer, use_imps, dummify)\u001b[0m\n\u001b[1;32m    764\u001b[0m     \u001b[0;31m# First find any function implementations\u001b[0m\u001b[0;34m\u001b[0m\u001b[0;34m\u001b[0m\u001b[0;34m\u001b[0m\u001b[0m\n\u001b[1;32m    765\u001b[0m     \u001b[0;32mif\u001b[0m \u001b[0muse_imps\u001b[0m\u001b[0;34m:\u001b[0m\u001b[0;34m\u001b[0m\u001b[0;34m\u001b[0m\u001b[0m\n\u001b[0;32m--> 766\u001b[0;31m         \u001b[0mnamespaces\u001b[0m\u001b[0;34m.\u001b[0m\u001b[0mappend\u001b[0m\u001b[0;34m(\u001b[0m\u001b[0m_imp_namespace\u001b[0m\u001b[0;34m(\u001b[0m\u001b[0mexpr\u001b[0m\u001b[0;34m)\u001b[0m\u001b[0;34m)\u001b[0m\u001b[0;34m\u001b[0m\u001b[0;34m\u001b[0m\u001b[0m\n\u001b[0m\u001b[1;32m    767\u001b[0m     \u001b[0;31m# Check for dict before iterating\u001b[0m\u001b[0;34m\u001b[0m\u001b[0;34m\u001b[0m\u001b[0;34m\u001b[0m\u001b[0m\n\u001b[1;32m    768\u001b[0m     \u001b[0;32mif\u001b[0m \u001b[0misinstance\u001b[0m\u001b[0;34m(\u001b[0m\u001b[0mmodules\u001b[0m\u001b[0;34m,\u001b[0m \u001b[0;34m(\u001b[0m\u001b[0mdict\u001b[0m\u001b[0;34m,\u001b[0m \u001b[0mstr\u001b[0m\u001b[0;34m)\u001b[0m\u001b[0;34m)\u001b[0m \u001b[0;32mor\u001b[0m \u001b[0;32mnot\u001b[0m \u001b[0mhasattr\u001b[0m\u001b[0;34m(\u001b[0m\u001b[0mmodules\u001b[0m\u001b[0;34m,\u001b[0m \u001b[0;34m'__iter__'\u001b[0m\u001b[0;34m)\u001b[0m\u001b[0;34m:\u001b[0m\u001b[0;34m\u001b[0m\u001b[0;34m\u001b[0m\u001b[0m\n",
      "\u001b[0;32m/opt/anaconda3/lib/python3.7/site-packages/sympy/utilities/lambdify.py\u001b[0m in \u001b[0;36m_imp_namespace\u001b[0;34m(expr, namespace)\u001b[0m\n\u001b[1;32m   1275\u001b[0m     \u001b[0;31m# and / or they may take Functions as arguments\u001b[0m\u001b[0;34m\u001b[0m\u001b[0;34m\u001b[0m\u001b[0;34m\u001b[0m\u001b[0m\n\u001b[1;32m   1276\u001b[0m     \u001b[0;32mif\u001b[0m \u001b[0mhasattr\u001b[0m\u001b[0;34m(\u001b[0m\u001b[0mexpr\u001b[0m\u001b[0;34m,\u001b[0m \u001b[0;34m'args'\u001b[0m\u001b[0;34m)\u001b[0m\u001b[0;34m:\u001b[0m\u001b[0;34m\u001b[0m\u001b[0;34m\u001b[0m\u001b[0m\n\u001b[0;32m-> 1277\u001b[0;31m         \u001b[0;32mfor\u001b[0m \u001b[0marg\u001b[0m \u001b[0;32min\u001b[0m \u001b[0mexpr\u001b[0m\u001b[0;34m.\u001b[0m\u001b[0margs\u001b[0m\u001b[0;34m:\u001b[0m\u001b[0;34m\u001b[0m\u001b[0;34m\u001b[0m\u001b[0m\n\u001b[0m\u001b[1;32m   1278\u001b[0m             \u001b[0m_imp_namespace\u001b[0m\u001b[0;34m(\u001b[0m\u001b[0marg\u001b[0m\u001b[0;34m,\u001b[0m \u001b[0mnamespace\u001b[0m\u001b[0;34m)\u001b[0m\u001b[0;34m\u001b[0m\u001b[0;34m\u001b[0m\u001b[0m\n\u001b[1;32m   1279\u001b[0m     \u001b[0;32mreturn\u001b[0m \u001b[0mnamespace\u001b[0m\u001b[0;34m\u001b[0m\u001b[0;34m\u001b[0m\u001b[0m\n",
      "\u001b[0;31mTypeError\u001b[0m: 'property' object is not iterable"
     ]
    }
   ],
   "source": [
    "sol_lambda = sym.lambdify(t,u)"
   ]
  },
  {
   "cell_type": "code",
   "execution_count": 44,
   "id": "e0d8f364",
   "metadata": {},
   "outputs": [
    {
     "ename": "NameError",
     "evalue": "name 'u' is not defined",
     "output_type": "error",
     "traceback": [
      "\u001b[0;31m---------------------------------------------------------------------------\u001b[0m",
      "\u001b[0;31mNameError\u001b[0m                                 Traceback (most recent call last)",
      "\u001b[0;32m<ipython-input-44-a284f94a3326>\u001b[0m in \u001b[0;36m<module>\u001b[0;34m\u001b[0m\n\u001b[1;32m      1\u001b[0m \u001b[0mnsamples\u001b[0m \u001b[0;34m=\u001b[0m \u001b[0;36m100\u001b[0m\u001b[0;34m\u001b[0m\u001b[0;34m\u001b[0m\u001b[0m\n\u001b[1;32m      2\u001b[0m \u001b[0mtvec\u001b[0m \u001b[0;34m=\u001b[0m \u001b[0mnp\u001b[0m\u001b[0;34m.\u001b[0m\u001b[0mlinspace\u001b[0m\u001b[0;34m(\u001b[0m\u001b[0;36m0\u001b[0m\u001b[0;34m,\u001b[0m\u001b[0;36m1\u001b[0m\u001b[0;34m,\u001b[0m\u001b[0mnsamples\u001b[0m\u001b[0;34m)\u001b[0m\u001b[0;34m\u001b[0m\u001b[0;34m\u001b[0m\u001b[0m\n\u001b[0;32m----> 3\u001b[0;31m \u001b[0msol_vec\u001b[0m \u001b[0;34m=\u001b[0m \u001b[0msol_lambda\u001b[0m\u001b[0;34m(\u001b[0m\u001b[0mtvec\u001b[0m\u001b[0;34m)\u001b[0m\u001b[0;34m\u001b[0m\u001b[0;34m\u001b[0m\u001b[0m\n\u001b[0m",
      "\u001b[0;32m<lambdifygenerated-4>\u001b[0m in \u001b[0;36m_lambdifygenerated\u001b[0;34m(t)\u001b[0m\n\u001b[1;32m      1\u001b[0m \u001b[0;32mdef\u001b[0m \u001b[0m_lambdifygenerated\u001b[0m\u001b[0;34m(\u001b[0m\u001b[0mt\u001b[0m\u001b[0;34m)\u001b[0m\u001b[0;34m:\u001b[0m\u001b[0;34m\u001b[0m\u001b[0;34m\u001b[0m\u001b[0m\n\u001b[0;32m----> 2\u001b[0;31m     \u001b[0;32mreturn\u001b[0m \u001b[0;34m(\u001b[0m\u001b[0mu\u001b[0m\u001b[0;34m(\u001b[0m\u001b[0mt\u001b[0m\u001b[0;34m)\u001b[0m\u001b[0;34m)\u001b[0m\u001b[0;34m\u001b[0m\u001b[0;34m\u001b[0m\u001b[0m\n\u001b[0m",
      "\u001b[0;31mNameError\u001b[0m: name 'u' is not defined"
     ]
    }
   ],
   "source": [
    "nsamples = 100 \n",
    "tvec = np.linspace(0,1,nsamples)\n",
    "sol_vec = sol_lambda(tvec)"
   ]
  },
  {
   "cell_type": "code",
   "execution_count": null,
   "id": "5dc6231d",
   "metadata": {},
   "outputs": [],
   "source": []
  }
 ],
 "metadata": {
  "kernelspec": {
   "display_name": "Python 3",
   "language": "python",
   "name": "python3"
  },
  "language_info": {
   "codemirror_mode": {
    "name": "ipython",
    "version": 3
   },
   "file_extension": ".py",
   "mimetype": "text/x-python",
   "name": "python",
   "nbconvert_exporter": "python",
   "pygments_lexer": "ipython3",
   "version": "3.7.10"
  }
 },
 "nbformat": 4,
 "nbformat_minor": 5
}
