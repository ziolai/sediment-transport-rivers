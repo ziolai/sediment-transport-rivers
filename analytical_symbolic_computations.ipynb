{
 "cells": [
  {
   "cell_type": "markdown",
   "id": "a60eff11",
   "metadata": {},
   "source": [
    "# Analytical and Symbolical Computations \n",
    "\n",
    "This notebook should be run in the Python kerneel as parts employs sympy. "
   ]
  },
  {
   "cell_type": "markdown",
   "id": "81db82ce",
   "metadata": {},
   "source": [
    "## Import Package "
   ]
  },
  {
   "cell_type": "code",
   "execution_count": 1,
   "id": "ee685205",
   "metadata": {},
   "outputs": [],
   "source": [
    "import numpy as np\n",
    "import sympy as sym\n",
    "from sympy import Function, dsolve, Eq, Derivative, sin, cos, symbols, pi\n",
    "from sympy.abc import t\n",
    "u = Function('u')"
   ]
  },
  {
   "cell_type": "markdown",
   "id": "7d2e68cb",
   "metadata": {},
   "source": [
    "To do:\n",
    "1. replace notion $S_1$ for $A$ and $C_1$ for $B$; \n",
    "2. extend computation to third harmonic; \n",
    "3. extend computation to approximation by first and third harmonic; \n",
    "4. extend model to second order ODE; "
   ]
  },
  {
   "cell_type": "markdown",
   "id": "b0dab1ae",
   "metadata": {},
   "source": [
    "## Section 1: Analytical Computations\n",
    "\n",
    "### Useful Formulas \n",
    "\n",
    "We will use that \n",
    "\n",
    "$A \\cos(\\omega \\, t) + B \\sin(\\omega \\, t) = C \\sin(\\omega \\, t + \\phi)$ \n",
    "\n",
    "where $C = \\pm \\sqrt{A^2+B^2}$ and $\\phi = -A/B$. \n",
    "\n",
    "We will also use that  \n",
    "\n",
    "$\\sin^3(\\theta) = \\frac{3}{4} \\, \\sin(\\theta) - \\frac{1}{4} \\, \\sin(3 \\, \\theta)$ and \n",
    "\n",
    "$\\cos^3(\\theta) = \\frac{3}{4} \\, \\cos(\\theta) + \\frac{1}{4} \\, \\cos(3 \\, \\theta) $\n",
    "\n",
    "$ [ A \\, \\cos(\\theta) + B \\, \\sin(\\theta) ]^3 = A^3 \\, \\cos^3(\\theta) + B^3 \\, \\sin^3(\\theta) \n",
    "+ 3 \\, A^2 \\, B \\, \\cos^2(\\theta) \\sin(\\theta) + 3 \\, A \\, B^2 \\, \\cos(\\theta) \\sin\n",
    "^2(\\theta) $ \n",
    "\n",
    "$ [ A \\, \\cos(\\theta) + B \\, \\sin(\\theta) ]^3 = A^3 \\, \\cos^3(\\theta) + B^3 \\, \\sin^3(\\theta) \n",
    "+ 3 \\, A^2 \\, B \\, [1 - \\sin^2(\\theta)] \\, \\sin(\\theta)  + 3 \\, A \\, B^2 \\, \\cos(\\theta) \\, [1 - \\cos^2(\\theta)] $\n",
    "\n",
    "$ [ A \\, \\cos(\\theta) + B \\, \\sin(\\theta) ]^3 = A^3 \\, \\cos^3(\\theta) + B^3 \\, \\sin^3(\\theta) \n",
    "+ 3 \\, A^2 \\, B \\, [\\sin(\\theta) - \\sin^3(\\theta)]  + 3 \\, A \\, B^2 \\, [ \\cos(\\theta) - \\cos^3(\\theta)] $\n",
    "\n",
    "$ [ A \\, \\cos(\\theta) + B \\, \\sin(\\theta) ]^3 = [ A^3 - 3 \\, A \\, B^2 ] \\, \\cos^3(\\theta) \n",
    "+ [ B^3 - 3 \\, A^2 \\, B ] \\, \\sin^3(\\theta) + 3 \\, A^2 \\, B \\, \\sin(\\theta)  + 3 \\, A \\, B^2 \\, \\cos(\\theta) $\n",
    "\n",
    "$ [ A \\, \\cos(\\theta) + B \\, \\sin(\\theta) ]^3 = \n",
    "[ A^3 - 3 \\, A \\, B^2 ] \\, \\left[  \\frac{3}{4} \\, \\cos(\\theta) + \\frac{1}{4} \\, \\cos(3 \\, \\theta) \\right] \n",
    "+ [ B^3 - 3 \\, A^2 \\, B ] \\, \\left[ \\frac{3}{4} \\, \\sin(\\theta) - \\frac{1}{4} \\, \\sin(3 \\, \\theta) \\right]   \n",
    "+ 3 \\, A^2 \\, B \\, \\sin(\\theta)  + 3 \\, A \\, B^2 \\, \\cos(\\theta) $\n",
    "\n",
    "Terms in $\\cos(\\theta)$: \n",
    "$ \\frac{3}{4} \\, [ A^3 - 3 \\, A \\, B^2 ] \\cos(\\theta) + 3 \\, A \\, B^2 \\, \\cos(\\theta) = \n",
    "[ \\frac{3}{4} \\, A^3 + \\frac{3}{4} \\, A \\, B^2 ] \\cos(\\theta) $\n",
    "\n",
    "Terms in $\\sin(\\theta)$:\n",
    "$ \\frac{3}{4} \\, [ B^3 - 3 \\, A^2 \\, B ] \\sin(\\theta) + 3 \\, A^2 \\, B \\, \\sin(\\theta) = \n",
    "[ \\frac{3}{4} \\, B^3 + \\frac{3}{4} \\, A^2 \\, B ] \\sin(\\theta) $\n",
    "\n",
    "$ [A + B + C]^3 = \n",
    "   A^3 + B^3 + C^3 + 3 \\, A^2 \\, B + 3 \\, A^2 \\, C + 3 \\, A \\, B^2 + 3 \\, B^2 \\, C \n",
    "   + 3 \\, A \\, C^2 + 3 \\, B \\, C^2 + 6 \\, A \\, B \\, C$ \n",
    "   \n",
    "#### Two Harmonic Components \n",
    "\n",
    "Howe does HarmonicBalance.jl manage the computation that follows?  \n",
    "\n",
    "$ [A_0 + A_1 \\, \\cos(\\theta) + B_1 \\, \\sin(\\theta) + A_3 \\, \\cos(3 \\theta) + B_3 \\, \\sin(\\theta)]^3 = $\n",
    "(a number of terms goes here)\n",
    "\n",
    "Terms in constant: \n",
    "\n",
    "Terms in $\\cos(\\theta)$:\n",
    "\n",
    "Terms in $\\sin(\\theta)$:\n",
    "\n",
    "Terms in $\\cos(3 \\theta)$:\n",
    "\n",
    "Terms in $\\sin(3 \\theta)$:\n",
    "\n",
    "Form matrix of the linear system. What is the sparsity pattern of the matrix? \n",
    "\n",
    "### Mass-Spring System  - No External Forcing\n",
    "\n",
    "Equation to solve \n",
    "$$ \n",
    "m \\, \\ddot{u}(t) + k \\, u(t) = 0 \\, . \n",
    "$$\n",
    "\n",
    "Assume homogeneous solution of the form $u_h(t) = \\exp(r \\, t)$ with $r$ to be determined. Substituting in the equation yields $ m \\, r^2 + k = 0$. Thus $r = \\pm \\omega_0$ with $\\omega_0 = \\sqrt{k/m}$. Solution is thus \n",
    "$u(t) = C_1 \\, \\cos(\\omega_0 \\, t)+ C_2 \\, \\sin(\\omega_0 \\, t)$ with $C_1$ and $C_2$ from the initial conditions. \n",
    "\n",
    "### Mass-Spring-Damper System - No External Forcing\n",
    "\n",
    "Equation to solve \n",
    "$$ \n",
    "m \\, \\ddot{u}(t) + \\gamma \\, \\dot{u}(t) + k \\, u(t) = 0 \\, . \n",
    "$$\n",
    "\n",
    "Assume homogeneous solution of the form $u_h(t) = \\exp(r \\, t)$ with $r$ to be determined. Substituting in the equation yields $ m \\, r^2 + \\gamma \\, r + k = 0$. We assume damping small enough to avoid critical damping. Then $r = -\\gamma/(2\\,m) \\pm \\iota \\Omega_0$ with \n",
    "$\\Omega_0 = \\sqrt{k/m - (\\gamma/(2\\,m))^2}$. Solution is thus \n",
    "$u(t) = \\exp(-\\gamma/(2\\,m) \\, t) \\, [ C_1 \\, \\cos(\\Omega_0 \\, t)+ C_2 \\, \\sin(\\Omega_0 \\, t) ] $ with $C_1$ and $C_2$ from the initial conditions.\n",
    "\n",
    "### Mass-Spring-Damper System - Sinusoidal Forcing \n",
    "\n",
    "Equation to solve \n",
    "\n",
    "$$ \n",
    "m \\, \\ddot{u}(t) + \\gamma \\, \\dot{u}(t)+ k \\, u(t) = F_0 \\sin(\\omega_d \\, t) \\, . \n",
    "$$\n",
    "\n",
    "Assume particular solution of the form $u_p(t) = A \\, \\cos(\\omega_d \\, t) + B \\, \\sin(\\omega_d \\, t)$. Observe that nothing prevents $A$ and $B$ to attain negative values. We use the method of variation of constants (precursor of the harmonic balance method) to determine the coefficients $A$ and $B$. After substitution, we obtain that $m \\, \\ddot{u}(t) = - m \\, \\omega_d^2 \\, A \\, \\cos(\\omega_d t) - m \\, \\omega_d^2 \\, B \\, \\sin(\\omega_d t)$ and $\\gamma \\, \\dot{u}(t) = \\gamma \\, \\omega_d \\, B \\, \\cos(\\omega_d \\, t) - \\gamma \\omega_d \\, A \\, \\sin(\\omega_d \\, t) $ and therefore that $m \\, \\ddot{u}(t) + \\gamma \\, \\dot{u}(t)+ k \\, u(t) = (- m \\, \\omega_d^2 \\, A + \\gamma \\, \\omega_d \\, B + k \\, A) \\, \\cos(\\omega_d \\, t) + (- m \\, \\omega_d^2 \\, B - \\gamma \\, \\omega_d \\, B + k \\, B) \\, \\sin(\\omega_d \\, t) $. We obtain the following linear system for the coefficients $A$ and $B$ \n",
    "\n",
    "$$\n",
    "( - m \\, \\omega_d^2 + k) \\, A + \\gamma \\, \\omega_d \\, B = 0 \\\\\n",
    "- \\gamma \\, \\omega_d \\, A + ( - m \\, \\omega_d^2 + k) \\, B = F_0 \\, , \n",
    "$$\n",
    "\n",
    "or equivalently  \n",
    "\n",
    "$$\n",
    "m \\, ( \\omega_0^2 - \\omega_d^2) \\, A + \\gamma \\, \\omega_d \\, B = 0 \\\\\n",
    "- \\gamma \\, \\omega_d \\, A + m \\, (\\omega_0^2 - \\omega_d^2 ) \\, B = F_0 \\, . \n",
    "$$\n",
    "\n",
    "\n",
    "This linear system has solution $A = D_1 / D$ and $B = D_2 / D$ where \n",
    "\n",
    "$$ \n",
    "D_1 = \\left| \\begin{array}{cc} 0 & \\gamma \\, \\omega_d \\\\ F_0 & - m \\, \\omega_d^2 + k \\end{array} \\right| = - \\gamma \\, \\omega_d \\, F_0 \\\\\n",
    "%\n",
    "D_2 = \\left| \\begin{array}{cc} - m \\, \\omega_d^2 + k & 0 \\\\ -\\gamma \\, \\omega_d & F_0 \\end{array} \\right| = ( - m \\, \\omega_d^2 + k) \\, F_0 \n",
    "= m \\, (\\omega_0^2 - \\omega_d^2) \\, F_0 \\\\ \n",
    "% \n",
    "D = \\left| \\begin{array}{cc} - m \\, \\omega_d^2 + k & \\gamma \\, \\omega_d \\\\ -\\gamma \\, \\omega_d & - m \\, \\omega_d^2 + k \\end{array} \\right| \n",
    "= (- m \\, \\omega_d^2 + k)^2 + \\gamma^2 \\, \\omega_d^2 \n",
    "= m^2 \\, (\\omega_0^2 - \\omega_d^2)^2 + \\gamma^2 \\, \\omega_d^2 \n",
    "$$\n",
    "\n",
    "We have that $D_1^2+D_2^2 = D\\,F_0^2$. \n",
    "We thus have that $A^2 + B^2 = (D_1^2+D_2^2)/ D^2 = F_0^2/D$. Thus $C = \\sqrt{A^2+B^2} = F_0 / \\sqrt{D} \n",
    "= F_0 / \\sqrt{ m^2 \\, (\\omega_0^2 - \\omega_d^2)^2 + \\gamma^2 \\, \\omega_d^2 }$. \n",
    "\n",
    "We thus have that \n",
    "$$\n",
    "u(t) = u_p(t) \n",
    "= F_0 / \\sqrt{ m^2 \\, (\\omega_0^2 - \\omega_d^2)^2 + \\gamma^2 \\, \\omega_d^2 } \n",
    "  \\sin(\\omega_d \\, t + \\phi) \\text{ for } t \\rightarrow \\infty \n",
    "$$\n",
    "\n",
    "Observe that the resonance occurs at $\\omega_0 = \\omega_d$ (driving frequency equal to the natural frequency of the system). Observe that the amplitude of $u_p(t)$ is independent of the initial conditions for $u(t)$ and $\\dot{u}(t)$.\n",
    "\n",
    "### Cubic Spring Modem and Harmonic Balance Method: Scalar Case: Single Harmonic  \n",
    "\n",
    "Equation to solve\n",
    "\n",
    "$$ \n",
    "m \\, \\ddot{u}(t) + \\gamma \\, \\dot{u}(t)+ k_1 \\, u(t) + k_3 \\, u^3(t) \n",
    "= F_0 \\sin(\\omega_d \\, t) \\, . \n",
    "$$\n",
    "\n",
    "We look for a solution of the form \n",
    "\n",
    "$$\n",
    "  u(t) = A \\cos(\\omega \\, t) + B \\sin(\\omega \\, t) \\, . \n",
    "$$\n",
    "\n",
    "where $A$ and $B$ are scalar coefficients (amplitudes) to be determined. \n",
    "\n",
    "Using the above formulas, one arrives at a third polynomial (thus non-linear) system for $A$ and $B$ given as   \n",
    "\n",
    "$$\n",
    "m \\, (\\omega_0^2 - \\omega_d^2) \\, A + \\gamma \\, \\omega_d \\, B \n",
    "+ k_3 \\, [ \\frac{3}{4} \\, A^3 + \\frac{3}{4} \\, A \\, B^2 ] = 0 \\\\\n",
    "- \\gamma \\, \\omega_d \\, A + m \\, (\\omega_0^2 - \\omega_d^2) \\, B \n",
    "+ k_3 \\, [ \\frac{3}{4} \\, B^3 + \\frac{3}{4} \\, A^2 \\, B ] = F_0 \\, . \n",
    "$$\n",
    "\n",
    "Observe that the systems depends on the paramater $\\omega_d$ (driving frequency). It is this \n",
    "driving frequency that is varried in many sources on the Duffing Equation. Similar expressions are derived in the documentation of the package [HarmonicBalance](https://nonlinearoscillations.github.io/HarmonicBalance.jl/stable/) in the section entitled\n",
    "<i>Single-Frequency Ansatz</i> on the [page](https://nonlinearoscillations.github.io/HarmonicBalance.jl/stable/background/harmonic_balance). \n",
    "The non-linear system for $A$ and $B$ is known to have 1 or 3 solutions (by the theorem of Bezout (see wiki) for non-linear algebraic systems that are polynomial in the unknowns). The 2-by-2 Jacobian of this system is obtained by differentiating both equations with respect to $A$ and $B$. It is interesting to investigate how the eigenvalues of this Jacobian changes with the parameters in the model, e.g., the angular frequency $\\omega_d$ of the forcing (bifurcation analysis).   \n",
    "\n",
    "### Cubic Spring Modem and Harmonic Balance Method: Scalar Case: Two Harmonics  \n",
    "\n",
    "Expand the approximation solution in terms up to $\\sin(3 \\, \\theta)$ and $\\cos(3 \\, \\theta)$\n",
    "\n",
    "$$\n",
    "  u(t) = A \\cos(\\omega \\, t) + B \\sin(\\omega \\, t) + \n",
    "         C \\cos(3 \\, \\omega \\, t) + D \\sin(3 \\,\\omega \\, t) \\, . \n",
    "$$\n",
    "\n",
    "This time one arrives at a third order polynomial system for $A$, $B$, $C$ and $D$. This system is described in the section entitled <i>Two-Frequency Ansatz</i> on the [page](https://nonlinearoscillations.github.io/HarmonicBalance.jl/stable/background/harmonic_balance). The 4-by-4 Jacobian of this system is obtained by differentiating the four equations with respect to $A$, $B$, $C$ and $D$. \n",
    "\n",
    "### Cubic Spring Modem and Harmonic Balance Method: Vector Case: Single Harmonic  \n",
    "\n",
    "Equation to solve\n",
    "\n",
    "$$ \n",
    "  M \\, \\ddot{{\\mathbf u}}(t) + \\Gamma \\, \\dot{{\\mathbf u}}(t)+ K_1 \\, {\\mathbf u}(t) \n",
    "  + k_3 \\, {\\mathbf u}.^3(t) \n",
    "  = {\\mathbf F}_0 \\sin(\\omega_d \\, t) \\, . \n",
    "$$\n",
    "\n",
    "We look for a single-mode harmonic solution of the form \n",
    "\n",
    "$$\n",
    "  {\\mathbf u}(t) = {\\mathbf A} \\cos(\\omega \\, t) + {\\mathbf B} \\sin(\\omega \\, t) \\, . \n",
    "$$\n",
    "\n",
    "where ${\\mathbf A}$ and ${\\mathbf B}$ are vector-valued coefficients (amplitudes) to be determined. \n",
    "\n",
    "We arrive at a non-linear system of the form \n",
    "\n",
    "$$\n",
    "(\\omega_0^2 - \\omega_d^2) \\, M \\, {\\mathbf A} + \\omega_d \\, \\Gamma \\, {\\mathbf B} \n",
    "+ k_3 \\, [ \\frac{3}{4} \\, {\\mathbf A}.^3 + \\frac{3}{4} \\, {\\mathbf A} .* {\\mathbf B}.^2 ] \n",
    "= {\\mathbf 0} \\\\\n",
    "- \\omega_d \\, \\Gamma \\, {\\mathbf A} + (\\omega_0^2 - \\omega_d^2) \\, M \\, {\\mathbf B} \n",
    "+ k_3 \\, [ \\frac{3}{4} \\, {\\mathbf B}.^3 + \\frac{3}{4} \\, {\\mathbf A}.^2 .* {\\mathbf B} ] = {\\mathbf F}_0 \\, . \n",
    "$$\n"
   ]
  },
  {
   "cell_type": "code",
   "execution_count": null,
   "id": "086708f6",
   "metadata": {},
   "outputs": [],
   "source": []
  },
  {
   "cell_type": "markdown",
   "id": "6bfaca2e",
   "metadata": {},
   "source": [
    "## Section 2: Symbolic Computations \n",
    "\n",
    "Solve scalar ODE for a mass-damper system. \n",
    "\n",
    "To do: extend with second order ODE for mass-spring-damper system with time-harmonic forcing. Show that harmonic balancing in the linear case is exact.    "
   ]
  },
  {
   "cell_type": "code",
   "execution_count": 3,
   "id": "1ab7eb03",
   "metadata": {},
   "outputs": [
    {
     "data": {
      "text/latex": [
       "$\\displaystyle u{\\left(t \\right)} = \\left(C_{1} + \\frac{e^{t} \\sin{\\left(4 \\pi t \\right)}}{1 + 16 \\pi^{2}} - \\frac{4 \\pi e^{t} \\cos{\\left(4 \\pi t \\right)}}{1 + 16 \\pi^{2}}\\right) e^{- t}$"
      ],
      "text/plain": [
       "Eq(u(t), (C1 + exp(t)*sin(4*pi*t)/(1 + 16*pi**2) - 4*pi*exp(t)*cos(4*pi*t)/(1 + 16*pi**2))*exp(-t))"
      ]
     },
     "execution_count": 3,
     "metadata": {},
     "output_type": "execute_result"
    }
   ],
   "source": [
    "dsolve(Derivative(u(t), t) + u(t)-sin(4*pi*t), u(t))"
   ]
  },
  {
   "cell_type": "code",
   "execution_count": 4,
   "id": "bc1ae842",
   "metadata": {},
   "outputs": [
    {
     "data": {
      "text/latex": [
       "$\\displaystyle u{\\left(t \\right)} = \\left(\\frac{e^{t} \\sin{\\left(4 \\pi t \\right)}}{1 + 16 \\pi^{2}} - \\frac{4 \\pi e^{t} \\cos{\\left(4 \\pi t \\right)}}{1 + 16 \\pi^{2}} + \\frac{1 + 4 \\pi + 16 \\pi^{2}}{1 + 16 \\pi^{2}}\\right) e^{- t}$"
      ],
      "text/plain": [
       "Eq(u(t), (exp(t)*sin(4*pi*t)/(1 + 16*pi**2) - 4*pi*exp(t)*cos(4*pi*t)/(1 + 16*pi**2) + (1 + 4*pi + 16*pi**2)/(1 + 16*pi**2))*exp(-t))"
      ]
     },
     "execution_count": 4,
     "metadata": {},
     "output_type": "execute_result"
    }
   ],
   "source": [
    "eq = u(t).diff(t) + u(t) - sin(4*pi*t)\n",
    "ics={u(0): 1} \n",
    "sol = dsolve(eq,u(t),ics={u(0): 1})\n",
    "sol"
   ]
  },
  {
   "cell_type": "code",
   "execution_count": 5,
   "id": "54131abd",
   "metadata": {},
   "outputs": [],
   "source": [
    "# sol_lambda = sym.lambdify(t,u)"
   ]
  },
  {
   "cell_type": "code",
   "execution_count": 6,
   "id": "e0d8f364",
   "metadata": {},
   "outputs": [],
   "source": [
    "nsamples = 100 \n",
    "tvec = np.linspace(0,1,nsamples)\n",
    "# sol_vec = sol_lambda(tvec)"
   ]
  },
  {
   "cell_type": "markdown",
   "id": "b6e235ba",
   "metadata": {},
   "source": [
    "## Section 3: Mass-Spring Systems "
   ]
  },
  {
   "cell_type": "code",
   "execution_count": 15,
   "id": "38a3bec5",
   "metadata": {},
   "outputs": [],
   "source": [
    "from sympy.matrices import Matrix"
   ]
  },
  {
   "cell_type": "code",
   "execution_count": 38,
   "id": "5dc6231d",
   "metadata": {},
   "outputs": [],
   "source": [
    "m, ga, k, om0, omd, F0 = symbols(\"m ga k om0 omd F0\", positive=True)"
   ]
  },
  {
   "cell_type": "code",
   "execution_count": 39,
   "id": "12b89e8d",
   "metadata": {},
   "outputs": [
    {
     "data": {
      "text/latex": [
       "$\\displaystyle \\left[\\begin{matrix}\\frac{F_{0} m \\left(om_{0}^{2} - omd^{2}\\right)}{ga omd \\left(ga omd + \\frac{m^{2} \\left(om_{0}^{2} - omd^{2}\\right)^{2}}{ga omd}\\right)}\\\\\\frac{F_{0}}{ga omd + \\frac{m^{2} \\left(om_{0}^{2} - omd^{2}\\right)^{2}}{ga omd}}\\end{matrix}\\right]$"
      ],
      "text/plain": [
       "Matrix([\n",
       "[F0*m*(om0**2 - omd**2)/(ga*omd*(ga*omd + m**2*(om0**2 - omd**2)**2/(ga*omd)))],\n",
       "[                             F0/(ga*omd + m**2*(om0**2 - omd**2)**2/(ga*omd))]])"
      ]
     },
     "execution_count": 39,
     "metadata": {},
     "output_type": "execute_result"
    }
   ],
   "source": [
    "M = Matrix([[m*(om0**2-omd**2),ga*omd], [-ga*omd,m*(om0**2-omd**2)]]); \n",
    "F = Matrix(2,1,[F0,0]); F \n",
    "M.LUsolve(F)"
   ]
  },
  {
   "cell_type": "code",
   "execution_count": 40,
   "id": "3d278aef",
   "metadata": {},
   "outputs": [
    {
     "data": {
      "text/latex": [
       "$\\displaystyle u{\\left(t \\right)} = C_{1} \\sin{\\left(\\frac{\\sqrt{k} t}{\\sqrt{m}} \\right)} + C_{2} \\cos{\\left(\\frac{\\sqrt{k} t}{\\sqrt{m}} \\right)}$"
      ],
      "text/plain": [
       "Eq(u(t), C1*sin(sqrt(k)*t/sqrt(m)) + C2*cos(sqrt(k)*t/sqrt(m)))"
      ]
     },
     "execution_count": 40,
     "metadata": {},
     "output_type": "execute_result"
    }
   ],
   "source": [
    "# model without damping \n",
    "eq = m*u(t).diff(t,t) + k*u(t)\n",
    "ics={u(0): 1, u(t).diff(t).subs(t, 0): 0} \n",
    "sol = dsolve(eq,simplify=True,complex=True)\n",
    "sol"
   ]
  },
  {
   "cell_type": "code",
   "execution_count": 41,
   "id": "45c338b4",
   "metadata": {},
   "outputs": [
    {
     "data": {
      "text/latex": [
       "$\\displaystyle u{\\left(t \\right)} = C_{1} e^{\\frac{t \\left(- ga - \\sqrt{ga^{2} - 4 k m}\\right)}{2 m}} + C_{2} e^{\\frac{t \\left(- ga + \\sqrt{ga^{2} - 4 k m}\\right)}{2 m}}$"
      ],
      "text/plain": [
       "Eq(u(t), C1*exp(t*(-ga - sqrt(ga**2 - 4*k*m))/(2*m)) + C2*exp(t*(-ga + sqrt(ga**2 - 4*k*m))/(2*m)))"
      ]
     },
     "execution_count": 41,
     "metadata": {},
     "output_type": "execute_result"
    }
   ],
   "source": [
    "# model with damping - requires additional assumptions on the amount of damping \n",
    "eq = m*u(t).diff(t,t) + ga*u(t).diff(t) + k*u(t)\n",
    "ics={u(0): 1, u(t).diff(t).subs(t, 0): 0} \n",
    "sol = dsolve(eq,simplify=True,complex=True)\n",
    "sol"
   ]
  },
  {
   "cell_type": "code",
   "execution_count": null,
   "id": "8a86483e",
   "metadata": {},
   "outputs": [],
   "source": []
  }
 ],
 "metadata": {
  "kernelspec": {
   "display_name": "Python 3",
   "language": "python",
   "name": "python3"
  },
  "language_info": {
   "codemirror_mode": {
    "name": "ipython",
    "version": 3
   },
   "file_extension": ".py",
   "mimetype": "text/x-python",
   "name": "python",
   "nbconvert_exporter": "python",
   "pygments_lexer": "ipython3",
   "version": "3.7.10"
  }
 },
 "nbformat": 4,
 "nbformat_minor": 5
}
